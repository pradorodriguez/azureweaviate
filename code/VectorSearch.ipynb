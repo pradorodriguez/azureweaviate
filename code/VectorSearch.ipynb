{
 "cells": [
  {
   "cell_type": "markdown",
   "metadata": {},
   "source": [
    "# Using Vector Search in Weaviate and Azure Open AI"
   ]
  },
  {
   "cell_type": "code",
   "execution_count": 20,
   "metadata": {},
   "outputs": [],
   "source": [
    "# Import libraries\n",
    "import os\n",
    "from dotenv import load_dotenv\n",
    "import json\n",
    "import requests\n",
    "import weaviate\n",
    "from weaviate import EmbeddedOptions\n",
    "from weaviate.classes.config import Configure, Property, DataType\n",
    "from weaviate.classes.query import MetadataQuery, HybridVector, Move\n",
    "import warnings\n",
    "\n",
    "warnings.filterwarnings('ignore')\n",
    "\n",
    "# Load the environment variables\n",
    "load_dotenv()\n",
    "\n",
    "aoai_key=os.environ['AZURE_OPENAI_API_KEY']\n",
    "aoai_endpoint=os.environ['AZURE_OPENAI_ENDPOINT']\n",
    "aoai_deployment=os.environ['AZURE_OPENAI_DEPLOYMENT']\n",
    "aoai_embedding=os.environ['AZURE_OPENAI_EMBEDDINGS_DEPLOYMENT']\n",
    "aoai_embedding_3=os.environ['AZURE_OPENAI_EMBEDDINGS_3_DEPLOYMENT']"
   ]
  },
  {
   "cell_type": "markdown",
   "metadata": {},
   "source": [
    "## Utility Funtions"
   ]
  },
  {
   "cell_type": "code",
   "execution_count": 22,
   "metadata": {},
   "outputs": [],
   "source": [
    "# JSON print beautifier\n",
    "def json_print(data):\n",
    "    print(json.dumps(data, indent=2))"
   ]
  },
  {
   "cell_type": "markdown",
   "metadata": {},
   "source": [
    "## Create or connecto to a Weaviate Embedded DB"
   ]
  },
  {
   "cell_type": "code",
   "execution_count": null,
   "metadata": {},
   "outputs": [],
   "source": [
    "try:\n",
    "    response = requests.get(\"http://localhost:8079/v1/schema\")\n",
    "    r_err = False\n",
    "except Exception as err:\n",
    "    print(err)\n",
    "    r_err = True\n",
    "\n",
    "if r_err:\n",
    "    client = weaviate.connect_to_embedded(\n",
    "        version=\"1.26.1\",  # e.g. version=\"1.26.5\"\n",
    "        headers={\n",
    "            \"X-OpenAI-BaseURL\": aoai_endpoint,\n",
    "            \"X-Azure-Api-Key\": aoai_key\n",
    "        },\n",
    "    )\n",
    "    print(\"Connected to new instance\")\n",
    "elif response.status_code == 200:\n",
    "    client = weaviate.connect_to_local(\n",
    "        port=8079, \n",
    "        grpc_port=50050,    \n",
    "        headers={\n",
    "            \"X-OpenAI-BaseURL\": aoai_endpoint,\n",
    "            \"X-Azure-Api-Key\": aoai_key\n",
    "        }\n",
    "    )\n",
    "    print(\"Connected to existing instance\")\n",
    "\n",
    "print(client.is_ready())"
   ]
  },
  {
   "cell_type": "code",
   "execution_count": null,
   "metadata": {},
   "outputs": [],
   "source": [
    "# Show Weaviate DB metadata\n",
    "json_print(client.get_meta())"
   ]
  },
  {
   "cell_type": "markdown",
   "metadata": {},
   "source": [
    "## Create a new Collection (EU Destinations)"
   ]
  },
  {
   "cell_type": "code",
   "execution_count": 25,
   "metadata": {},
   "outputs": [],
   "source": [
    "if client.collections.exists(\"eudestinations\"):\n",
    "    client.collections.delete(\"eudestinations\")"
   ]
  },
  {
   "cell_type": "code",
   "execution_count": null,
   "metadata": {},
   "outputs": [],
   "source": [
    "# Using a Weaviate collection with text-embedding-ada-002\n",
    "client.collections.create(\n",
    "    \"eudestinations\",\n",
    "    vectorizer_config=[\n",
    "        Configure.NamedVectors.text2vec_azure_openai(\n",
    "            name=\"title_vector\",            \n",
    "            resource_name=\"aoai-airlift-1\",\n",
    "            deployment_id=aoai_embedding,\n",
    "            base_url=aoai_endpoint\n",
    "        )\n",
    "    ]\n",
    ")"
   ]
  },
  {
   "cell_type": "markdown",
   "metadata": {},
   "source": [
    "## Read Europe Touristic Destinations Dataset\n",
    "\n",
    "_Source: https://www.kaggle.com/datasets/faizadani/european-tour-destinations-dataset_"
   ]
  },
  {
   "cell_type": "code",
   "execution_count": null,
   "metadata": {},
   "outputs": [],
   "source": [
    "file_path = '../data/eu_destinations_n.json'\n",
    "\n",
    "with open(file_path, \"r\") as file:\n",
    "    data = file.read()\n",
    "\n",
    "ds = json.loads(data)\n",
    "json_print(ds[0])"
   ]
  },
  {
   "cell_type": "markdown",
   "metadata": {},
   "source": [
    "## Loading Embeddings into the Weaviate DB"
   ]
  },
  {
   "cell_type": "code",
   "execution_count": null,
   "metadata": {},
   "outputs": [],
   "source": [
    "collection = client.collections.get(\"eudestinations\")\n",
    "\n",
    "with collection.batch.dynamic() as batch:\n",
    "    for i, d in enumerate(ds):\n",
    "        weaviate_obj = {\n",
    "            \"destination\": d[\"Destination\"],\n",
    "            \"region\": d[\"Region\"],\n",
    "            \"country\": d[\"Country\"],\n",
    "            \"category\": d[\"Category\"],\n",
    "            \"annualtourists\": d[\"Approximate Annual Tourists\"],\n",
    "            \"foods\": d[\"Famous Foods\"],\n",
    "            \"language\": d[\"Language\"],\n",
    "            \"besttimevisit\": d[\"Best Time to Visit\"],\n",
    "            \"costliving\": d[\"Cost of Living\"],\n",
    "            \"cultural\": d[\"Cultural Significance\"],\n",
    "            \"description\": d[\"Description\"]\n",
    "        }\n",
    "\n",
    "        # The model provider integration will automatically vectorize the object\n",
    "        batch.add_object(\n",
    "            properties=weaviate_obj,\n",
    "            # vector=vector  # Optionally provide a pre-obtained vector\n",
    "        )"
   ]
  },
  {
   "cell_type": "markdown",
   "metadata": {},
   "source": [
    "## Query a specific Collection Dataset"
   ]
  },
  {
   "cell_type": "code",
   "execution_count": 30,
   "metadata": {},
   "outputs": [],
   "source": [
    "collection = client.collections.get(\"eudestinations\")"
   ]
  },
  {
   "cell_type": "markdown",
   "metadata": {},
   "source": [
    "## Search Patterns"
   ]
  },
  {
   "cell_type": "code",
   "execution_count": 40,
   "metadata": {},
   "outputs": [
    {
     "name": "stdout",
     "output_type": "stream",
     "text": [
      "{\n",
      "  \"language\": \"German\",\n",
      "  \"description\": \"Bad Gastein is famous for its thermal baths, offering relaxation and wellness in the Alps.\",\n",
      "  \"besttimevisit\": \"Winter (Dec-Mar) for skiing, Summer (Jun-Sept)\",\n",
      "  \"category\": \"Town\",\n",
      "  \"destination\": \"Bad Gastein\",\n",
      "  \"costliving\": \"Medium-high\",\n",
      "  \"region\": \"Salzburg\",\n",
      "  \"annualtourists\": \"200,000\",\n",
      "  \"country\": \"Austria\",\n",
      "  \"foods\": \"Kaiserschmarrn, Wiener Schnitzel, Apfelstrudel\",\n",
      "  \"cultural\": \"A spa town known for its hot springs, skiing, and outdoor activities.\"\n",
      "}\n"
     ]
    }
   ],
   "source": [
    "# Fetch a DB object in ascending UUID order\n",
    "response = collection.query.fetch_objects(\n",
    "    limit=1\n",
    ")\n",
    "for o in response.objects:\n",
    "    json_print(o.properties)"
   ]
  },
  {
   "cell_type": "markdown",
   "metadata": {},
   "source": [
    "### Sparse and Dense Search"
   ]
  },
  {
   "cell_type": "markdown",
   "metadata": {},
   "source": [
    "#### Sparse\n",
    "BM25 search is one implementation of what is commonly called a 'keyword' search. Broadly speaking, it works by matching the search terms between the query and the data objects in the index.\n",
    "\n",
    "The higher the score, the greater the relevance of the object."
   ]
  },
  {
   "cell_type": "code",
   "execution_count": 49,
   "metadata": {},
   "outputs": [
    {
     "name": "stdout",
     "output_type": "stream",
     "text": [
      "Rank 1 - Score: 1.0217400789260864\n",
      "{\n",
      "  \"description\": null,\n",
      "  \"foods\": \"Fish, Lamb, Skyr\",\n",
      "  \"cultural\": \"A unique black sand beach with basalt columns and sea stacks.\",\n",
      "  \"country\": \"Iceland\"\n",
      "}\n",
      "Rank 2 - Score: 1.0217400789260864\n",
      "{\n",
      "  \"description\": \"A prime location for beachgoers and water sports enthusiasts.\",\n",
      "  \"foods\": \"Mediterranean cuisine\",\n",
      "  \"cultural\": \"Popular beach along the Mediterranean Sea, ideal for sunbathing and swimming.\",\n",
      "  \"country\": \"Monaco\"\n",
      "}\n",
      "Rank 3 - Score: 0.9142658710479736\n",
      "{\n",
      "  \"description\": \"World-famous for the Cannes Film Festival, featuring stunning views of the Mediterranean Sea.\",\n",
      "  \"foods\": \"Bouillabaisse, A\\u008boli, Panisse\",\n",
      "  \"cultural\": \"A glamorous coastal city known for its film festival, luxury shopping, and beautiful beaches.\",\n",
      "  \"country\": \"France\"\n",
      "}\n"
     ]
    }
   ],
   "source": [
    "response = collection.query.bm25(\n",
    "    query=\"sea\",\n",
    "    return_properties=['country','foods','cultural','description'],\n",
    "    return_metadata=MetadataQuery(score=True),\n",
    "    limit=5\n",
    ")\n",
    "\n",
    "for i, o in enumerate(response.objects):    \n",
    "    print(f\"Rank {i + 1} - Score: {o.metadata.score}\")\n",
    "    json_print(o.properties)"
   ]
  },
  {
   "cell_type": "markdown",
   "metadata": {},
   "source": [
    "#### Dense\n",
    "A method that uses neural network embeddings to represent and retrieve information based on semantic similarity.\n",
    "\n",
    "Distance closer to 0: identical vectors / Distance closer to 2: Opposing vectors."
   ]
  },
  {
   "cell_type": "code",
   "execution_count": 54,
   "metadata": {},
   "outputs": [
    {
     "name": "stdout",
     "output_type": "stream",
     "text": [
      "Rank 1 - Score: 0.21425682306289673\n",
      "{\n",
      "  \"description\": null,\n",
      "  \"foods\": \"Fish, Lamb, Skyr\",\n",
      "  \"cultural\": \"A glacial lagoon filled with icebergs, offering boat tours and stunning scenery.\",\n",
      "  \"country\": \"Iceland\"\n",
      "}\n",
      "Rank 2 - Score: 0.21670836210250854\n",
      "{\n",
      "  \"description\": null,\n",
      "  \"foods\": \"Fish, Lamb, Skyr\",\n",
      "  \"cultural\": \"A unique black sand beach with basalt columns and sea stacks.\",\n",
      "  \"country\": \"Iceland\"\n",
      "}\n",
      "Rank 3 - Score: 0.218572199344635\n",
      "{\n",
      "  \"description\": \"Features stunning exhibits and panoramic views of the Mediterranean.\",\n",
      "  \"foods\": \"Mediterranean cuisine\",\n",
      "  \"cultural\": \"World-renowned aquarium and museum dedicated to marine biology.\",\n",
      "  \"country\": \"Monaco\"\n",
      "}\n",
      "Rank 4 - Score: 0.21921074390411377\n",
      "{\n",
      "  \"description\": null,\n",
      "  \"foods\": \"Seafood, Bacalhau, Pastel de nata\",\n",
      "  \"cultural\": \"Coastal city known for its canals, colorful boats, and beautiful beaches.\",\n",
      "  \"country\": \"Portugal\"\n",
      "}\n",
      "Rank 5 - Score: 0.22174537181854248\n",
      "{\n",
      "  \"description\": null,\n",
      "  \"foods\": \"Fish, Lamb, Skyr\",\n",
      "  \"cultural\": \"A geothermal spa known for its blue waters and relaxing atmosphere.\",\n",
      "  \"country\": \"Iceland\"\n",
      "}\n",
      "Rank 6 - Score: 0.2219255566596985\n",
      "{\n",
      "  \"description\": null,\n",
      "  \"foods\": \"Fish, Lamb, Skyr\",\n",
      "  \"cultural\": \"A remote region known for its dramatic landscapes, fishing villages, and birdwatching opportunities.\",\n",
      "  \"country\": \"Iceland\"\n",
      "}\n",
      "Rank 7 - Score: 0.22312134504318237\n",
      "{\n",
      "  \"description\": null,\n",
      "  \"foods\": \"Seafood, Greek salad, Moussaka\",\n",
      "  \"cultural\": \"Famous for whitewashed buildings, blue-domed churches, and sunsets.\",\n",
      "  \"country\": \"Greece\"\n",
      "}\n",
      "Rank 8 - Score: 0.22344821691513062\n",
      "{\n",
      "  \"description\": \"Famous for its steep cliffs, coastal towns, and lemon groves, offering breathtaking views of the Mediterranean.\",\n",
      "  \"foods\": \"Seafood, Limoncello\",\n",
      "  \"cultural\": \"A picturesque coastline with charming towns, stunning cliffs, and beautiful beaches.\",\n",
      "  \"country\": \"Italy\"\n",
      "}\n",
      "Rank 9 - Score: 0.22375112771987915\n",
      "{\n",
      "  \"description\": \"A coastal gem with a beautiful Promenade des Anglais and stunning views of the French Riviera.\",\n",
      "  \"foods\": \"Ni\\u0087oise salad, Socca, Panisses\",\n",
      "  \"cultural\": \"Known for its beaches, Mediterranean climate, and vibrant nightlife.\",\n",
      "  \"country\": \"France\"\n",
      "}\n",
      "Rank 10 - Score: 0.2241804003715515\n",
      "{\n",
      "  \"description\": \"A coastal town known for its beaches, ancient ruins, and boat trips to nearby islands.\",\n",
      "  \"foods\": \"Kebab, Baklava, Dolma\",\n",
      "  \"cultural\": \"Coastal town with beaches and boat trips to islands.\",\n",
      "  \"country\": \"Turkey\"\n",
      "}\n"
     ]
    }
   ],
   "source": [
    "response = collection.query.near_text(\n",
    "    query=\"sea\",  # The model provider integration will automatically vectorize the query\n",
    "    return_properties=['country','foods','cultural','description'],        \n",
    "    return_metadata=MetadataQuery(distance=True),\n",
    "    limit=10\n",
    ")\n",
    "\n",
    "for i, o in enumerate(response.objects):    \n",
    "    print(f\"Rank {i + 1} - Score: {o.metadata.distance}\")\n",
    "    json_print(o.properties)"
   ]
  },
  {
   "cell_type": "code",
   "execution_count": 57,
   "metadata": {},
   "outputs": [
    {
     "name": "stdout",
     "output_type": "stream",
     "text": [
      "{'language': 'Icelandic', 'description': None, 'besttimevisit': 'Summer (Jun-Aug)', 'country': 'Iceland', 'destination': 'J\\x94kuls\\xa0rl¢n Glacier Lagoon', 'costliving': 'Medium-high', 'region': 'Southeast Iceland', 'annualtourists': '200,000', 'category': 'Glacier Lagoon', 'foods': 'Fish, Lamb, Skyr', 'cultural': 'A glacial lagoon filled with icebergs, offering boat tours and stunning scenery.'}\n",
      "0.21425682306289673\n",
      "{'language': 'Icelandic', 'description': None, 'besttimevisit': 'Year-round', 'country': 'Iceland', 'destination': 'Reynisfjara Black Sand Beach', 'costliving': 'Medium-high', 'region': 'South Iceland', 'annualtourists': '100,000', 'category': 'Beach', 'foods': 'Fish, Lamb, Skyr', 'cultural': 'A unique black sand beach with basalt columns and sea stacks.'}\n",
      "0.21670836210250854\n",
      "{'language': 'French, Mon\\x82gasque', 'description': 'Features stunning exhibits and panoramic views of the Mediterranean.', 'besttimevisit': 'Spring (April-May) or Fall (Sept-Oct)', 'country': 'Monaco', 'destination': 'Oceanographic Museum', 'costliving': 'Medium', 'region': 'Monaco-Ville', 'annualtourists': '1 million', 'category': 'Museum', 'foods': 'Mediterranean cuisine', 'cultural': 'World-renowned aquarium and museum dedicated to marine biology.'}\n",
      "0.218572199344635\n"
     ]
    }
   ],
   "source": [
    "response = collection.query.near_text(\n",
    "    query=\"sea\",  # The model provider integration will automatically vectorize the query    \n",
    "    distance=0.219, \n",
    "    include_vector=True,\n",
    "    return_metadata=MetadataQuery(distance=True)\n",
    ")\n",
    "\n",
    "# for obj in response.objects:\n",
    "#     print(obj.properties)\n",
    "#     print(obj.metadata.distance)\n",
    "\n",
    "for i, o in enumerate(response.objects):    \n",
    "    print(f\"Rank {i + 1} - Score: {o.metadata.distance}\")\n",
    "    json_print(o.properties)\n",
    "    print(f\"Vector: {o.vector}\")"
   ]
  },
  {
   "cell_type": "markdown",
   "metadata": {},
   "source": [
    "### Hybrid Search (Dense and Sparse)"
   ]
  },
  {
   "cell_type": "code",
   "execution_count": null,
   "metadata": {},
   "outputs": [],
   "source": [
    "response = collection.query.hybrid(\n",
    "    query=\"sea\",\n",
    "    return_metadata=MetadataQuery(score=True, explain_score=True),\n",
    "    limit=3\n",
    "    )\n",
    "\n",
    "for o in response.objects:\n",
    "    json_print(o.properties)\n",
    "    print(o.metadata.score)\n",
    "    print(o.metadata.explain_score)"
   ]
  },
  {
   "cell_type": "code",
   "execution_count": null,
   "metadata": {},
   "outputs": [],
   "source": [
    "# An alpha of 1 is a pure vector (dense) search.\n",
    "# An alpha of 0 is a pure keyword (sparse) search.\n",
    "response = collection.query.hybrid(\n",
    "    query=\"sea\",\n",
    "    alpha=0.7,\n",
    "    limit=10,\n",
    ")\n",
    "\n",
    "for o in response.objects:\n",
    "    json_print(o.properties)"
   ]
  },
  {
   "cell_type": "code",
   "execution_count": 37,
   "metadata": {},
   "outputs": [],
   "source": [
    "response = collection.query.hybrid(\n",
    "    query=\"sea\",\n",
    "    max_vector_distance=0.4,  # Maximum threshold for the vector search component\n",
    "    vector=HybridVector.near_text(\n",
    "        query=\"Scenic view\",\n",
    "        move_away=Move(force=0.5, concepts=[\"Volcano\"]),\n",
    "    ),\n",
    "    alpha=0.75,\n",
    "    limit=10,\n",
    ")"
   ]
  },
  {
   "cell_type": "code",
   "execution_count": null,
   "metadata": {},
   "outputs": [],
   "source": [
    "for o in response.objects:\n",
    "    json_print(o.properties)"
   ]
  }
 ],
 "metadata": {
  "kernelspec": {
   "display_name": "Python 3",
   "language": "python",
   "name": "python3"
  },
  "language_info": {
   "codemirror_mode": {
    "name": "ipython",
    "version": 3
   },
   "file_extension": ".py",
   "mimetype": "text/x-python",
   "name": "python",
   "nbconvert_exporter": "python",
   "pygments_lexer": "ipython3",
   "version": "3.12.1"
  }
 },
 "nbformat": 4,
 "nbformat_minor": 2
}
