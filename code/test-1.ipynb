{
 "cells": [
  {
   "cell_type": "markdown",
   "metadata": {},
   "source": [
    "## Connect"
   ]
  },
  {
   "cell_type": "code",
   "execution_count": 2,
   "metadata": {},
   "outputs": [],
   "source": [
    "# Import libraries\n",
    "import os\n",
    "from dotenv import load_dotenv\n",
    "import json\n",
    "import weaviate\n",
    "\n",
    "# Load the environment variables\n",
    "load_dotenv()\n",
    "\n",
    "aoai_key=os.environ['AZURE_OPENAI_API_KEY']\n",
    "aoai_endpoint=os.environ['AZURE_OPENAI_ENDPOINT']\n",
    "aoai_deployment=os.environ['AZURE_OPENAI_DEPLOYMENT']\n",
    "aoai_embedding=os.environ['AZURE_OPENAI_EMBEDDINGS_DEPLOYMENT']"
   ]
  },
  {
   "cell_type": "code",
   "execution_count": 4,
   "metadata": {},
   "outputs": [],
   "source": [
    "import warnings\n",
    "warnings.filterwarnings('ignore')"
   ]
  },
  {
   "cell_type": "markdown",
   "metadata": {},
   "source": [
    "### Utility Funtions"
   ]
  },
  {
   "cell_type": "code",
   "execution_count": 9,
   "metadata": {},
   "outputs": [],
   "source": [
    "# JSON print beautifier\n",
    "def json_print(data):\n",
    "    print(json.dumps(data, indent=2))"
   ]
  },
  {
   "cell_type": "markdown",
   "metadata": {},
   "source": [
    "### Create a Weaviate Embedded DB"
   ]
  },
  {
   "cell_type": "code",
   "execution_count": null,
   "metadata": {},
   "outputs": [],
   "source": [
    "client = weaviate.connect_to_embedded(\n",
    "    version=\"1.26.1\",  # e.g. version=\"1.26.5\"\n",
    "    headers={\n",
    "        \"X-OpenAI-BaseURL\": aoai_endpoint,\n",
    "        \"X-Azure-Api-Key\": aoai_key\n",
    "    },\n",
    ")\n",
    "\n",
    "print(f\"Client created? {client.is_ready()}\")"
   ]
  },
  {
   "cell_type": "code",
   "execution_count": 10,
   "metadata": {},
   "outputs": [
    {
     "name": "stdout",
     "output_type": "stream",
     "text": [
      "{\n",
      "  \"hostname\": \"http://127.0.0.1:8079\",\n",
      "  \"modules\": {\n",
      "    \"generative-openai\": {\n",
      "      \"documentationHref\": \"https://platform.openai.com/docs/api-reference/completions\",\n",
      "      \"name\": \"Generative Search - OpenAI\"\n",
      "    },\n",
      "    \"qna-openai\": {\n",
      "      \"documentationHref\": \"https://platform.openai.com/docs/api-reference/completions\",\n",
      "      \"name\": \"OpenAI Question & Answering Module\"\n",
      "    },\n",
      "    \"ref2vec-centroid\": {},\n",
      "    \"reranker-cohere\": {\n",
      "      \"documentationHref\": \"https://txt.cohere.com/rerank/\",\n",
      "      \"name\": \"Reranker - Cohere\"\n",
      "    },\n",
      "    \"text2vec-cohere\": {\n",
      "      \"documentationHref\": \"https://docs.cohere.ai/embedding-wiki/\",\n",
      "      \"name\": \"Cohere Module\"\n",
      "    },\n",
      "    \"text2vec-huggingface\": {\n",
      "      \"documentationHref\": \"https://huggingface.co/docs/api-inference/detailed_parameters#feature-extraction-task\",\n",
      "      \"name\": \"Hugging Face Module\"\n",
      "    },\n",
      "    \"text2vec-openai\": {\n",
      "      \"documentationHref\": \"https://platform.openai.com/docs/guides/embeddings/what-are-embeddings\",\n",
      "      \"name\": \"OpenAI Module\"\n",
      "    }\n",
      "  },\n",
      "  \"version\": \"1.26.1\"\n",
      "}\n"
     ]
    }
   ],
   "source": [
    "# Show Weaviate DB metadata\n",
    "json_print(client.get_meta())"
   ]
  }
 ],
 "metadata": {
  "kernelspec": {
   "display_name": "Python 3",
   "language": "python",
   "name": "python3"
  },
  "language_info": {
   "codemirror_mode": {
    "name": "ipython",
    "version": 3
   },
   "file_extension": ".py",
   "mimetype": "text/x-python",
   "name": "python",
   "nbconvert_exporter": "python",
   "pygments_lexer": "ipython3",
   "version": "3.12.1"
  }
 },
 "nbformat": 4,
 "nbformat_minor": 2
}
