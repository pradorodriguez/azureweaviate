{
 "cells": [
  {
   "cell_type": "markdown",
   "metadata": {},
   "source": [
    "# Using RAG Pattern with Weaviate and Azure Open AI"
   ]
  },
  {
   "cell_type": "code",
   "execution_count": null,
   "metadata": {},
   "outputs": [],
   "source": [
    "# Import libraries\n",
    "import os\n",
    "from dotenv import load_dotenv\n",
    "import json\n",
    "import requests\n",
    "import weaviate\n",
    "from weaviate import EmbeddedOptions\n",
    "from weaviate.classes.config import Configure, Property, DataType\n",
    "from weaviate.classes.query import MetadataQuery, HybridVector, Move\n",
    "import warnings\n",
    "\n",
    "warnings.filterwarnings('ignore')\n",
    "\n",
    "# Load the environment variables\n",
    "load_dotenv()\n",
    "\n",
    "aoai_key=os.environ['AZURE_OPENAI_API_KEY']\n",
    "aoai_endpoint=os.environ['AZURE_OPENAI_ENDPOINT']\n",
    "aoai_deployment=os.environ['AZURE_OPENAI_DEPLOYMENT']\n",
    "aoai_embedding=os.environ['AZURE_OPENAI_EMBEDDINGS_DEPLOYMENT']\n",
    "aoai_embedding_3=os.environ['AZURE_OPENAI_EMBEDDINGS_3_DEPLOYMENT']"
   ]
  },
  {
   "cell_type": "markdown",
   "metadata": {},
   "source": [
    "## Utility Funtions"
   ]
  },
  {
   "cell_type": "code",
   "execution_count": 2,
   "metadata": {},
   "outputs": [],
   "source": [
    "# JSON print beautifier\n",
    "def json_print(data):\n",
    "    print(json.dumps(data, indent=2))\n",
    "\n",
    "# Print response beautifier\n",
    "def word_wrap(string, n_chars=72):\n",
    "    # Wrap a string at the next space after n_chars\n",
    "    if len(string) < n_chars:\n",
    "        return string\n",
    "    else:\n",
    "        return string[:n_chars].rsplit(' ', 1)[0] + '\\n' + word_wrap(string[len(string[:n_chars].rsplit(' ', 1)[0])+1:], n_chars)"
   ]
  },
  {
   "cell_type": "markdown",
   "metadata": {},
   "source": [
    "## Create or connecto a Weaviate Embedded DB"
   ]
  },
  {
   "cell_type": "markdown",
   "metadata": {},
   "source": [
    "* https://weaviate.io/developers/weaviate/connections/connect-embedded\n",
    "* https://weaviate.io/developers/weaviate/connections/connect-local"
   ]
  },
  {
   "cell_type": "code",
   "execution_count": null,
   "metadata": {},
   "outputs": [],
   "source": [
    "try:\n",
    "    response = requests.get(\"http://localhost:8079/v1/schema\")\n",
    "    r_err = False\n",
    "except Exception as err:    \n",
    "    r_err = True\n",
    "\n",
    "if r_err:\n",
    "    client = weaviate.connect_to_embedded(\n",
    "        version=\"1.26.1\",  # e.g. version=\"1.26.5\"\n",
    "        headers={\n",
    "            \"X-OpenAI-BaseURL\": aoai_endpoint,\n",
    "            \"X-Azure-Api-Key\": aoai_key\n",
    "        },\n",
    "    )\n",
    "    print(\"Connected to new instance\")\n",
    "elif response.status_code == 200:\n",
    "    client = weaviate.connect_to_local(\n",
    "        port=8079, \n",
    "        grpc_port=50050,    \n",
    "        headers={\n",
    "            \"X-OpenAI-BaseURL\": aoai_endpoint,\n",
    "            \"X-Azure-Api-Key\": aoai_key\n",
    "        }\n",
    "    )\n",
    "    print(\"Connected to existing instance\")\n",
    "\n",
    "print(client.is_ready())"
   ]
  },
  {
   "cell_type": "code",
   "execution_count": null,
   "metadata": {},
   "outputs": [],
   "source": [
    "# Show Weaviate DB metadata\n",
    "json_print(client.get_meta())"
   ]
  },
  {
   "cell_type": "markdown",
   "metadata": {},
   "source": [
    "## Create a new Collection (EU Destinations)"
   ]
  },
  {
   "cell_type": "markdown",
   "metadata": {},
   "source": [
    "https://weaviate.io/developers/weaviate/manage-data/collections"
   ]
  },
  {
   "cell_type": "code",
   "execution_count": 5,
   "metadata": {},
   "outputs": [],
   "source": [
    "if client.collections.exists(\"eudestinations\"):\n",
    "    client.collections.delete(\"eudestinations\")"
   ]
  },
  {
   "cell_type": "markdown",
   "metadata": {},
   "source": [
    "* Using Azure OpenAI Embeddings: https://weaviate.io/developers/weaviate/model-providers/openai-azure/embeddings\n",
    "* Usong Azure OpenAI: https://weaviate.io/developers/weaviate/model-providers/openai-azure/generative"
   ]
  },
  {
   "cell_type": "code",
   "execution_count": null,
   "metadata": {},
   "outputs": [],
   "source": [
    "# Using a Weaviate collection with text-embedding-ada-002 and gpt-4-turbo-2024-04-09\n",
    "client.collections.create(\n",
    "    \"eudestinations\",\n",
    "    vectorizer_config=[\n",
    "        Configure.NamedVectors.text2vec_azure_openai(\n",
    "            name=\"title_vector\",            \n",
    "            resource_name=\"aoai-airlift-1\",\n",
    "            deployment_id=aoai_embedding,\n",
    "            base_url=aoai_endpoint\n",
    "        )\n",
    "    ],\n",
    "    generative_config=Configure.Generative.azure_openai(\n",
    "        resource_name=\"aoai-airlift-1\",\n",
    "        deployment_id=aoai_deployment,\n",
    "        base_url=aoai_endpoint\n",
    "        # frequency_penalty=0,\n",
    "        # max_tokens=500,\n",
    "        # presence_penalty=0,\n",
    "        # temperature=0.7,\n",
    "        # top_p=0.7\n",
    "    )    \n",
    ")"
   ]
  },
  {
   "cell_type": "markdown",
   "metadata": {},
   "source": [
    "## Read Europe Touristic Destinations\n",
    "\n",
    "_Source: https://www.kaggle.com/datasets/faizadani/european-tour-destinations-dataset_"
   ]
  },
  {
   "cell_type": "code",
   "execution_count": null,
   "metadata": {},
   "outputs": [],
   "source": [
    "file_path = '../data/eu_destinations_n.json'\n",
    "\n",
    "with open(file_path, \"r\") as file:\n",
    "    data = file.read()\n",
    "\n",
    "ds = json.loads(data)\n",
    "json_print(ds[0])"
   ]
  },
  {
   "cell_type": "markdown",
   "metadata": {},
   "source": [
    "## Loading Embeddings into the Weaviate DB"
   ]
  },
  {
   "cell_type": "markdown",
   "metadata": {},
   "source": [
    "https://weaviate.io/developers/weaviate/manage-data/import"
   ]
  },
  {
   "cell_type": "code",
   "execution_count": 8,
   "metadata": {},
   "outputs": [],
   "source": [
    "collection = client.collections.get(\"eudestinations\")\n",
    "\n",
    "with collection.batch.dynamic() as batch:\n",
    "    for i, d in enumerate(ds):\n",
    "        weaviate_obj = {\n",
    "            \"destination\": d[\"Destination\"],\n",
    "            \"region\": d[\"Region\"],\n",
    "            \"country\": d[\"Country\"],\n",
    "            \"category\": d[\"Category\"],\n",
    "            \"annualtourists\": d[\"Approximate Annual Tourists\"],\n",
    "            \"foods\": d[\"Famous Foods\"],\n",
    "            \"language\": d[\"Language\"],\n",
    "            \"besttimevisit\": d[\"Best Time to Visit\"],\n",
    "            \"costliving\": d[\"Cost of Living\"],\n",
    "            \"cultural\": d[\"Cultural Significance\"],\n",
    "            \"description\": d[\"Description\"]\n",
    "        }\n",
    "\n",
    "        # The model provider integration will automatically vectorize the object\n",
    "        batch.add_object(\n",
    "            properties=weaviate_obj,\n",
    "            # vector=vector  # Optionally provide a pre-obtained vector\n",
    "        )"
   ]
  },
  {
   "cell_type": "markdown",
   "metadata": {},
   "source": [
    "## Query a specific Collection Dataset"
   ]
  },
  {
   "cell_type": "code",
   "execution_count": 9,
   "metadata": {},
   "outputs": [],
   "source": [
    "collection = client.collections.get(\"eudestinations\")"
   ]
  },
  {
   "cell_type": "markdown",
   "metadata": {},
   "source": [
    "## Search Patterns"
   ]
  },
  {
   "cell_type": "markdown",
   "metadata": {},
   "source": [
    "https://weaviate.io/developers/weaviate/search/basics"
   ]
  },
  {
   "cell_type": "code",
   "execution_count": null,
   "metadata": {},
   "outputs": [],
   "source": [
    "# Fetch a DB object in ascending UUID order\n",
    "response = collection.query.fetch_objects(\n",
    "    limit=1\n",
    ")\n",
    "for o in response.objects:\n",
    "    json_print(o.properties)"
   ]
  },
  {
   "cell_type": "markdown",
   "metadata": {},
   "source": [
    "### RAG Search with Azure OpenAI"
   ]
  },
  {
   "cell_type": "markdown",
   "metadata": {},
   "source": [
    "Retrieval Augmented Generation (RAG) is an architecture that augments the capabilities of a Large Language Model (LLM) like ChatGPT by adding an information retrieval system that provides grounding data. "
   ]
  },
  {
   "cell_type": "markdown",
   "metadata": {},
   "source": [
    "### Single Prompt Search\n",
    "* Single prompt search **returns a generated response for each object** in the query results.\n",
    "* Define object properties – using **{prop-name}** syntax – to interpolate retrieved content in the prompt.\n",
    "* **Distance closer to 0:** _identical vectors_ / **Distance closer to 2:** _Opposing vectors_.\n",
    "* https://weaviate.io/developers/weaviate/search/generative#single-prompt-search"
   ]
  },
  {
   "cell_type": "code",
   "execution_count": 25,
   "metadata": {},
   "outputs": [],
   "source": [
    "prompt = \"Create a historic 1 day trip itenerary \\\n",
    "    visiting only 3 specific places from the mentioned {destination} \\\n",
    "    considering the {cultural} values, \\\n",
    "    and prepare a dish for dinner using the mentioned {foods}\"\n",
    "\n",
    "response = collection.generate.near_text(\n",
    "    query=\"Italy ancient history\",\n",
    "    single_prompt=prompt,\n",
    "    return_properties=['destination','country','foods','cultural','description'],\n",
    "    limit=2,    \n",
    "    return_metadata=MetadataQuery(distance=True)\n",
    ")\n",
    "\n",
    "for i, o in enumerate(response.objects):    \n",
    "    print(f\"Rank {i + 1} - Score: {o.metadata.distance}\")\n",
    "    json_print(o.properties)      \n",
    "    print(f\"Azure OpenAI Response:\\n------------------------ \\n{word_wrap(o.generated)}\\n------------------------\\n\")"
   ]
  },
  {
   "cell_type": "code",
   "execution_count": 39,
   "metadata": {},
   "outputs": [],
   "source": [
    "prompt = \"Translate to Spanish language the following values after the colon: \\\n",
    "    {destination}. {country}. {foods}. {cultural}. {description}\"\n",
    "\n",
    "response = collection.generate.near_text(\n",
    "    query=\"Gaudi\",\n",
    "    single_prompt=prompt,\n",
    "    return_properties=['destination','country','foods','cultural','description'],\n",
    "    limit=1,\n",
    "    #target_vector=\"title_vector\",  # Specify the target vector for named vector collections    \n",
    "    return_metadata=MetadataQuery(distance=True)\n",
    ")\n",
    "\n",
    "for i, o in enumerate(response.objects):    \n",
    "    print(f\"Rank {i + 1} - Score: {o.metadata.distance}\")\n",
    "    json_print(o.properties)      \n",
    "    print(f\"Azure OpenAI Response:\\n------------------------ \\n{word_wrap(o.generated)}\\n------------------------\\n\")"
   ]
  },
  {
   "cell_type": "markdown",
   "metadata": {},
   "source": [
    "### Grouped task search\n",
    "* Grouped task search returns one response that includes all of the query results. \n",
    "* By default grouped task search uses all object properties in the prompt.\n",
    "* https://weaviate.io/developers/weaviate/search/generative#grouped-task-search"
   ]
  },
  {
   "cell_type": "code",
   "execution_count": null,
   "metadata": {},
   "outputs": [],
   "source": [
    "task = \"Create a short summary of the provided data\"\n",
    "\n",
    "response = collection.generate.near_text(\n",
    "    query=\"medieval castle\",\n",
    "    limit=3,\n",
    "    grouped_task=task\n",
    ")\n",
    "\n",
    "print(f\"Azure OpenAI Response:\\n------------------------ \\n{word_wrap(response.generated)}\\n------------------------\\n\")\n",
    "\n",
    "print(\"Weaviate Vector Search:\")\n",
    "for o in response.objects:\n",
    "    print(o)"
   ]
  }
 ],
 "metadata": {
  "kernelspec": {
   "display_name": "Python 3",
   "language": "python",
   "name": "python3"
  },
  "language_info": {
   "codemirror_mode": {
    "name": "ipython",
    "version": 3
   },
   "file_extension": ".py",
   "mimetype": "text/x-python",
   "name": "python",
   "nbconvert_exporter": "python",
   "pygments_lexer": "ipython3",
   "version": "3.12.1"
  }
 },
 "nbformat": 4,
 "nbformat_minor": 2
}
