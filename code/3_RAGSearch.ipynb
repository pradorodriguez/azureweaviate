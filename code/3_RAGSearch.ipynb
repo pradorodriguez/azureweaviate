{
 "cells": [
  {
   "cell_type": "markdown",
   "metadata": {},
   "source": [
    "# Using RAG Pattern with Weaviate and Azure Open AI"
   ]
  },
  {
   "cell_type": "code",
   "execution_count": 1,
   "metadata": {},
   "outputs": [
    {
     "name": "stderr",
     "output_type": "stream",
     "text": [
      "/home/codespace/.local/lib/python3.12/site-packages/weaviate/__init__.py:144: DeprecationWarning: Dep010: Importing EmbeddedOptions from weaviate is deprecated. Import EmbeddedOptions from its module: weaviate.embedded\n",
      "  _Warnings.root_module_import(name, map_[name])\n"
     ]
    }
   ],
   "source": [
    "# Import libraries\n",
    "import os\n",
    "from dotenv import load_dotenv\n",
    "import json\n",
    "import requests\n",
    "import weaviate\n",
    "from weaviate import EmbeddedOptions\n",
    "from weaviate.classes.config import Configure, Property, DataType\n",
    "from weaviate.classes.query import MetadataQuery, HybridVector, Move\n",
    "import warnings\n",
    "\n",
    "warnings.filterwarnings('ignore')\n",
    "\n",
    "# Load the environment variables\n",
    "load_dotenv()\n",
    "\n",
    "aoai_key=os.environ['AZURE_OPENAI_API_KEY']\n",
    "aoai_endpoint=os.environ['AZURE_OPENAI_ENDPOINT']\n",
    "aoai_deployment=os.environ['AZURE_OPENAI_DEPLOYMENT']\n",
    "aoai_embedding=os.environ['AZURE_OPENAI_EMBEDDINGS_DEPLOYMENT']\n",
    "aoai_embedding_3=os.environ['AZURE_OPENAI_EMBEDDINGS_3_DEPLOYMENT']"
   ]
  },
  {
   "cell_type": "markdown",
   "metadata": {},
   "source": [
    "## Utility Funtions"
   ]
  },
  {
   "cell_type": "code",
   "execution_count": 2,
   "metadata": {},
   "outputs": [],
   "source": [
    "# JSON print beautifier\n",
    "def json_print(data):\n",
    "    print(json.dumps(data, indent=2))\n",
    "\n",
    "# Print response beautifier\n",
    "def word_wrap(string, n_chars=72):\n",
    "    # Wrap a string at the next space after n_chars\n",
    "    if len(string) < n_chars:\n",
    "        return string\n",
    "    else:\n",
    "        return string[:n_chars].rsplit(' ', 1)[0] + '\\n' + word_wrap(string[len(string[:n_chars].rsplit(' ', 1)[0])+1:], n_chars)"
   ]
  },
  {
   "cell_type": "markdown",
   "metadata": {},
   "source": [
    "## Create or connecto a Weaviate Embedded DB"
   ]
  },
  {
   "cell_type": "markdown",
   "metadata": {},
   "source": [
    "* https://weaviate.io/developers/weaviate/connections/connect-embedded\n",
    "* https://weaviate.io/developers/weaviate/connections/connect-local"
   ]
  },
  {
   "cell_type": "code",
   "execution_count": 3,
   "metadata": {},
   "outputs": [
    {
     "name": "stdout",
     "output_type": "stream",
     "text": [
      "HTTPConnectionPool(host='localhost', port=8079): Max retries exceeded with url: /v1/schema (Caused by NewConnectionError('<urllib3.connection.HTTPConnection object at 0x79f002621c40>: Failed to establish a new connection: [Errno 111] Connection refused'))\n"
     ]
    },
    {
     "name": "stderr",
     "output_type": "stream",
     "text": [
      "{\"action\":\"startup\",\"default_vectorizer_module\":\"none\",\"level\":\"info\",\"msg\":\"the default vectorizer modules is set to \\\"none\\\", as a result all new schema classes without an explicit vectorizer setting, will use this vectorizer\",\"time\":\"2024-10-21T22:15:27Z\"}\n",
      "{\"action\":\"startup\",\"auto_schema_enabled\":true,\"level\":\"info\",\"msg\":\"auto schema enabled setting is set to \\\"true\\\"\",\"time\":\"2024-10-21T22:15:27Z\"}\n",
      "{\"level\":\"info\",\"msg\":\"No resource limits set, weaviate will use all available memory and CPU. To limit resources, set LIMIT_RESOURCES=true\",\"time\":\"2024-10-21T22:15:27Z\"}\n",
      "{\"level\":\"info\",\"msg\":\"module offload-s3 is enabled\",\"time\":\"2024-10-21T22:15:27Z\"}\n",
      "{\"level\":\"warning\",\"msg\":\"Multiple vector spaces are present, GraphQL Explore and REST API list objects endpoint module include params has been disabled as a result.\",\"time\":\"2024-10-21T22:15:27Z\"}\n",
      "{\"level\":\"info\",\"msg\":\"open cluster service\",\"servers\":{\"Embedded_at_8079\":43395},\"time\":\"2024-10-21T22:15:27Z\"}\n",
      "{\"address\":\"10.0.4.2:43396\",\"level\":\"info\",\"msg\":\"starting cloud rpc server ...\",\"time\":\"2024-10-21T22:15:27Z\"}\n",
      "{\"level\":\"info\",\"msg\":\"starting raft sub-system ...\",\"time\":\"2024-10-21T22:15:27Z\"}\n",
      "{\"address\":\"10.0.4.2:43395\",\"level\":\"info\",\"msg\":\"tcp transport\",\"tcpMaxPool\":3,\"tcpTimeout\":10000000000,\"time\":\"2024-10-21T22:15:27Z\"}\n",
      "{\"level\":\"info\",\"msg\":\"loading local db\",\"time\":\"2024-10-21T22:15:27Z\"}\n",
      "{\"level\":\"info\",\"msg\":\"local DB successfully loaded\",\"time\":\"2024-10-21T22:15:27Z\"}\n",
      "{\"level\":\"info\",\"msg\":\"schema manager loaded\",\"n\":0,\"time\":\"2024-10-21T22:15:27Z\"}\n",
      "{\"level\":\"info\",\"metadata_only_voters\":false,\"msg\":\"construct a new raft node\",\"name\":\"Embedded_at_8079\",\"time\":\"2024-10-21T22:15:27Z\"}\n",
      "{\"action\":\"raft\",\"index\":1,\"level\":\"info\",\"msg\":\"raft initial configuration\",\"servers\":\"[[{Suffrage:Voter ID:Embedded_at_8079 Address:10.0.5.39:49451}]]\",\"time\":\"2024-10-21T22:15:27Z\"}\n",
      "{\"last_snapshot_index\":0,\"last_store_applied_index\":0,\"last_store_log_applied_index\":23,\"level\":\"info\",\"msg\":\"raft node constructed\",\"raft_applied_index\":0,\"raft_last_index\":23,\"time\":\"2024-10-21T22:15:27Z\"}\n",
      "{\"action\":\"raft\",\"follower\":{},\"leader-address\":\"\",\"leader-id\":\"\",\"level\":\"info\",\"msg\":\"raft entering follower state\",\"time\":\"2024-10-21T22:15:27Z\"}\n",
      "{\"action\":\"bootstrap\",\"error\":\"could not join a cluster from [10.0.4.2:43395]\",\"level\":\"warning\",\"msg\":\"failed to join cluster, will notify next if voter\",\"servers\":[\"10.0.4.2:43395\"],\"time\":\"2024-10-21T22:15:28Z\",\"voter\":true}\n",
      "{\"action\":\"bootstrap\",\"candidates\":[{\"Suffrage\":0,\"ID\":\"Embedded_at_8079\",\"Address\":\"10.0.4.2:43395\"}],\"level\":\"info\",\"msg\":\"starting cluster bootstrapping\",\"time\":\"2024-10-21T22:15:28Z\"}\n",
      "{\"action\":\"bootstrap\",\"error\":\"bootstrap only works on new clusters\",\"level\":\"error\",\"msg\":\"could not bootstrapping cluster\",\"time\":\"2024-10-21T22:15:28Z\"}\n",
      "{\"action\":\"bootstrap\",\"level\":\"info\",\"msg\":\"notified peers this node is ready to join as voter\",\"servers\":[\"10.0.4.2:43395\"],\"time\":\"2024-10-21T22:15:28Z\"}\n",
      "{\"action\":\"raft\",\"last-leader-addr\":\"\",\"last-leader-id\":\"\",\"level\":\"warning\",\"msg\":\"raft heartbeat timeout reached, starting election\",\"time\":\"2024-10-21T22:15:29Z\"}\n",
      "{\"action\":\"raft\",\"level\":\"info\",\"msg\":\"raft entering candidate state\",\"node\":{},\"term\":4,\"time\":\"2024-10-21T22:15:29Z\"}\n",
      "{\"action\":\"raft\",\"level\":\"info\",\"msg\":\"raft election won\",\"tally\":1,\"term\":4,\"time\":\"2024-10-21T22:15:29Z\"}\n",
      "{\"action\":\"raft\",\"leader\":{},\"level\":\"info\",\"msg\":\"raft entering leader state\",\"time\":\"2024-10-21T22:15:29Z\"}\n",
      "{\"level\":\"info\",\"msg\":\"reload local db: update schema ...\",\"time\":\"2024-10-21T22:15:29Z\"}\n",
      "{\"index\":\"Eudestinations\",\"level\":\"info\",\"msg\":\"reload local index\",\"time\":\"2024-10-21T22:15:29Z\"}\n"
     ]
    },
    {
     "name": "stdout",
     "output_type": "stream",
     "text": [
      "Connected to new instance\n",
      "True\n"
     ]
    },
    {
     "name": "stderr",
     "output_type": "stream",
     "text": [
      "{\"docker_image_tag\":\"unknown\",\"level\":\"info\",\"msg\":\"configured versions\",\"server_version\":\"1.26.1\",\"time\":\"2024-10-21T22:15:29Z\"}\n",
      "{\"action\":\"grpc_startup\",\"level\":\"info\",\"msg\":\"grpc server listening at [::]:50050\",\"time\":\"2024-10-21T22:15:29Z\"}\n",
      "{\"address\":\"10.0.4.2:43395\",\"level\":\"info\",\"msg\":\"current Leader\",\"time\":\"2024-10-21T22:15:29Z\"}\n",
      "{\"action\":\"restapi_management\",\"docker_image_tag\":\"unknown\",\"level\":\"info\",\"msg\":\"Serving weaviate at http://127.0.0.1:8079\",\"time\":\"2024-10-21T22:15:29Z\"}\n"
     ]
    },
    {
     "name": "stderr",
     "output_type": "stream",
     "text": [
      "{\"action\":\"lsm_recover_from_active_wal\",\"class\":\"Eudestinations\",\"index\":\"eudestinations\",\"level\":\"warning\",\"msg\":\"empty write-ahead-log found. Did weaviate crash prior to this or the tenant on/loaded from the cloud? Nothing to recover from this file.\",\"path\":\"/home/codespace/.local/share/weaviate/eudestinations/MCh5Qceg5mhL/lsm/objects/segment-1729532895313252392\",\"shard\":\"MCh5Qceg5mhL\",\"time\":\"2024-10-21T22:15:30Z\"}\n",
      "{\"action\":\"lsm_recover_from_active_wal\",\"class\":\"Eudestinations\",\"index\":\"eudestinations\",\"level\":\"warning\",\"msg\":\"empty write-ahead-log found. Did weaviate crash prior to this or the tenant on/loaded from the cloud? Nothing to recover from this file.\",\"path\":\"/home/codespace/.local/share/weaviate/eudestinations/MCh5Qceg5mhL/lsm/property_destination/segment-1729532895331251291\",\"shard\":\"MCh5Qceg5mhL\",\"time\":\"2024-10-21T22:15:30Z\"}\n",
      "{\"action\":\"lsm_recover_from_active_wal\",\"class\":\"Eudestinations\",\"index\":\"eudestinations\",\"level\":\"warning\",\"msg\":\"empty write-ahead-log found. Did weaviate crash prior to this or the tenant on/loaded from the cloud? Nothing to recover from this file.\",\"path\":\"/home/codespace/.local/share/weaviate/eudestinations/MCh5Qceg5mhL/lsm/property_destination_searchable/segment-1729532895334488687\",\"shard\":\"MCh5Qceg5mhL\",\"time\":\"2024-10-21T22:15:30Z\"}\n",
      "{\"action\":\"lsm_recover_from_active_wal\",\"class\":\"Eudestinations\",\"index\":\"eudestinations\",\"level\":\"warning\",\"msg\":\"empty write-ahead-log found. Did weaviate crash prior to this or the tenant on/loaded from the cloud? Nothing to recover from this file.\",\"path\":\"/home/codespace/.local/share/weaviate/eudestinations/MCh5Qceg5mhL/lsm/property_category/segment-1729532895337373947\",\"shard\":\"MCh5Qceg5mhL\",\"time\":\"2024-10-21T22:15:30Z\"}\n",
      "{\"action\":\"bootstrap\",\"level\":\"info\",\"msg\":\"node reporting ready, node has probably recovered cluster from raft config. Exiting bootstrap process\",\"time\":\"2024-10-21T22:15:30Z\"}\n",
      "{\"action\":\"lsm_recover_from_active_wal\",\"class\":\"Eudestinations\",\"index\":\"eudestinations\",\"level\":\"warning\",\"msg\":\"empty write-ahead-log found. Did weaviate crash prior to this or the tenant on/loaded from the cloud? Nothing to recover from this file.\",\"path\":\"/home/codespace/.local/share/weaviate/eudestinations/MCh5Qceg5mhL/lsm/property_category_searchable/segment-1729532895339616819\",\"shard\":\"MCh5Qceg5mhL\",\"time\":\"2024-10-21T22:15:30Z\"}\n",
      "{\"action\":\"lsm_recover_from_active_wal\",\"class\":\"Eudestinations\",\"index\":\"eudestinations\",\"level\":\"warning\",\"msg\":\"empty write-ahead-log found. Did weaviate crash prior to this or the tenant on/loaded from the cloud? Nothing to recover from this file.\",\"path\":\"/home/codespace/.local/share/weaviate/eudestinations/MCh5Qceg5mhL/lsm/property_region/segment-1729532895341707467\",\"shard\":\"MCh5Qceg5mhL\",\"time\":\"2024-10-21T22:15:30Z\"}\n",
      "{\"action\":\"lsm_recover_from_active_wal\",\"class\":\"Eudestinations\",\"index\":\"eudestinations\",\"level\":\"warning\",\"msg\":\"empty write-ahead-log found. Did weaviate crash prior to this or the tenant on/loaded from the cloud? Nothing to recover from this file.\",\"path\":\"/home/codespace/.local/share/weaviate/eudestinations/MCh5Qceg5mhL/lsm/property_region_searchable/segment-1729532895344241882\",\"shard\":\"MCh5Qceg5mhL\",\"time\":\"2024-10-21T22:15:30Z\"}\n",
      "{\"action\":\"lsm_recover_from_active_wal\",\"class\":\"Eudestinations\",\"index\":\"eudestinations\",\"level\":\"warning\",\"msg\":\"empty write-ahead-log found. Did weaviate crash prior to this or the tenant on/loaded from the cloud? Nothing to recover from this file.\",\"path\":\"/home/codespace/.local/share/weaviate/eudestinations/MCh5Qceg5mhL/lsm/property_besttimevisit/segment-1729532895346485361\",\"shard\":\"MCh5Qceg5mhL\",\"time\":\"2024-10-21T22:15:30Z\"}\n",
      "{\"action\":\"lsm_recover_from_active_wal\",\"class\":\"Eudestinations\",\"index\":\"eudestinations\",\"level\":\"warning\",\"msg\":\"empty write-ahead-log found. Did weaviate crash prior to this or the tenant on/loaded from the cloud? Nothing to recover from this file.\",\"path\":\"/home/codespace/.local/share/weaviate/eudestinations/MCh5Qceg5mhL/lsm/property_besttimevisit_searchable/segment-1729532895348262695\",\"shard\":\"MCh5Qceg5mhL\",\"time\":\"2024-10-21T22:15:30Z\"}\n",
      "{\"action\":\"lsm_recover_from_active_wal\",\"class\":\"Eudestinations\",\"index\":\"eudestinations\",\"level\":\"warning\",\"msg\":\"empty write-ahead-log found. Did weaviate crash prior to this or the tenant on/loaded from the cloud? Nothing to recover from this file.\",\"path\":\"/home/codespace/.local/share/weaviate/eudestinations/MCh5Qceg5mhL/lsm/property_cultural/segment-1729532895350534461\",\"shard\":\"MCh5Qceg5mhL\",\"time\":\"2024-10-21T22:15:30Z\"}\n",
      "{\"action\":\"lsm_recover_from_active_wal\",\"class\":\"Eudestinations\",\"index\":\"eudestinations\",\"level\":\"warning\",\"msg\":\"empty write-ahead-log found. Did weaviate crash prior to this or the tenant on/loaded from the cloud? Nothing to recover from this file.\",\"path\":\"/home/codespace/.local/share/weaviate/eudestinations/MCh5Qceg5mhL/lsm/property_cultural_searchable/segment-1729532895354218841\",\"shard\":\"MCh5Qceg5mhL\",\"time\":\"2024-10-21T22:15:30Z\"}\n",
      "{\"action\":\"lsm_recover_from_active_wal\",\"class\":\"Eudestinations\",\"index\":\"eudestinations\",\"level\":\"warning\",\"msg\":\"empty write-ahead-log found. Did weaviate crash prior to this or the tenant on/loaded from the cloud? Nothing to recover from this file.\",\"path\":\"/home/codespace/.local/share/weaviate/eudestinations/MCh5Qceg5mhL/lsm/property_foods/segment-1729532895357449655\",\"shard\":\"MCh5Qceg5mhL\",\"time\":\"2024-10-21T22:15:30Z\"}\n",
      "{\"action\":\"lsm_recover_from_active_wal\",\"class\":\"Eudestinations\",\"index\":\"eudestinations\",\"level\":\"warning\",\"msg\":\"empty write-ahead-log found. Did weaviate crash prior to this or the tenant on/loaded from the cloud? Nothing to recover from this file.\",\"path\":\"/home/codespace/.local/share/weaviate/eudestinations/MCh5Qceg5mhL/lsm/property_foods_searchable/segment-1729532895360110276\",\"shard\":\"MCh5Qceg5mhL\",\"time\":\"2024-10-21T22:15:30Z\"}\n",
      "{\"action\":\"lsm_recover_from_active_wal\",\"class\":\"Eudestinations\",\"index\":\"eudestinations\",\"level\":\"warning\",\"msg\":\"empty write-ahead-log found. Did weaviate crash prior to this or the tenant on/loaded from the cloud? Nothing to recover from this file.\",\"path\":\"/home/codespace/.local/share/weaviate/eudestinations/MCh5Qceg5mhL/lsm/property_annualtourists/segment-1729532895362751570\",\"shard\":\"MCh5Qceg5mhL\",\"time\":\"2024-10-21T22:15:30Z\"}\n",
      "{\"action\":\"lsm_recover_from_active_wal\",\"class\":\"Eudestinations\",\"index\":\"eudestinations\",\"level\":\"warning\",\"msg\":\"empty write-ahead-log found. Did weaviate crash prior to this or the tenant on/loaded from the cloud? Nothing to recover from this file.\",\"path\":\"/home/codespace/.local/share/weaviate/eudestinations/MCh5Qceg5mhL/lsm/property_annualtourists_searchable/segment-1729532895365025891\",\"shard\":\"MCh5Qceg5mhL\",\"time\":\"2024-10-21T22:15:30Z\"}\n",
      "{\"action\":\"lsm_recover_from_active_wal\",\"class\":\"Eudestinations\",\"index\":\"eudestinations\",\"level\":\"warning\",\"msg\":\"empty write-ahead-log found. Did weaviate crash prior to this or the tenant on/loaded from the cloud? Nothing to recover from this file.\",\"path\":\"/home/codespace/.local/share/weaviate/eudestinations/MCh5Qceg5mhL/lsm/property_costliving/segment-1729532895367048853\",\"shard\":\"MCh5Qceg5mhL\",\"time\":\"2024-10-21T22:15:30Z\"}\n",
      "{\"action\":\"lsm_recover_from_active_wal\",\"class\":\"Eudestinations\",\"index\":\"eudestinations\",\"level\":\"warning\",\"msg\":\"empty write-ahead-log found. Did weaviate crash prior to this or the tenant on/loaded from the cloud? Nothing to recover from this file.\",\"path\":\"/home/codespace/.local/share/weaviate/eudestinations/MCh5Qceg5mhL/lsm/property_costliving_searchable/segment-1729532895369207607\",\"shard\":\"MCh5Qceg5mhL\",\"time\":\"2024-10-21T22:15:30Z\"}\n",
      "{\"action\":\"lsm_recover_from_active_wal\",\"class\":\"Eudestinations\",\"index\":\"eudestinations\",\"level\":\"warning\",\"msg\":\"empty write-ahead-log found. Did weaviate crash prior to this or the tenant on/loaded from the cloud? Nothing to recover from this file.\",\"path\":\"/home/codespace/.local/share/weaviate/eudestinations/MCh5Qceg5mhL/lsm/property_description/segment-1729532895371262950\",\"shard\":\"MCh5Qceg5mhL\",\"time\":\"2024-10-21T22:15:30Z\"}\n",
      "{\"action\":\"lsm_recover_from_active_wal\",\"class\":\"Eudestinations\",\"index\":\"eudestinations\",\"level\":\"warning\",\"msg\":\"empty write-ahead-log found. Did weaviate crash prior to this or the tenant on/loaded from the cloud? Nothing to recover from this file.\",\"path\":\"/home/codespace/.local/share/weaviate/eudestinations/MCh5Qceg5mhL/lsm/property_description_searchable/segment-1729532895375296320\",\"shard\":\"MCh5Qceg5mhL\",\"time\":\"2024-10-21T22:15:30Z\"}\n",
      "{\"action\":\"lsm_recover_from_active_wal\",\"class\":\"Eudestinations\",\"index\":\"eudestinations\",\"level\":\"warning\",\"msg\":\"empty write-ahead-log found. Did weaviate crash prior to this or the tenant on/loaded from the cloud? Nothing to recover from this file.\",\"path\":\"/home/codespace/.local/share/weaviate/eudestinations/MCh5Qceg5mhL/lsm/property_country/segment-1729532895378533599\",\"shard\":\"MCh5Qceg5mhL\",\"time\":\"2024-10-21T22:15:30Z\"}\n",
      "{\"action\":\"lsm_recover_from_active_wal\",\"class\":\"Eudestinations\",\"index\":\"eudestinations\",\"level\":\"warning\",\"msg\":\"empty write-ahead-log found. Did weaviate crash prior to this or the tenant on/loaded from the cloud? Nothing to recover from this file.\",\"path\":\"/home/codespace/.local/share/weaviate/eudestinations/MCh5Qceg5mhL/lsm/property_country_searchable/segment-1729532895380773646\",\"shard\":\"MCh5Qceg5mhL\",\"time\":\"2024-10-21T22:15:30Z\"}\n",
      "{\"action\":\"lsm_recover_from_active_wal\",\"class\":\"Eudestinations\",\"index\":\"eudestinations\",\"level\":\"warning\",\"msg\":\"empty write-ahead-log found. Did weaviate crash prior to this or the tenant on/loaded from the cloud? Nothing to recover from this file.\",\"path\":\"/home/codespace/.local/share/weaviate/eudestinations/MCh5Qceg5mhL/lsm/property_language/segment-1729532895382834027\",\"shard\":\"MCh5Qceg5mhL\",\"time\":\"2024-10-21T22:15:30Z\"}\n",
      "{\"action\":\"lsm_recover_from_active_wal\",\"class\":\"Eudestinations\",\"index\":\"eudestinations\",\"level\":\"warning\",\"msg\":\"empty write-ahead-log found. Did weaviate crash prior to this or the tenant on/loaded from the cloud? Nothing to recover from this file.\",\"path\":\"/home/codespace/.local/share/weaviate/eudestinations/MCh5Qceg5mhL/lsm/property_language_searchable/segment-1729532895385131878\",\"shard\":\"MCh5Qceg5mhL\",\"time\":\"2024-10-21T22:15:30Z\"}\n",
      "{\"action\":\"lsm_recover_from_active_wal\",\"class\":\"Eudestinations\",\"index\":\"eudestinations\",\"level\":\"warning\",\"msg\":\"empty write-ahead-log found. Did weaviate crash prior to this or the tenant on/loaded from the cloud? Nothing to recover from this file.\",\"path\":\"/home/codespace/.local/share/weaviate/eudestinations/MCh5Qceg5mhL/lsm/property__id/segment-1729532895328524377\",\"shard\":\"MCh5Qceg5mhL\",\"time\":\"2024-10-21T22:15:30Z\"}\n",
      "{\"action\":\"hnsw_prefill_cache_async\",\"level\":\"info\",\"msg\":\"not waiting for vector cache prefill, running in background\",\"time\":\"2024-10-21T22:15:30Z\",\"wait_for_cache_prefill\":false}\n",
      "{\"level\":\"info\",\"msg\":\"Completed loading shard eudestinations_MCh5Qceg5mhL in 80.954326ms\",\"time\":\"2024-10-21T22:15:30Z\"}\n",
      "{\"action\":\"hnsw_vector_cache_prefill\",\"count\":3000,\"index_id\":\"vectors_title_vector\",\"level\":\"info\",\"limit\":1000000000000,\"msg\":\"prefilled vector cache\",\"time\":\"2024-10-21T22:15:30Z\",\"took\":3062746}\n",
      "{\"action\":\"telemetry_push\",\"level\":\"info\",\"msg\":\"telemetry started\",\"payload\":\"\\u0026{MachineID:e4b59739-f0d4-4545-94d7-0191baeb4a06 Type:INIT Version:1.26.1 NumObjects:0 OS:linux Arch:amd64 UsedModules:[generative-openai text2vec-openai]}\",\"time\":\"2024-10-21T22:15:30Z\"}\n"
     ]
    }
   ],
   "source": [
    "try:\n",
    "    response = requests.get(\"http://localhost:8079/v1/schema\")\n",
    "    r_err = False\n",
    "except Exception as err:    \n",
    "    r_err = True\n",
    "\n",
    "if r_err:\n",
    "    client = weaviate.connect_to_embedded(\n",
    "        version=\"1.26.1\",  # e.g. version=\"1.26.5\"\n",
    "        headers={\n",
    "            \"X-OpenAI-BaseURL\": aoai_endpoint,\n",
    "            \"X-Azure-Api-Key\": aoai_key\n",
    "        },\n",
    "    )\n",
    "    print(\"Connected to new instance\")\n",
    "elif response.status_code == 200:\n",
    "    client = weaviate.connect_to_local(\n",
    "        port=8079, \n",
    "        grpc_port=50050,    \n",
    "        headers={\n",
    "            \"X-OpenAI-BaseURL\": aoai_endpoint,\n",
    "            \"X-Azure-Api-Key\": aoai_key\n",
    "        }\n",
    "    )\n",
    "    print(\"Connected to existing instance\")\n",
    "\n",
    "print(client.is_ready())"
   ]
  },
  {
   "cell_type": "code",
   "execution_count": 4,
   "metadata": {},
   "outputs": [
    {
     "name": "stdout",
     "output_type": "stream",
     "text": [
      "{\n",
      "  \"hostname\": \"http://127.0.0.1:8079\",\n",
      "  \"modules\": {\n",
      "    \"generative-openai\": {\n",
      "      \"documentationHref\": \"https://platform.openai.com/docs/api-reference/completions\",\n",
      "      \"name\": \"Generative Search - OpenAI\"\n",
      "    },\n",
      "    \"qna-openai\": {\n",
      "      \"documentationHref\": \"https://platform.openai.com/docs/api-reference/completions\",\n",
      "      \"name\": \"OpenAI Question & Answering Module\"\n",
      "    },\n",
      "    \"ref2vec-centroid\": {},\n",
      "    \"reranker-cohere\": {\n",
      "      \"documentationHref\": \"https://txt.cohere.com/rerank/\",\n",
      "      \"name\": \"Reranker - Cohere\"\n",
      "    },\n",
      "    \"text2vec-cohere\": {\n",
      "      \"documentationHref\": \"https://docs.cohere.ai/embedding-wiki/\",\n",
      "      \"name\": \"Cohere Module\"\n",
      "    },\n",
      "    \"text2vec-huggingface\": {\n",
      "      \"documentationHref\": \"https://huggingface.co/docs/api-inference/detailed_parameters#feature-extraction-task\",\n",
      "      \"name\": \"Hugging Face Module\"\n",
      "    },\n",
      "    \"text2vec-openai\": {\n",
      "      \"documentationHref\": \"https://platform.openai.com/docs/guides/embeddings/what-are-embeddings\",\n",
      "      \"name\": \"OpenAI Module\"\n",
      "    }\n",
      "  },\n",
      "  \"version\": \"1.26.1\"\n",
      "}\n"
     ]
    }
   ],
   "source": [
    "# Show Weaviate DB metadata\n",
    "json_print(client.get_meta())"
   ]
  },
  {
   "cell_type": "markdown",
   "metadata": {},
   "source": [
    "## Create a new Collection (EU Destinations)"
   ]
  },
  {
   "cell_type": "markdown",
   "metadata": {},
   "source": [
    "https://weaviate.io/developers/weaviate/manage-data/collections"
   ]
  },
  {
   "cell_type": "code",
   "execution_count": 5,
   "metadata": {},
   "outputs": [],
   "source": [
    "if client.collections.exists(\"eudestinations\"):\n",
    "    client.collections.delete(\"eudestinations\")"
   ]
  },
  {
   "cell_type": "markdown",
   "metadata": {},
   "source": [
    "* Using Azure OpenAI Embeddings: https://weaviate.io/developers/weaviate/model-providers/openai-azure/embeddings\n",
    "* Usong Azure OpenAI: https://weaviate.io/developers/weaviate/model-providers/openai-azure/generative"
   ]
  },
  {
   "cell_type": "code",
   "execution_count": 6,
   "metadata": {},
   "outputs": [
    {
     "data": {
      "text/plain": [
       "<weaviate.collections.collection.sync.Collection at 0x79f0194762a0>"
      ]
     },
     "execution_count": 6,
     "metadata": {},
     "output_type": "execute_result"
    },
    {
     "name": "stderr",
     "output_type": "stream",
     "text": [
      "{\"level\":\"warning\",\"msg\":\"prop len tracker file /home/codespace/.local/share/weaviate/eudestinations/vowCOdq2iZ8P/proplengths does not exist, creating new tracker\",\"time\":\"2024-10-21T22:17:09Z\"}\n",
      "{\"action\":\"hnsw_prefill_cache_async\",\"level\":\"info\",\"msg\":\"not waiting for vector cache prefill, running in background\",\"time\":\"2024-10-21T22:17:09Z\",\"wait_for_cache_prefill\":false}\n",
      "{\"level\":\"info\",\"msg\":\"Created shard eudestinations_vowCOdq2iZ8P in 1.126111ms\",\"time\":\"2024-10-21T22:17:09Z\"}\n",
      "{\"action\":\"hnsw_vector_cache_prefill\",\"count\":1000,\"index_id\":\"vectors_title_vector\",\"level\":\"info\",\"limit\":1000000000000,\"msg\":\"prefilled vector cache\",\"time\":\"2024-10-21T22:17:09Z\",\"took\":37270}\n"
     ]
    }
   ],
   "source": [
    "# Using a Weaviate collection with text-embedding-ada-002 and gpt-4-turbo-2024-04-09\n",
    "client.collections.create(\n",
    "    \"eudestinations\",\n",
    "    vectorizer_config=[\n",
    "        Configure.NamedVectors.text2vec_azure_openai(\n",
    "            name=\"title_vector\",            \n",
    "            resource_name=\"aoai-airlift-1\",\n",
    "            deployment_id=aoai_embedding,\n",
    "            base_url=aoai_endpoint\n",
    "        )\n",
    "    ],\n",
    "    generative_config=Configure.Generative.azure_openai(\n",
    "        resource_name=\"aoai-airlift-1\",\n",
    "        deployment_id=aoai_deployment,\n",
    "        base_url=aoai_endpoint\n",
    "        # frequency_penalty=0,\n",
    "        # max_tokens=500,\n",
    "        # presence_penalty=0,\n",
    "        # temperature=0.7,\n",
    "        # top_p=0.7\n",
    "    )    \n",
    ")"
   ]
  },
  {
   "cell_type": "markdown",
   "metadata": {},
   "source": [
    "## Read Europe Touristic Destinations\n",
    "\n",
    "_Source: https://www.kaggle.com/datasets/faizadani/european-tour-destinations-dataset_"
   ]
  },
  {
   "cell_type": "code",
   "execution_count": 7,
   "metadata": {},
   "outputs": [
    {
     "name": "stdout",
     "output_type": "stream",
     "text": [
      "{\n",
      "  \"Destination\": \"Rome\",\n",
      "  \"Region\": \"Lazio\",\n",
      "  \"Country\": \"Italy\",\n",
      "  \"Category\": \"City\",\n",
      "  \"Approximate Annual Tourists\": \"14 million\",\n",
      "  \"Famous Foods\": \"Pizza, Pasta, Gelato\",\n",
      "  \"Language\": \"Italian\",\n",
      "  \"Best Time to Visit\": \"Spring (April-May) or Fall (Sept-Oct)\",\n",
      "  \"Cost of Living\": \"Medium-high\",\n",
      "  \"Cultural Significance\": \"The capital city, known for its historical landmarks like the Colosseum, Vatican City, and Pantheon.\",\n",
      "  \"Description\": \"A hub of ancient history and modern culture, with rich traditions, art, and landmarks.\"\n",
      "}\n"
     ]
    }
   ],
   "source": [
    "file_path = '../data/eu_destinations_n.json'\n",
    "\n",
    "with open(file_path, \"r\") as file:\n",
    "    data = file.read()\n",
    "\n",
    "ds = json.loads(data)\n",
    "json_print(ds[0])"
   ]
  },
  {
   "cell_type": "markdown",
   "metadata": {},
   "source": [
    "## Loading Embeddings into the Weaviate DB"
   ]
  },
  {
   "cell_type": "markdown",
   "metadata": {},
   "source": [
    "https://weaviate.io/developers/weaviate/manage-data/import"
   ]
  },
  {
   "cell_type": "code",
   "execution_count": 8,
   "metadata": {},
   "outputs": [],
   "source": [
    "collection = client.collections.get(\"eudestinations\")\n",
    "\n",
    "with collection.batch.dynamic() as batch:\n",
    "    for i, d in enumerate(ds):\n",
    "        weaviate_obj = {\n",
    "            \"destination\": d[\"Destination\"],\n",
    "            \"region\": d[\"Region\"],\n",
    "            \"country\": d[\"Country\"],\n",
    "            \"category\": d[\"Category\"],\n",
    "            \"annualtourists\": d[\"Approximate Annual Tourists\"],\n",
    "            \"foods\": d[\"Famous Foods\"],\n",
    "            \"language\": d[\"Language\"],\n",
    "            \"besttimevisit\": d[\"Best Time to Visit\"],\n",
    "            \"costliving\": d[\"Cost of Living\"],\n",
    "            \"cultural\": d[\"Cultural Significance\"],\n",
    "            \"description\": d[\"Description\"]\n",
    "        }\n",
    "\n",
    "        # The model provider integration will automatically vectorize the object\n",
    "        batch.add_object(\n",
    "            properties=weaviate_obj,\n",
    "            # vector=vector  # Optionally provide a pre-obtained vector\n",
    "        )"
   ]
  },
  {
   "cell_type": "markdown",
   "metadata": {},
   "source": [
    "## Query a specific Collection Dataset"
   ]
  },
  {
   "cell_type": "code",
   "execution_count": 9,
   "metadata": {},
   "outputs": [],
   "source": [
    "collection = client.collections.get(\"eudestinations\")"
   ]
  },
  {
   "cell_type": "markdown",
   "metadata": {},
   "source": [
    "## Search Patterns"
   ]
  },
  {
   "cell_type": "markdown",
   "metadata": {},
   "source": [
    "https://weaviate.io/developers/weaviate/search/basics"
   ]
  },
  {
   "cell_type": "code",
   "execution_count": 12,
   "metadata": {},
   "outputs": [
    {
     "name": "stdout",
     "output_type": "stream",
     "text": [
      "{\n",
      "  \"language\": \"Maltese, English\",\n",
      "  \"description\": null,\n",
      "  \"besttimevisit\": \"Spring (April-May) or Fall (Sep-Oct)\",\n",
      "  \"category\": \"City\",\n",
      "  \"destination\": \"Mdina\",\n",
      "  \"costliving\": \"Medium-high\",\n",
      "  \"region\": \"Central Region\",\n",
      "  \"annualtourists\": \"1 million\",\n",
      "  \"country\": \"Malta\",\n",
      "  \"foods\": \"Pastizzi, Rabbit Stew, Imqaret\",\n",
      "  \"cultural\": \"A medieval walled city known as the \\\"Silent City,\\\" offering a glimpse into Malta's past.\"\n",
      "}\n"
     ]
    }
   ],
   "source": [
    "# Fetch a DB object in ascending UUID order\n",
    "response = collection.query.fetch_objects(\n",
    "    limit=1\n",
    ")\n",
    "for o in response.objects:\n",
    "    json_print(o.properties)"
   ]
  },
  {
   "cell_type": "markdown",
   "metadata": {},
   "source": [
    "### RAG Search with Azure OpenAI"
   ]
  },
  {
   "cell_type": "markdown",
   "metadata": {},
   "source": [
    "Retrieval Augmented Generation (RAG) is an architecture that augments the capabilities of a Large Language Model (LLM) like ChatGPT by adding an information retrieval system that provides grounding data. "
   ]
  },
  {
   "cell_type": "markdown",
   "metadata": {},
   "source": [
    "### Single Prompt Search\n",
    "* Single prompt search **returns a generated response for each object** in the query results.\n",
    "* Define object properties – using **{prop-name}** syntax – to interpolate retrieved content in the prompt.\n",
    "* **Distance closer to 0:** _identical vectors_ / **Distance closer to 2:** _Opposing vectors_.\n",
    "* https://weaviate.io/developers/weaviate/search/generative#single-prompt-search"
   ]
  },
  {
   "cell_type": "code",
   "execution_count": 25,
   "metadata": {},
   "outputs": [],
   "source": [
    "prompt = \"Create a historic 1 day trip itenerary \\\n",
    "    visiting only 3 specific places from the mentioned {destination} \\\n",
    "    considering the {cultural} values, \\\n",
    "    and prepare a dish for dinner using the mentioned {foods}\"\n",
    "\n",
    "response = collection.generate.near_text(\n",
    "    query=\"Italy ancient history\",\n",
    "    single_prompt=prompt,\n",
    "    return_properties=['destination','country','foods','cultural','description'],\n",
    "    limit=2,    \n",
    "    return_metadata=MetadataQuery(distance=True)\n",
    ")\n",
    "\n",
    "for i, o in enumerate(response.objects):    \n",
    "    print(f\"Rank {i + 1} - Score: {o.metadata.distance}\")\n",
    "    json_print(o.properties)      \n",
    "    print(f\"Azure OpenAI Response:\\n------------------------ \\n{word_wrap(o.generated)}\\n------------------------\\n\")"
   ]
  },
  {
   "cell_type": "code",
   "execution_count": 39,
   "metadata": {},
   "outputs": [],
   "source": [
    "prompt = \"Translate to Spanish language the following values after the colon: \\\n",
    "    {destination}. {country}. {foods}. {cultural}. {description}\"\n",
    "\n",
    "response = collection.generate.near_text(\n",
    "    query=\"Gaudi\",\n",
    "    single_prompt=prompt,\n",
    "    return_properties=['destination','country','foods','cultural','description'],\n",
    "    limit=1,\n",
    "    #target_vector=\"title_vector\",  # Specify the target vector for named vector collections    \n",
    "    return_metadata=MetadataQuery(distance=True)\n",
    ")"
   ]
  },
  {
   "cell_type": "code",
   "execution_count": 40,
   "metadata": {},
   "outputs": [
    {
     "name": "stdout",
     "output_type": "stream",
     "text": [
      "Rank 1 - Score: 0.1673290729522705\n",
      "{\n",
      "  \"destination\": \"Barcelona\",\n",
      "  \"description\": \"A city of stunning architecture, art, and vibrant culture. Famous for La Sagrada Familia and Park G\\u0081ell.\",\n",
      "  \"foods\": \"Paella, Tapas, Gazpacho\",\n",
      "  \"cultural\": \"Known for its Gaudi architecture, beautiful beaches, and vibrant nightlife.\",\n",
      "  \"country\": \"Spain\"\n",
      "}\n",
      "Azure OpenAI Response:\n",
      "------------------------ \n",
      "Barcelona. España. Paella, Tapas, Gazpacho. Conocida por su\n",
      "arquitectura de Gaudí, hermosas playas y vida nocturna vibrante. Una\n",
      "ciudad de impresionante arquitectura, arte y cultura vibrante. Famosa\n",
      "por La Sagrada Familia y el Parque Güell.\n",
      "------------------------\n",
      "\n"
     ]
    }
   ],
   "source": [
    "# print(response.generated)\n",
    "# for o in response.objects:\n",
    "#     print(o.properties)\n",
    "#     print(o.generated)\n",
    "\n",
    "\n",
    "for i, o in enumerate(response.objects):    \n",
    "    print(f\"Rank {i + 1} - Score: {o.metadata.distance}\")\n",
    "    json_print(o.properties)      \n",
    "    print(f\"Azure OpenAI Response:\\n------------------------ \\n{word_wrap(o.generated)}\\n------------------------\\n\")"
   ]
  },
  {
   "cell_type": "markdown",
   "metadata": {},
   "source": [
    "### Grouped task search\n",
    "* Grouped task search returns one response that includes all of the query results. \n",
    "* By default grouped task search uses all object properties in the prompt.\n",
    "* https://weaviate.io/developers/weaviate/search/generative#grouped-task-search"
   ]
  },
  {
   "cell_type": "code",
   "execution_count": null,
   "metadata": {},
   "outputs": [],
   "source": [
    "task = \"Create a dish using the Foods\"\n",
    "\n",
    "response = collection.generate.near_text(\n",
    "    query=\"sea\",\n",
    "    limit=5,\n",
    "    grouped_task=task\n",
    ")\n",
    "\n",
    "# print the generated response\n",
    "print(response.generated)"
   ]
  }
 ],
 "metadata": {
  "kernelspec": {
   "display_name": "Python 3",
   "language": "python",
   "name": "python3"
  },
  "language_info": {
   "codemirror_mode": {
    "name": "ipython",
    "version": 3
   },
   "file_extension": ".py",
   "mimetype": "text/x-python",
   "name": "python",
   "nbconvert_exporter": "python",
   "pygments_lexer": "ipython3",
   "version": "3.12.1"
  }
 },
 "nbformat": 4,
 "nbformat_minor": 2
}
