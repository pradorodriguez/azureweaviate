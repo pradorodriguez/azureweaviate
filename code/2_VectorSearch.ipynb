{
 "cells": [
  {
   "cell_type": "markdown",
   "metadata": {},
   "source": [
    "# Using Vector Search in Weaviate and Azure Open AI"
   ]
  },
  {
   "cell_type": "code",
   "execution_count": 20,
   "metadata": {},
   "outputs": [],
   "source": [
    "# Import libraries\n",
    "import os\n",
    "from dotenv import load_dotenv\n",
    "import json\n",
    "import requests\n",
    "import weaviate\n",
    "from weaviate import EmbeddedOptions\n",
    "from weaviate.classes.config import Configure, Property, DataType\n",
    "from weaviate.classes.query import MetadataQuery, HybridVector, Move\n",
    "import warnings\n",
    "\n",
    "warnings.filterwarnings('ignore')\n",
    "\n",
    "# Load the environment variables\n",
    "load_dotenv()\n",
    "\n",
    "aoai_key=os.environ['AZURE_OPENAI_API_KEY']\n",
    "aoai_endpoint=os.environ['AZURE_OPENAI_ENDPOINT']\n",
    "aoai_deployment=os.environ['AZURE_OPENAI_DEPLOYMENT']\n",
    "aoai_embedding=os.environ['AZURE_OPENAI_EMBEDDINGS_DEPLOYMENT']\n",
    "aoai_embedding_3=os.environ['AZURE_OPENAI_EMBEDDINGS_3_DEPLOYMENT']"
   ]
  },
  {
   "cell_type": "markdown",
   "metadata": {},
   "source": [
    "## Utility Funtions"
   ]
  },
  {
   "cell_type": "code",
   "execution_count": 22,
   "metadata": {},
   "outputs": [],
   "source": [
    "# JSON print beautifier\n",
    "def json_print(data):\n",
    "    print(json.dumps(data, indent=2))"
   ]
  },
  {
   "cell_type": "markdown",
   "metadata": {},
   "source": [
    "## Create or connecto to a Weaviate Embedded DB"
   ]
  },
  {
   "cell_type": "markdown",
   "metadata": {},
   "source": [
    "* https://weaviate.io/developers/weaviate/connections/connect-embedded\n",
    "* https://weaviate.io/developers/weaviate/connections/connect-local"
   ]
  },
  {
   "cell_type": "code",
   "execution_count": null,
   "metadata": {},
   "outputs": [],
   "source": [
    "try:\n",
    "    response = requests.get(\"http://localhost:8079/v1/schema\")\n",
    "    r_err = False\n",
    "except Exception as err:    \n",
    "    r_err = True\n",
    "\n",
    "if r_err:\n",
    "    client = weaviate.connect_to_embedded(\n",
    "        version=\"1.26.1\",  # e.g. version=\"1.26.5\"\n",
    "        headers={\n",
    "            \"X-OpenAI-BaseURL\": aoai_endpoint,\n",
    "            \"X-Azure-Api-Key\": aoai_key\n",
    "        },\n",
    "    )\n",
    "    print(\"Connected to new instance\")\n",
    "elif response.status_code == 200:\n",
    "    client = weaviate.connect_to_local(\n",
    "        port=8079, \n",
    "        grpc_port=50050,    \n",
    "        headers={\n",
    "            \"X-OpenAI-BaseURL\": aoai_endpoint,\n",
    "            \"X-Azure-Api-Key\": aoai_key\n",
    "        }\n",
    "    )\n",
    "    print(\"Connected to existing instance\")\n",
    "\n",
    "print(client.is_ready())"
   ]
  },
  {
   "cell_type": "code",
   "execution_count": null,
   "metadata": {},
   "outputs": [],
   "source": [
    "# Show Weaviate DB metadata\n",
    "json_print(client.get_meta())"
   ]
  },
  {
   "cell_type": "markdown",
   "metadata": {},
   "source": [
    "## Create a new Collection (EU Destinations)"
   ]
  },
  {
   "cell_type": "markdown",
   "metadata": {},
   "source": [
    "https://weaviate.io/developers/weaviate/manage-data/collections"
   ]
  },
  {
   "cell_type": "code",
   "execution_count": 25,
   "metadata": {},
   "outputs": [],
   "source": [
    "if client.collections.exists(\"eudestinations\"):\n",
    "    client.collections.delete(\"eudestinations\")"
   ]
  },
  {
   "cell_type": "code",
   "execution_count": null,
   "metadata": {},
   "outputs": [],
   "source": [
    "# Using a Weaviate collection with text-embedding-ada-002\n",
    "client.collections.create(\n",
    "    \"eudestinations\",\n",
    "    vectorizer_config=[\n",
    "        Configure.NamedVectors.text2vec_azure_openai(\n",
    "            name=\"title_vector\",            \n",
    "            resource_name=\"aoai-airlift-1\",\n",
    "            deployment_id=aoai_embedding,\n",
    "            base_url=aoai_endpoint\n",
    "        )\n",
    "    ]\n",
    ")"
   ]
  },
  {
   "cell_type": "markdown",
   "metadata": {},
   "source": [
    "## Read Europe Touristic Destinations Dataset\n",
    "\n",
    "_Source: https://www.kaggle.com/datasets/faizadani/european-tour-destinations-dataset_"
   ]
  },
  {
   "cell_type": "code",
   "execution_count": null,
   "metadata": {},
   "outputs": [],
   "source": [
    "file_path = '../data/eu_destinations_n.json'\n",
    "\n",
    "with open(file_path, \"r\") as file:\n",
    "    data = file.read()\n",
    "\n",
    "ds = json.loads(data)\n",
    "json_print(ds[0])"
   ]
  },
  {
   "cell_type": "markdown",
   "metadata": {},
   "source": [
    "## Loading Embeddings into the Weaviate DB"
   ]
  },
  {
   "cell_type": "markdown",
   "metadata": {},
   "source": [
    "https://weaviate.io/developers/weaviate/manage-data/import"
   ]
  },
  {
   "cell_type": "code",
   "execution_count": null,
   "metadata": {},
   "outputs": [],
   "source": [
    "collection = client.collections.get(\"eudestinations\")\n",
    "\n",
    "with collection.batch.dynamic() as batch:\n",
    "    for i, d in enumerate(ds):\n",
    "        weaviate_obj = {\n",
    "            \"destination\": d[\"Destination\"],\n",
    "            \"region\": d[\"Region\"],\n",
    "            \"country\": d[\"Country\"],\n",
    "            \"category\": d[\"Category\"],\n",
    "            \"annualtourists\": d[\"Approximate Annual Tourists\"],\n",
    "            \"foods\": d[\"Famous Foods\"],\n",
    "            \"language\": d[\"Language\"],\n",
    "            \"besttimevisit\": d[\"Best Time to Visit\"],\n",
    "            \"costliving\": d[\"Cost of Living\"],\n",
    "            \"cultural\": d[\"Cultural Significance\"],\n",
    "            \"description\": d[\"Description\"]\n",
    "        }\n",
    "\n",
    "        # The model provider integration will automatically vectorize the object\n",
    "        batch.add_object(\n",
    "            properties=weaviate_obj,\n",
    "            # vector=vector  # Optionally provide a pre-obtained vector\n",
    "        )"
   ]
  },
  {
   "cell_type": "markdown",
   "metadata": {},
   "source": [
    "## Query a specific Collection Dataset"
   ]
  },
  {
   "cell_type": "code",
   "execution_count": 30,
   "metadata": {},
   "outputs": [],
   "source": [
    "collection = client.collections.get(\"eudestinations\")"
   ]
  },
  {
   "cell_type": "markdown",
   "metadata": {},
   "source": [
    "## Search Patterns"
   ]
  },
  {
   "cell_type": "markdown",
   "metadata": {},
   "source": [
    "https://weaviate.io/developers/weaviate/search/basics"
   ]
  },
  {
   "cell_type": "code",
   "execution_count": null,
   "metadata": {},
   "outputs": [],
   "source": [
    "# Fetch a DB object in ascending UUID order\n",
    "response = collection.query.fetch_objects(\n",
    "    limit=1\n",
    ")\n",
    "for o in response.objects:\n",
    "    json_print(o.properties)"
   ]
  },
  {
   "cell_type": "markdown",
   "metadata": {},
   "source": [
    "### Sparse and Dense Search"
   ]
  },
  {
   "cell_type": "markdown",
   "metadata": {},
   "source": [
    "#### Sparse\n",
    "* BM25 search is one implementation of what is commonly called a 'keyword' search. Broadly speaking, it works by matching the search terms between the query and the data objects in the index.\n",
    "* The higher the score, the greater the relevance of the object.\n",
    "* https://weaviate.io/developers/weaviate/search/bm25"
   ]
  },
  {
   "cell_type": "code",
   "execution_count": null,
   "metadata": {},
   "outputs": [],
   "source": [
    "response = collection.query.bm25(\n",
    "    query=\"sea\",\n",
    "    return_properties=['country','foods','cultural','description'],\n",
    "    return_metadata=MetadataQuery(score=True),\n",
    "    limit=5\n",
    ")\n",
    "\n",
    "for i, o in enumerate(response.objects):    \n",
    "    print(f\"Rank {i + 1} - Score: {o.metadata.score}\")\n",
    "    json_print(o.properties)"
   ]
  },
  {
   "cell_type": "markdown",
   "metadata": {},
   "source": [
    "#### Dense\n",
    "* A method that uses neural network embeddings to represent and retrieve information based on semantic similarity.\n",
    "* **Distance closer to 0:** _identical vectors_ / **Distance closer to 2:** _Opposing vectors_.\n",
    "* https://weaviate.io/developers/weaviate/search/similarity"
   ]
  },
  {
   "cell_type": "code",
   "execution_count": null,
   "metadata": {},
   "outputs": [],
   "source": [
    "response = collection.query.near_text(\n",
    "    query=\"sea\",  # The model provider integration will automatically vectorize the query\n",
    "    return_properties=['country','foods','cultural','description'],        \n",
    "    return_metadata=MetadataQuery(distance=True),\n",
    "    limit=10\n",
    ")\n",
    "\n",
    "for i, o in enumerate(response.objects):    \n",
    "    print(f\"Rank {i + 1} - Score: {o.metadata.distance}\")\n",
    "    json_print(o.properties)"
   ]
  },
  {
   "cell_type": "code",
   "execution_count": null,
   "metadata": {},
   "outputs": [],
   "source": [
    "response = collection.query.near_text(\n",
    "    query=\"sea\",  # The model provider integration will automatically vectorize the query    \n",
    "    return_properties=['country','foods','cultural','description'],\n",
    "    distance=0.219, \n",
    "    include_vector=True,\n",
    "    return_metadata=MetadataQuery(distance=True)\n",
    ")\n",
    "\n",
    "for i, o in enumerate(response.objects):    \n",
    "    print(f\"Rank {i + 1} - Score: {o.metadata.distance} \\nVector: {o.vector}\")\n",
    "    json_print(o.properties)    "
   ]
  },
  {
   "cell_type": "markdown",
   "metadata": {},
   "source": [
    "### Hybrid Search"
   ]
  },
  {
   "cell_type": "markdown",
   "metadata": {},
   "source": [
    "* Hybrid search combines the results of a vector search (Dense search) and a keyword (BM25F) search by fusing the two result sets.\n",
    "* The higher the score, the greater the relevance of the object.\n",
    "* https://weaviate.io/developers/weaviate/search/hybrid"
   ]
  },
  {
   "cell_type": "code",
   "execution_count": null,
   "metadata": {},
   "outputs": [],
   "source": [
    "response = collection.query.hybrid(\n",
    "    query=\"sea\",\n",
    "    return_properties=['country','foods','cultural','description'],\n",
    "    return_metadata=MetadataQuery(score=True, explain_score=True),\n",
    "    limit=6\n",
    "    )\n",
    "\n",
    "for i, o in enumerate(response.objects):    \n",
    "    print(f\"Rank {i + 1} - Score: {o.metadata.score} \\nExplanation: {o.metadata.explain_score}\")    \n",
    "    json_print(o.properties)   "
   ]
  },
  {
   "cell_type": "markdown",
   "metadata": {},
   "source": [
    "* Hybrid search results can favor the keyword component or the vector component. To change the relative weights of the keyword and vector components, set the alpha value in your query:\n",
    "* An alpha of **1** is a pure _vector(dense)_ search / An alpha of **0** is a pure _keyword(sparse)_ search."
   ]
  },
  {
   "cell_type": "code",
   "execution_count": null,
   "metadata": {},
   "outputs": [],
   "source": [
    "response = collection.query.hybrid(\n",
    "    query=\"sea\",\n",
    "    return_properties=['country','foods','cultural','description'],\n",
    "    alpha=0.7,\n",
    "    limit=10\n",
    ")\n",
    "\n",
    "for i, o in enumerate(response.objects):    \n",
    "    print(f\"Rank {i + 1}\")    \n",
    "    json_print(o.properties) "
   ]
  },
  {
   "cell_type": "markdown",
   "metadata": {},
   "source": [
    "* You can specify **vector similarity search parameters**, such as **group by** and **move to** or **move away**. \n",
    "* https://weaviate.io/developers/weaviate/api/graphql/search-operators"
   ]
  },
  {
   "cell_type": "code",
   "execution_count": null,
   "metadata": {},
   "outputs": [],
   "source": [
    "response = collection.query.hybrid(\n",
    "    query=\"sea\",\n",
    "    return_properties=['country','foods','cultural','description'],\n",
    "    #max_vector_distance=0.4,  # Maximum threshold for the vector search component\n",
    "    vector=HybridVector.near_text(\n",
    "        query=\"Scenic view\",\n",
    "        move_away=Move(force=0.5, concepts=[\"Mediterranean\"]),\n",
    "    ),\n",
    "    # alpha=0.75,\n",
    "    # limit=10\n",
    ")\n",
    "\n",
    "for i, o in enumerate(response.objects):    \n",
    "    print(f\"Rank {i + 1}\")    \n",
    "    json_print(o.properties) "
   ]
  }
 ],
 "metadata": {
  "kernelspec": {
   "display_name": "Python 3",
   "language": "python",
   "name": "python3"
  },
  "language_info": {
   "codemirror_mode": {
    "name": "ipython",
    "version": 3
   },
   "file_extension": ".py",
   "mimetype": "text/x-python",
   "name": "python",
   "nbconvert_exporter": "python",
   "pygments_lexer": "ipython3",
   "version": "3.12.1"
  }
 },
 "nbformat": 4,
 "nbformat_minor": 2
}
