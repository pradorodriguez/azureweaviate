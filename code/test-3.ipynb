{
 "cells": [
  {
   "cell_type": "markdown",
   "metadata": {},
   "source": [
    "## Connect"
   ]
  },
  {
   "cell_type": "code",
   "execution_count": 1,
   "metadata": {},
   "outputs": [],
   "source": [
    "# Import libraries\n",
    "import os\n",
    "from dotenv import load_dotenv\n",
    "import json\n",
    "import weaviate\n",
    "from weaviate import EmbeddedOptions\n",
    "from weaviate.classes.config import Configure, Property, DataType\n",
    "import warnings\n",
    "\n",
    "warnings.filterwarnings('ignore')\n",
    "\n",
    "# Load the environment variables\n",
    "load_dotenv()\n",
    "\n",
    "aoai_key=os.environ['AZURE_OPENAI_API_KEY']\n",
    "aoai_endpoint=os.environ['AZURE_OPENAI_ENDPOINT']\n",
    "aoai_deployment=os.environ['AZURE_OPENAI_DEPLOYMENT']\n",
    "aoai_embedding=os.environ['AZURE_OPENAI_EMBEDDINGS_DEPLOYMENT']"
   ]
  },
  {
   "cell_type": "markdown",
   "metadata": {},
   "source": [
    "### Utility Funtions"
   ]
  },
  {
   "cell_type": "code",
   "execution_count": 2,
   "metadata": {},
   "outputs": [],
   "source": [
    "# JSON print beautifier\n",
    "def json_print(data):\n",
    "    print(json.dumps(data, indent=2))"
   ]
  },
  {
   "cell_type": "markdown",
   "metadata": {},
   "source": [
    "### Create a Weaviate Embedded DB"
   ]
  },
  {
   "cell_type": "code",
   "execution_count": 3,
   "metadata": {},
   "outputs": [
    {
     "name": "stderr",
     "output_type": "stream",
     "text": [
      "{\"action\":\"startup\",\"default_vectorizer_module\":\"none\",\"level\":\"info\",\"msg\":\"the default vectorizer modules is set to \\\"none\\\", as a result all new schema classes without an explicit vectorizer setting, will use this vectorizer\",\"time\":\"2024-10-18T23:55:05Z\"}\n",
      "{\"action\":\"startup\",\"auto_schema_enabled\":true,\"level\":\"info\",\"msg\":\"auto schema enabled setting is set to \\\"true\\\"\",\"time\":\"2024-10-18T23:55:05Z\"}\n",
      "{\"level\":\"info\",\"msg\":\"No resource limits set, weaviate will use all available memory and CPU. To limit resources, set LIMIT_RESOURCES=true\",\"time\":\"2024-10-18T23:55:05Z\"}\n",
      "{\"level\":\"info\",\"msg\":\"module offload-s3 is enabled\",\"time\":\"2024-10-18T23:55:05Z\"}\n",
      "{\"level\":\"warning\",\"msg\":\"Multiple vector spaces are present, GraphQL Explore and REST API list objects endpoint module include params has been disabled as a result.\",\"time\":\"2024-10-18T23:55:05Z\"}\n",
      "{\"level\":\"info\",\"msg\":\"open cluster service\",\"servers\":{\"Embedded_at_8079\":34267},\"time\":\"2024-10-18T23:55:05Z\"}\n",
      "{\"address\":\"10.0.11.101:34268\",\"level\":\"info\",\"msg\":\"starting cloud rpc server ...\",\"time\":\"2024-10-18T23:55:05Z\"}\n",
      "{\"level\":\"info\",\"msg\":\"starting raft sub-system ...\",\"time\":\"2024-10-18T23:55:05Z\"}\n",
      "{\"address\":\"10.0.11.101:34267\",\"level\":\"info\",\"msg\":\"tcp transport\",\"tcpMaxPool\":3,\"tcpTimeout\":10000000000,\"time\":\"2024-10-18T23:55:05Z\"}\n",
      "{\"level\":\"info\",\"msg\":\"loading local db\",\"time\":\"2024-10-18T23:55:05Z\"}\n",
      "{\"level\":\"info\",\"msg\":\"local DB successfully loaded\",\"time\":\"2024-10-18T23:55:05Z\"}\n",
      "{\"level\":\"info\",\"msg\":\"schema manager loaded\",\"n\":0,\"time\":\"2024-10-18T23:55:05Z\"}\n",
      "{\"level\":\"info\",\"metadata_only_voters\":false,\"msg\":\"construct a new raft node\",\"name\":\"Embedded_at_8079\",\"time\":\"2024-10-18T23:55:05Z\"}\n",
      "{\"action\":\"raft\",\"index\":10,\"level\":\"info\",\"msg\":\"raft initial configuration\",\"servers\":\"[[{Suffrage:Voter ID:Embedded_at_8079 Address:10.0.10.55:58155}]]\",\"time\":\"2024-10-18T23:55:06Z\"}\n",
      "{\"last_snapshot_index\":0,\"last_store_applied_index\":0,\"last_store_log_applied_index\":20,\"level\":\"info\",\"msg\":\"raft node constructed\",\"raft_applied_index\":0,\"raft_last_index\":20,\"time\":\"2024-10-18T23:55:06Z\"}\n",
      "{\"action\":\"raft\",\"follower\":{},\"leader-address\":\"\",\"leader-id\":\"\",\"level\":\"info\",\"msg\":\"raft entering follower state\",\"time\":\"2024-10-18T23:55:06Z\"}\n",
      "{\"action\":\"bootstrap\",\"error\":\"could not join a cluster from [10.0.11.101:34267]\",\"level\":\"warning\",\"msg\":\"failed to join cluster, will notify next if voter\",\"servers\":[\"10.0.11.101:34267\"],\"time\":\"2024-10-18T23:55:07Z\",\"voter\":true}\n",
      "{\"action\":\"bootstrap\",\"candidates\":[{\"Suffrage\":0,\"ID\":\"Embedded_at_8079\",\"Address\":\"10.0.11.101:34267\"}],\"level\":\"info\",\"msg\":\"starting cluster bootstrapping\",\"time\":\"2024-10-18T23:55:07Z\"}\n",
      "{\"action\":\"bootstrap\",\"error\":\"bootstrap only works on new clusters\",\"level\":\"error\",\"msg\":\"could not bootstrapping cluster\",\"time\":\"2024-10-18T23:55:07Z\"}\n",
      "{\"action\":\"bootstrap\",\"level\":\"info\",\"msg\":\"notified peers this node is ready to join as voter\",\"servers\":[\"10.0.11.101:34267\"],\"time\":\"2024-10-18T23:55:07Z\"}\n",
      "{\"action\":\"raft\",\"last-leader-addr\":\"\",\"last-leader-id\":\"\",\"level\":\"warning\",\"msg\":\"raft heartbeat timeout reached, starting election\",\"time\":\"2024-10-18T23:55:07Z\"}\n",
      "{\"action\":\"raft\",\"level\":\"info\",\"msg\":\"raft entering candidate state\",\"node\":{},\"term\":5,\"time\":\"2024-10-18T23:55:07Z\"}\n",
      "{\"action\":\"raft\",\"level\":\"info\",\"msg\":\"raft election won\",\"tally\":1,\"term\":5,\"time\":\"2024-10-18T23:55:07Z\"}\n",
      "{\"action\":\"raft\",\"leader\":{},\"level\":\"info\",\"msg\":\"raft entering leader state\",\"time\":\"2024-10-18T23:55:07Z\"}\n",
      "{\"level\":\"info\",\"msg\":\"reload local db: update schema ...\",\"time\":\"2024-10-18T23:55:07Z\"}\n",
      "{\"index\":\"Eudestinations\",\"level\":\"info\",\"msg\":\"reload local index\",\"time\":\"2024-10-18T23:55:07Z\"}\n"
     ]
    },
    {
     "name": "stdout",
     "output_type": "stream",
     "text": [
      "true\n"
     ]
    },
    {
     "name": "stderr",
     "output_type": "stream",
     "text": [
      "{\"docker_image_tag\":\"unknown\",\"level\":\"info\",\"msg\":\"configured versions\",\"server_version\":\"1.26.1\",\"time\":\"2024-10-18T23:55:07Z\"}\n",
      "{\"action\":\"grpc_startup\",\"level\":\"info\",\"msg\":\"grpc server listening at [::]:50050\",\"time\":\"2024-10-18T23:55:07Z\"}\n",
      "{\"action\":\"restapi_management\",\"docker_image_tag\":\"unknown\",\"level\":\"info\",\"msg\":\"Serving weaviate at http://127.0.0.1:8079\",\"time\":\"2024-10-18T23:55:08Z\"}\n",
      "{\"address\":\"10.0.11.101:34267\",\"level\":\"info\",\"msg\":\"current Leader\",\"time\":\"2024-10-18T23:55:08Z\"}\n"
     ]
    },
    {
     "name": "stderr",
     "output_type": "stream",
     "text": [
      "{\"action\":\"bootstrap\",\"level\":\"info\",\"msg\":\"node reporting ready, node has probably recovered cluster from raft config. Exiting bootstrap process\",\"time\":\"2024-10-18T23:55:08Z\"}\n",
      "{\"action\":\"telemetry_push\",\"level\":\"info\",\"msg\":\"telemetry started\",\"payload\":\"\\u0026{MachineID:49de9413-73bf-41a7-9cf5-8b04a680eb6f Type:INIT Version:1.26.1 NumObjects:0 OS:linux Arch:amd64 UsedModules:[text2vec-openai]}\",\"time\":\"2024-10-18T23:55:08Z\"}\n",
      "{\"action\":\"lsm_recover_from_active_wal\",\"class\":\"Eudestinations\",\"index\":\"eudestinations\",\"level\":\"warning\",\"msg\":\"empty write-ahead-log found. Did weaviate crash prior to this or the tenant on/loaded from the cloud? Nothing to recover from this file.\",\"path\":\"/home/codespace/.local/share/weaviate/eudestinations/vsWZfzpWtlxB/lsm/objects/segment-1729294691961456243\",\"shard\":\"vsWZfzpWtlxB\",\"time\":\"2024-10-18T23:55:08Z\"}\n",
      "{\"action\":\"lsm_recover_from_active_wal\",\"class\":\"Eudestinations\",\"index\":\"eudestinations\",\"level\":\"warning\",\"msg\":\"empty write-ahead-log found. Did weaviate crash prior to this or the tenant on/loaded from the cloud? Nothing to recover from this file.\",\"path\":\"/home/codespace/.local/share/weaviate/eudestinations/vsWZfzpWtlxB/lsm/property_region/segment-1729294699536237990\",\"shard\":\"vsWZfzpWtlxB\",\"time\":\"2024-10-18T23:55:08Z\"}\n",
      "{\"action\":\"lsm_recover_from_active_wal\",\"class\":\"Eudestinations\",\"index\":\"eudestinations\",\"level\":\"warning\",\"msg\":\"empty write-ahead-log found. Did weaviate crash prior to this or the tenant on/loaded from the cloud? Nothing to recover from this file.\",\"path\":\"/home/codespace/.local/share/weaviate/eudestinations/vsWZfzpWtlxB/lsm/property_region_searchable/segment-1729294699536705540\",\"shard\":\"vsWZfzpWtlxB\",\"time\":\"2024-10-18T23:55:08Z\"}\n",
      "{\"action\":\"lsm_recover_from_active_wal\",\"class\":\"Eudestinations\",\"index\":\"eudestinations\",\"level\":\"warning\",\"msg\":\"empty write-ahead-log found. Did weaviate crash prior to this or the tenant on/loaded from the cloud? Nothing to recover from this file.\",\"path\":\"/home/codespace/.local/share/weaviate/eudestinations/vsWZfzpWtlxB/lsm/property_foods/segment-1729294699534066284\",\"shard\":\"vsWZfzpWtlxB\",\"time\":\"2024-10-18T23:55:08Z\"}\n",
      "{\"action\":\"lsm_recover_from_active_wal\",\"class\":\"Eudestinations\",\"index\":\"eudestinations\",\"level\":\"warning\",\"msg\":\"empty write-ahead-log found. Did weaviate crash prior to this or the tenant on/loaded from the cloud? Nothing to recover from this file.\",\"path\":\"/home/codespace/.local/share/weaviate/eudestinations/vsWZfzpWtlxB/lsm/property_foods_searchable/segment-1729294699534411780\",\"shard\":\"vsWZfzpWtlxB\",\"time\":\"2024-10-18T23:55:08Z\"}\n",
      "{\"action\":\"lsm_recover_from_active_wal\",\"class\":\"Eudestinations\",\"index\":\"eudestinations\",\"level\":\"warning\",\"msg\":\"empty write-ahead-log found. Did weaviate crash prior to this or the tenant on/loaded from the cloud? Nothing to recover from this file.\",\"path\":\"/home/codespace/.local/share/weaviate/eudestinations/vsWZfzpWtlxB/lsm/property_description/segment-1729294699535346299\",\"shard\":\"vsWZfzpWtlxB\",\"time\":\"2024-10-18T23:55:08Z\"}\n",
      "{\"action\":\"lsm_recover_from_active_wal\",\"class\":\"Eudestinations\",\"index\":\"eudestinations\",\"level\":\"warning\",\"msg\":\"empty write-ahead-log found. Did weaviate crash prior to this or the tenant on/loaded from the cloud? Nothing to recover from this file.\",\"path\":\"/home/codespace/.local/share/weaviate/eudestinations/vsWZfzpWtlxB/lsm/property_description_searchable/segment-1729294699536410882\",\"shard\":\"vsWZfzpWtlxB\",\"time\":\"2024-10-18T23:55:08Z\"}\n",
      "{\"action\":\"lsm_recover_from_active_wal\",\"class\":\"Eudestinations\",\"index\":\"eudestinations\",\"level\":\"warning\",\"msg\":\"empty write-ahead-log found. Did weaviate crash prior to this or the tenant on/loaded from the cloud? Nothing to recover from this file.\",\"path\":\"/home/codespace/.local/share/weaviate/eudestinations/vsWZfzpWtlxB/lsm/property_destination/segment-1729294699534027464\",\"shard\":\"vsWZfzpWtlxB\",\"time\":\"2024-10-18T23:55:08Z\"}\n",
      "{\"action\":\"lsm_recover_from_active_wal\",\"class\":\"Eudestinations\",\"index\":\"eudestinations\",\"level\":\"warning\",\"msg\":\"empty write-ahead-log found. Did weaviate crash prior to this or the tenant on/loaded from the cloud? Nothing to recover from this file.\",\"path\":\"/home/codespace/.local/share/weaviate/eudestinations/vsWZfzpWtlxB/lsm/property_destination_searchable/segment-1729294699534216866\",\"shard\":\"vsWZfzpWtlxB\",\"time\":\"2024-10-18T23:55:08Z\"}\n",
      "{\"action\":\"lsm_recover_from_active_wal\",\"class\":\"Eudestinations\",\"index\":\"eudestinations\",\"level\":\"warning\",\"msg\":\"empty write-ahead-log found. Did weaviate crash prior to this or the tenant on/loaded from the cloud? Nothing to recover from this file.\",\"path\":\"/home/codespace/.local/share/weaviate/eudestinations/vsWZfzpWtlxB/lsm/property_country/segment-1729294699535649694\",\"shard\":\"vsWZfzpWtlxB\",\"time\":\"2024-10-18T23:55:08Z\"}\n",
      "{\"action\":\"lsm_recover_from_active_wal\",\"class\":\"Eudestinations\",\"index\":\"eudestinations\",\"level\":\"warning\",\"msg\":\"empty write-ahead-log found. Did weaviate crash prior to this or the tenant on/loaded from the cloud? Nothing to recover from this file.\",\"path\":\"/home/codespace/.local/share/weaviate/eudestinations/vsWZfzpWtlxB/lsm/property_country_searchable/segment-1729294699535824560\",\"shard\":\"vsWZfzpWtlxB\",\"time\":\"2024-10-18T23:55:08Z\"}\n",
      "{\"action\":\"lsm_recover_from_active_wal\",\"class\":\"Eudestinations\",\"index\":\"eudestinations\",\"level\":\"warning\",\"msg\":\"empty write-ahead-log found. Did weaviate crash prior to this or the tenant on/loaded from the cloud? Nothing to recover from this file.\",\"path\":\"/home/codespace/.local/share/weaviate/eudestinations/vsWZfzpWtlxB/lsm/property_category/segment-1729294699534607193\",\"shard\":\"vsWZfzpWtlxB\",\"time\":\"2024-10-18T23:55:08Z\"}\n",
      "{\"action\":\"lsm_recover_from_active_wal\",\"class\":\"Eudestinations\",\"index\":\"eudestinations\",\"level\":\"warning\",\"msg\":\"empty write-ahead-log found. Did weaviate crash prior to this or the tenant on/loaded from the cloud? Nothing to recover from this file.\",\"path\":\"/home/codespace/.local/share/weaviate/eudestinations/vsWZfzpWtlxB/lsm/property_category_searchable/segment-1729294699534771299\",\"shard\":\"vsWZfzpWtlxB\",\"time\":\"2024-10-18T23:55:08Z\"}\n",
      "{\"action\":\"lsm_recover_from_active_wal\",\"class\":\"Eudestinations\",\"index\":\"eudestinations\",\"level\":\"warning\",\"msg\":\"empty write-ahead-log found. Did weaviate crash prior to this or the tenant on/loaded from the cloud? Nothing to recover from this file.\",\"path\":\"/home/codespace/.local/share/weaviate/eudestinations/vsWZfzpWtlxB/lsm/property_annualtourists/segment-1729294699534957305\",\"shard\":\"vsWZfzpWtlxB\",\"time\":\"2024-10-18T23:55:08Z\"}\n",
      "{\"action\":\"lsm_recover_from_active_wal\",\"class\":\"Eudestinations\",\"index\":\"eudestinations\",\"level\":\"warning\",\"msg\":\"empty write-ahead-log found. Did weaviate crash prior to this or the tenant on/loaded from the cloud? Nothing to recover from this file.\",\"path\":\"/home/codespace/.local/share/weaviate/eudestinations/vsWZfzpWtlxB/lsm/property_annualtourists_searchable/segment-1729294699535124467\",\"shard\":\"vsWZfzpWtlxB\",\"time\":\"2024-10-18T23:55:08Z\"}\n",
      "{\"action\":\"lsm_recover_from_active_wal\",\"class\":\"Eudestinations\",\"index\":\"eudestinations\",\"level\":\"warning\",\"msg\":\"empty write-ahead-log found. Did weaviate crash prior to this or the tenant on/loaded from the cloud? Nothing to recover from this file.\",\"path\":\"/home/codespace/.local/share/weaviate/eudestinations/vsWZfzpWtlxB/lsm/property_language/segment-1729294699535977072\",\"shard\":\"vsWZfzpWtlxB\",\"time\":\"2024-10-18T23:55:08Z\"}\n",
      "{\"action\":\"lsm_recover_from_active_wal\",\"class\":\"Eudestinations\",\"index\":\"eudestinations\",\"level\":\"warning\",\"msg\":\"empty write-ahead-log found. Did weaviate crash prior to this or the tenant on/loaded from the cloud? Nothing to recover from this file.\",\"path\":\"/home/codespace/.local/share/weaviate/eudestinations/vsWZfzpWtlxB/lsm/property_language_searchable/segment-1729294699536162557\",\"shard\":\"vsWZfzpWtlxB\",\"time\":\"2024-10-18T23:55:08Z\"}\n",
      "{\"action\":\"lsm_recover_from_active_wal\",\"class\":\"Eudestinations\",\"index\":\"eudestinations\",\"level\":\"warning\",\"msg\":\"empty write-ahead-log found. Did weaviate crash prior to this or the tenant on/loaded from the cloud? Nothing to recover from this file.\",\"path\":\"/home/codespace/.local/share/weaviate/eudestinations/vsWZfzpWtlxB/lsm/property_besttimevisit/segment-1729294699536018010\",\"shard\":\"vsWZfzpWtlxB\",\"time\":\"2024-10-18T23:55:08Z\"}\n",
      "{\"action\":\"lsm_recover_from_active_wal\",\"class\":\"Eudestinations\",\"index\":\"eudestinations\",\"level\":\"warning\",\"msg\":\"empty write-ahead-log found. Did weaviate crash prior to this or the tenant on/loaded from the cloud? Nothing to recover from this file.\",\"path\":\"/home/codespace/.local/share/weaviate/eudestinations/vsWZfzpWtlxB/lsm/property_besttimevisit_searchable/segment-1729294699536479540\",\"shard\":\"vsWZfzpWtlxB\",\"time\":\"2024-10-18T23:55:08Z\"}\n",
      "{\"action\":\"lsm_recover_from_active_wal\",\"class\":\"Eudestinations\",\"index\":\"eudestinations\",\"level\":\"warning\",\"msg\":\"empty write-ahead-log found. Did weaviate crash prior to this or the tenant on/loaded from the cloud? Nothing to recover from this file.\",\"path\":\"/home/codespace/.local/share/weaviate/eudestinations/vsWZfzpWtlxB/lsm/property_costliving/segment-1729294699536672898\",\"shard\":\"vsWZfzpWtlxB\",\"time\":\"2024-10-18T23:55:08Z\"}\n",
      "{\"action\":\"lsm_recover_from_active_wal\",\"class\":\"Eudestinations\",\"index\":\"eudestinations\",\"level\":\"warning\",\"msg\":\"empty write-ahead-log found. Did weaviate crash prior to this or the tenant on/loaded from the cloud? Nothing to recover from this file.\",\"path\":\"/home/codespace/.local/share/weaviate/eudestinations/vsWZfzpWtlxB/lsm/property_costliving_searchable/segment-1729294699536829510\",\"shard\":\"vsWZfzpWtlxB\",\"time\":\"2024-10-18T23:55:08Z\"}\n",
      "{\"action\":\"lsm_recover_from_active_wal\",\"class\":\"Eudestinations\",\"index\":\"eudestinations\",\"level\":\"warning\",\"msg\":\"empty write-ahead-log found. Did weaviate crash prior to this or the tenant on/loaded from the cloud? Nothing to recover from this file.\",\"path\":\"/home/codespace/.local/share/weaviate/eudestinations/vsWZfzpWtlxB/lsm/property_cultural/segment-1729294699536786331\",\"shard\":\"vsWZfzpWtlxB\",\"time\":\"2024-10-18T23:55:08Z\"}\n",
      "{\"action\":\"lsm_recover_from_active_wal\",\"class\":\"Eudestinations\",\"index\":\"eudestinations\",\"level\":\"warning\",\"msg\":\"empty write-ahead-log found. Did weaviate crash prior to this or the tenant on/loaded from the cloud? Nothing to recover from this file.\",\"path\":\"/home/codespace/.local/share/weaviate/eudestinations/vsWZfzpWtlxB/lsm/property_cultural_searchable/segment-1729294699536929728\",\"shard\":\"vsWZfzpWtlxB\",\"time\":\"2024-10-18T23:55:08Z\"}\n",
      "{\"action\":\"lsm_recover_from_active_wal\",\"class\":\"Eudestinations\",\"index\":\"eudestinations\",\"level\":\"warning\",\"msg\":\"empty write-ahead-log found. Did weaviate crash prior to this or the tenant on/loaded from the cloud? Nothing to recover from this file.\",\"path\":\"/home/codespace/.local/share/weaviate/eudestinations/vsWZfzpWtlxB/lsm/property__id/segment-1729294691961333626\",\"shard\":\"vsWZfzpWtlxB\",\"time\":\"2024-10-18T23:55:08Z\"}\n",
      "{\"action\":\"hnsw_prefill_cache_async\",\"level\":\"info\",\"msg\":\"not waiting for vector cache prefill, running in background\",\"time\":\"2024-10-18T23:55:08Z\",\"wait_for_cache_prefill\":false}\n",
      "{\"level\":\"info\",\"msg\":\"Completed loading shard eudestinations_vsWZfzpWtlxB in 34.044303ms\",\"time\":\"2024-10-18T23:55:08Z\"}\n",
      "{\"action\":\"hnsw_vector_cache_prefill\",\"count\":3000,\"index_id\":\"main\",\"level\":\"info\",\"limit\":1000000000000,\"msg\":\"prefilled vector cache\",\"time\":\"2024-10-18T23:55:08Z\",\"took\":38862}\n"
     ]
    }
   ],
   "source": [
    "client = weaviate.connect_to_embedded(\n",
    "    version=\"1.26.1\",  # e.g. version=\"1.26.5\"\n",
    "    headers={\n",
    "        \"X-OpenAI-BaseURL\": aoai_endpoint,\n",
    "        \"X-Azure-Api-Key\": aoai_key\n",
    "    },\n",
    ")\n",
    "\n",
    "json_print(client.is_ready())"
   ]
  },
  {
   "cell_type": "code",
   "execution_count": 4,
   "metadata": {},
   "outputs": [
    {
     "name": "stdout",
     "output_type": "stream",
     "text": [
      "{\n",
      "  \"hostname\": \"http://127.0.0.1:8079\",\n",
      "  \"modules\": {\n",
      "    \"generative-openai\": {\n",
      "      \"documentationHref\": \"https://platform.openai.com/docs/api-reference/completions\",\n",
      "      \"name\": \"Generative Search - OpenAI\"\n",
      "    },\n",
      "    \"qna-openai\": {\n",
      "      \"documentationHref\": \"https://platform.openai.com/docs/api-reference/completions\",\n",
      "      \"name\": \"OpenAI Question & Answering Module\"\n",
      "    },\n",
      "    \"ref2vec-centroid\": {},\n",
      "    \"reranker-cohere\": {\n",
      "      \"documentationHref\": \"https://txt.cohere.com/rerank/\",\n",
      "      \"name\": \"Reranker - Cohere\"\n",
      "    },\n",
      "    \"text2vec-cohere\": {\n",
      "      \"documentationHref\": \"https://docs.cohere.ai/embedding-wiki/\",\n",
      "      \"name\": \"Cohere Module\"\n",
      "    },\n",
      "    \"text2vec-huggingface\": {\n",
      "      \"documentationHref\": \"https://huggingface.co/docs/api-inference/detailed_parameters#feature-extraction-task\",\n",
      "      \"name\": \"Hugging Face Module\"\n",
      "    },\n",
      "    \"text2vec-openai\": {\n",
      "      \"documentationHref\": \"https://platform.openai.com/docs/guides/embeddings/what-are-embeddings\",\n",
      "      \"name\": \"OpenAI Module\"\n",
      "    }\n",
      "  },\n",
      "  \"version\": \"1.26.1\"\n",
      "}\n"
     ]
    }
   ],
   "source": [
    "# Show Weaviate DB metadata\n",
    "json_print(client.get_meta())"
   ]
  },
  {
   "cell_type": "markdown",
   "metadata": {},
   "source": [
    "### Create Collection (EU Destinations)"
   ]
  },
  {
   "cell_type": "code",
   "execution_count": 5,
   "metadata": {},
   "outputs": [],
   "source": [
    "if client.collections.exists(\"eudestinations\"):\n",
    "    client.collections.delete(\"eudestinations\")"
   ]
  },
  {
   "cell_type": "code",
   "execution_count": 6,
   "metadata": {},
   "outputs": [
    {
     "data": {
      "text/plain": [
       "<weaviate.collections.collection.sync.Collection at 0x7d0bad60a9f0>"
      ]
     },
     "execution_count": 6,
     "metadata": {},
     "output_type": "execute_result"
    },
    {
     "name": "stderr",
     "output_type": "stream",
     "text": [
      "{\"level\":\"warning\",\"msg\":\"prop len tracker file /home/codespace/.local/share/weaviate/eudestinations/t87rLMGzhlqI/proplengths does not exist, creating new tracker\",\"time\":\"2024-10-19T00:24:17Z\"}\n",
      "{\"action\":\"hnsw_prefill_cache_async\",\"level\":\"info\",\"msg\":\"not waiting for vector cache prefill, running in background\",\"time\":\"2024-10-19T00:24:17Z\",\"wait_for_cache_prefill\":false}\n",
      "{\"level\":\"info\",\"msg\":\"Created shard eudestinations_t87rLMGzhlqI in 1.101925ms\",\"time\":\"2024-10-19T00:24:17Z\"}\n",
      "{\"action\":\"hnsw_vector_cache_prefill\",\"count\":1000,\"index_id\":\"vectors_title_vector\",\"level\":\"info\",\"limit\":1000000000000,\"msg\":\"prefilled vector cache\",\"time\":\"2024-10-19T00:24:17Z\",\"took\":39143}\n"
     ]
    }
   ],
   "source": [
    "# class_obj = {\n",
    "#     \"class\": \"eudestinations\",\n",
    "#     \"vectorizer\": \"text2vec-openai\",  # Use OpenAI as the vectorizer\n",
    "#     \"moduleConfig\": {\n",
    "#         \"text2vec-openai\": {\n",
    "#             \"model\": \"ada\",\n",
    "#             \"modelVersion\": \"002\",\n",
    "#             \"type\": \"text\",\n",
    "#             \"baseURL\": aoai_endpoint\n",
    "#         }\n",
    "#     }\n",
    "# }\n",
    "\n",
    "# client.schema.create_class(class_obj)\n",
    "\n",
    "client.collections.create(\n",
    "    \"eudestinations\",\n",
    "    vectorizer_config=[\n",
    "        Configure.NamedVectors.text2vec_azure_openai(\n",
    "            name=\"title_vector\",            \n",
    "            resource_name=\"aoai-airlift-1\",\n",
    "            deployment_id=aoai_embedding,\n",
    "            base_url=aoai_endpoint\n",
    "        )\n",
    "    ],\n",
    "    # Additional parameters not shown\n",
    ")"
   ]
  },
  {
   "cell_type": "markdown",
   "metadata": {},
   "source": [
    "### Read Europe Touristic Destinations"
   ]
  },
  {
   "cell_type": "code",
   "execution_count": 7,
   "metadata": {},
   "outputs": [
    {
     "name": "stdout",
     "output_type": "stream",
     "text": [
      "{\n",
      "  \"Destination\": \"Rome\",\n",
      "  \"Region\": \"Lazio\",\n",
      "  \"Country\": \"Italy\",\n",
      "  \"Category\": \"City\",\n",
      "  \"Approximate Annual Tourists\": \"14 million\",\n",
      "  \"Famous Foods\": \"Pizza, Pasta, Gelato\",\n",
      "  \"Language\": \"Italian\",\n",
      "  \"Best Time to Visit\": \"Spring (April-May) or Fall (Sept-Oct)\",\n",
      "  \"Cost of Living\": \"Medium-high\",\n",
      "  \"Cultural Significance\": \"The capital city, known for its historical landmarks like the Colosseum, Vatican City, and Pantheon.\",\n",
      "  \"Description\": \"A hub of ancient history and modern culture, with rich traditions, art, and landmarks.\"\n",
      "}\n"
     ]
    }
   ],
   "source": [
    "file_path = '../data/eu_destinations_n.json'\n",
    "\n",
    "with open(file_path, \"r\") as file:\n",
    "    data = file.read()\n",
    "\n",
    "ds = json.loads(data)\n",
    "json_print(ds[0])"
   ]
  },
  {
   "cell_type": "markdown",
   "metadata": {},
   "source": [
    "### Create Embeddings"
   ]
  },
  {
   "cell_type": "code",
   "execution_count": 8,
   "metadata": {},
   "outputs": [],
   "source": [
    "collection = client.collections.get(\"eudestinations\")\n",
    "\n",
    "with collection.batch.dynamic() as batch:\n",
    "    for i, d in enumerate(ds):\n",
    "        weaviate_obj = {\n",
    "            \"destination\": d[\"Destination\"],\n",
    "            \"region\": d[\"Region\"],\n",
    "            \"country\": d[\"Country\"],\n",
    "            \"category\": d[\"Category\"],\n",
    "            \"annualtourists\": d[\"Approximate Annual Tourists\"],\n",
    "            \"foods\": d[\"Famous Foods\"],\n",
    "            \"language\": d[\"Language\"],\n",
    "            \"besttimevisit\": d[\"Best Time to Visit\"],\n",
    "            \"costliving\": d[\"Cost of Living\"],\n",
    "            \"cultural\": d[\"Cultural Significance\"],\n",
    "            \"description\": d[\"Description\"]\n",
    "        }\n",
    "\n",
    "        # The model provider integration will automatically vectorize the object\n",
    "        batch.add_object(\n",
    "            properties=weaviate_obj,\n",
    "            # vector=vector  # Optionally provide a pre-obtained vector\n",
    "        )"
   ]
  },
  {
   "cell_type": "code",
   "execution_count": null,
   "metadata": {},
   "outputs": [],
   "source": [
    "# count = client.query.aggregate(\"eudestinations\").with_meta_count().do()\n",
    "# json_print(count)"
   ]
  },
  {
   "cell_type": "code",
   "execution_count": 30,
   "metadata": {},
   "outputs": [],
   "source": [
    "from weaviate.classes.query import MetadataQuery\n",
    "\n",
    "collection = client.collections.get(\"eudestinations\")\n",
    "\n",
    "response = collection.query.near_text(\n",
    "    query=\"Picasso\",  # The model provider integration will automatically vectorize the query\n",
    "    limit=5,\n",
    "    return_metadata=MetadataQuery(distance=True)\n",
    ")"
   ]
  },
  {
   "cell_type": "code",
   "execution_count": 32,
   "metadata": {},
   "outputs": [
    {
     "name": "stdout",
     "output_type": "stream",
     "text": [
      "{'language': 'Spanish', 'description': 'Birthplace of Picasso, featuring stunning beaches and a lively port.', 'besttimevisit': 'Spring (April-May) or Fall (Sept-Oct)', 'country': 'Spain', 'destination': 'M\\xa0laga', 'costliving': 'Medium', 'region': 'Andalusia', 'annualtourists': '2 million', 'category': 'City', 'foods': 'Tapas, Gazpacho, Espetos', 'cultural': 'A coastal city known for its beautiful beaches, historic center, and Picasso Museum.'}\n",
      "0.18377715349197388\n",
      "{'language': 'Spanish (and Basque)', 'description': 'An industrial city turned cultural hotspot, home to the iconic Guggenheim Museum.', 'besttimevisit': 'Spring (April-May) or Fall (Sept-Oct)', 'country': 'Spain', 'destination': 'Bilbao', 'costliving': 'Medium-high', 'region': 'Basque Country', 'annualtourists': '1.5 million', 'category': 'City', 'foods': 'Pintxos, Bacalao al pil-pil', 'cultural': 'A modern city known for its Guggenheim Museum, vibrant atmosphere, and delicious pintxos.'}\n",
      "0.18603205680847168\n",
      "{'language': 'Spanish (and Basque)', 'description': 'Renowned for its food scene, with pristine beaches and picturesque Old Town streets.', 'besttimevisit': 'Spring (April-May) or Fall (Sept-Oct)', 'country': 'Spain', 'destination': 'San Sebasti\\xa0n', 'costliving': 'Medium-high', 'region': 'Basque Country', 'annualtourists': '1 million', 'category': 'City', 'foods': 'Pintxos, Bacalao al pil-pil', 'cultural': 'A coastal city known for its beautiful beaches, delicious pintxos, and vibrant atmosphere.'}\n",
      "0.21078360080718994\n",
      "{'language': 'Spanish', 'description': 'Home to the Prado Museum, Royal Palace, and rich Spanish history.', 'besttimevisit': 'Spring (April-May) or Fall (Sept-Oct)', 'country': 'Spain', 'destination': 'Madrid', 'costliving': 'Medium-high', 'region': 'Community of Madrid', 'annualtourists': '7 million', 'category': 'City', 'foods': 'Tapas, Tortilla Espa¤ola, Jam¢n Ib\\x82rico', 'cultural': 'The capital city, known for its world-class museums, lively atmosphere, and historical landmarks.'}\n",
      "0.21628355979919434\n",
      "{'language': 'Spanish', 'description': 'A city of stunning architecture, art, and vibrant culture. Famous for La Sagrada Familia and Park G\\x81ell.', 'besttimevisit': 'Spring (April-May) or Fall (Sept-Oct)', 'country': 'Spain', 'destination': 'Barcelona', 'costliving': 'Medium-high', 'region': 'Catalonia', 'annualtourists': '12.7 million', 'category': 'City', 'foods': 'Paella, Tapas, Gazpacho', 'cultural': 'Known for its Gaudi architecture, beautiful beaches, and vibrant nightlife.'}\n",
      "0.21990102529525757\n"
     ]
    }
   ],
   "source": [
    "for obj in response.objects:\n",
    "    print(obj.properties)\n",
    "    print(obj.metadata.distance)"
   ]
  },
  {
   "cell_type": "code",
   "execution_count": 33,
   "metadata": {},
   "outputs": [],
   "source": [
    "response = collection.query.near_text(\n",
    "    query=\"Picasso\",  # The model provider integration will automatically vectorize the query    \n",
    "    distance=0.20, \n",
    "    return_metadata=MetadataQuery(distance=True)\n",
    ")"
   ]
  },
  {
   "cell_type": "code",
   "execution_count": 34,
   "metadata": {},
   "outputs": [
    {
     "name": "stdout",
     "output_type": "stream",
     "text": [
      "{'language': 'Spanish', 'description': 'Birthplace of Picasso, featuring stunning beaches and a lively port.', 'besttimevisit': 'Spring (April-May) or Fall (Sept-Oct)', 'country': 'Spain', 'destination': 'M\\xa0laga', 'costliving': 'Medium', 'region': 'Andalusia', 'annualtourists': '2 million', 'category': 'City', 'foods': 'Tapas, Gazpacho, Espetos', 'cultural': 'A coastal city known for its beautiful beaches, historic center, and Picasso Museum.'}\n",
      "0.18377715349197388\n",
      "{'language': 'Spanish (and Basque)', 'description': 'An industrial city turned cultural hotspot, home to the iconic Guggenheim Museum.', 'besttimevisit': 'Spring (April-May) or Fall (Sept-Oct)', 'category': 'City', 'destination': 'Bilbao', 'costliving': 'Medium-high', 'region': 'Basque Country', 'annualtourists': '1.5 million', 'country': 'Spain', 'foods': 'Pintxos, Bacalao al pil-pil', 'cultural': 'A modern city known for its Guggenheim Museum, vibrant atmosphere, and delicious pintxos.'}\n",
      "0.18603205680847168\n"
     ]
    }
   ],
   "source": [
    "for obj in response.objects:\n",
    "    print(obj.properties)\n",
    "    print(obj.metadata.distance)"
   ]
  }
 ],
 "metadata": {
  "kernelspec": {
   "display_name": "Python 3",
   "language": "python",
   "name": "python3"
  },
  "language_info": {
   "codemirror_mode": {
    "name": "ipython",
    "version": 3
   },
   "file_extension": ".py",
   "mimetype": "text/x-python",
   "name": "python",
   "nbconvert_exporter": "python",
   "pygments_lexer": "ipython3",
   "version": "3.12.1"
  }
 },
 "nbformat": 4,
 "nbformat_minor": 2
}
