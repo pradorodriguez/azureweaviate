{
 "cells": [
  {
   "cell_type": "markdown",
   "metadata": {},
   "source": [
    "## Connect"
   ]
  },
  {
   "cell_type": "code",
   "execution_count": 1,
   "metadata": {},
   "outputs": [
    {
     "name": "stderr",
     "output_type": "stream",
     "text": [
      "/home/codespace/.local/lib/python3.12/site-packages/weaviate/__init__.py:144: DeprecationWarning: Dep010: Importing EmbeddedOptions from weaviate is deprecated. Import EmbeddedOptions from its module: weaviate.embedded\n",
      "  _Warnings.root_module_import(name, map_[name])\n"
     ]
    }
   ],
   "source": [
    "# Import libraries\n",
    "import os\n",
    "from dotenv import load_dotenv\n",
    "import json\n",
    "import weaviate\n",
    "from weaviate import EmbeddedOptions\n",
    "from weaviate.classes.config import Configure, Property, DataType\n",
    "import warnings\n",
    "\n",
    "warnings.filterwarnings('ignore')\n",
    "\n",
    "# Load the environment variables\n",
    "load_dotenv()\n",
    "\n",
    "aoai_key=os.environ['AZURE_OPENAI_API_KEY']\n",
    "aoai_endpoint=os.environ['AZURE_OPENAI_ENDPOINT']\n",
    "aoai_deployment=os.environ['AZURE_OPENAI_DEPLOYMENT']\n",
    "aoai_embedding=os.environ['AZURE_OPENAI_EMBEDDINGS_DEPLOYMENT']"
   ]
  },
  {
   "cell_type": "markdown",
   "metadata": {},
   "source": [
    "### Utility Funtions"
   ]
  },
  {
   "cell_type": "code",
   "execution_count": 2,
   "metadata": {},
   "outputs": [],
   "source": [
    "# JSON print beautifier\n",
    "def json_print(data):\n",
    "    print(json.dumps(data, indent=2))"
   ]
  },
  {
   "cell_type": "markdown",
   "metadata": {},
   "source": [
    "### Create a Weaviate Embedded DB"
   ]
  },
  {
   "cell_type": "code",
   "execution_count": 3,
   "metadata": {},
   "outputs": [
    {
     "name": "stderr",
     "output_type": "stream",
     "text": [
      "{\"action\":\"startup\",\"default_vectorizer_module\":\"none\",\"level\":\"info\",\"msg\":\"the default vectorizer modules is set to \\\"none\\\", as a result all new schema classes without an explicit vectorizer setting, will use this vectorizer\",\"time\":\"2024-10-19T21:08:42Z\"}\n",
      "{\"action\":\"startup\",\"auto_schema_enabled\":true,\"level\":\"info\",\"msg\":\"auto schema enabled setting is set to \\\"true\\\"\",\"time\":\"2024-10-19T21:08:42Z\"}\n",
      "{\"level\":\"info\",\"msg\":\"No resource limits set, weaviate will use all available memory and CPU. To limit resources, set LIMIT_RESOURCES=true\",\"time\":\"2024-10-19T21:08:42Z\"}\n",
      "{\"level\":\"info\",\"msg\":\"module offload-s3 is enabled\",\"time\":\"2024-10-19T21:08:42Z\"}\n",
      "{\"level\":\"warning\",\"msg\":\"Multiple vector spaces are present, GraphQL Explore and REST API list objects endpoint module include params has been disabled as a result.\",\"time\":\"2024-10-19T21:08:42Z\"}\n",
      "{\"level\":\"info\",\"msg\":\"open cluster service\",\"servers\":{\"Embedded_at_8079\":54439},\"time\":\"2024-10-19T21:08:42Z\"}\n",
      "{\"address\":\"10.0.3.52:54440\",\"level\":\"info\",\"msg\":\"starting cloud rpc server ...\",\"time\":\"2024-10-19T21:08:42Z\"}\n",
      "{\"level\":\"info\",\"msg\":\"starting raft sub-system ...\",\"time\":\"2024-10-19T21:08:42Z\"}\n",
      "{\"address\":\"10.0.3.52:54439\",\"level\":\"info\",\"msg\":\"tcp transport\",\"tcpMaxPool\":3,\"tcpTimeout\":10000000000,\"time\":\"2024-10-19T21:08:42Z\"}\n",
      "{\"level\":\"info\",\"msg\":\"loading local db\",\"time\":\"2024-10-19T21:08:42Z\"}\n",
      "{\"level\":\"info\",\"msg\":\"local DB successfully loaded\",\"time\":\"2024-10-19T21:08:42Z\"}\n",
      "{\"level\":\"info\",\"msg\":\"schema manager loaded\",\"n\":0,\"time\":\"2024-10-19T21:08:42Z\"}\n",
      "{\"level\":\"info\",\"metadata_only_voters\":false,\"msg\":\"construct a new raft node\",\"name\":\"Embedded_at_8079\",\"time\":\"2024-10-19T21:08:42Z\"}\n",
      "{\"action\":\"raft\",\"index\":10,\"level\":\"info\",\"msg\":\"raft initial configuration\",\"servers\":\"[[{Suffrage:Voter ID:Embedded_at_8079 Address:10.0.10.55:58155}]]\",\"time\":\"2024-10-19T21:08:42Z\"}\n",
      "{\"last_snapshot_index\":0,\"last_store_applied_index\":0,\"last_store_log_applied_index\":24,\"level\":\"info\",\"msg\":\"raft node constructed\",\"raft_applied_index\":0,\"raft_last_index\":24,\"time\":\"2024-10-19T21:08:42Z\"}\n",
      "{\"action\":\"raft\",\"follower\":{},\"leader-address\":\"\",\"leader-id\":\"\",\"level\":\"info\",\"msg\":\"raft entering follower state\",\"time\":\"2024-10-19T21:08:42Z\"}\n",
      "{\"action\":\"bootstrap\",\"error\":\"could not join a cluster from [10.0.3.52:54439]\",\"level\":\"warning\",\"msg\":\"failed to join cluster, will notify next if voter\",\"servers\":[\"10.0.3.52:54439\"],\"time\":\"2024-10-19T21:08:43Z\",\"voter\":true}\n",
      "{\"action\":\"bootstrap\",\"candidates\":[{\"Suffrage\":0,\"ID\":\"Embedded_at_8079\",\"Address\":\"10.0.3.52:54439\"}],\"level\":\"info\",\"msg\":\"starting cluster bootstrapping\",\"time\":\"2024-10-19T21:08:43Z\"}\n",
      "{\"action\":\"bootstrap\",\"error\":\"bootstrap only works on new clusters\",\"level\":\"error\",\"msg\":\"could not bootstrapping cluster\",\"time\":\"2024-10-19T21:08:43Z\"}\n",
      "{\"action\":\"bootstrap\",\"level\":\"info\",\"msg\":\"notified peers this node is ready to join as voter\",\"servers\":[\"10.0.3.52:54439\"],\"time\":\"2024-10-19T21:08:43Z\"}\n",
      "{\"action\":\"raft\",\"last-leader-addr\":\"\",\"last-leader-id\":\"\",\"level\":\"warning\",\"msg\":\"raft heartbeat timeout reached, starting election\",\"time\":\"2024-10-19T21:08:43Z\"}\n",
      "{\"action\":\"raft\",\"level\":\"info\",\"msg\":\"raft entering candidate state\",\"node\":{},\"term\":6,\"time\":\"2024-10-19T21:08:43Z\"}\n",
      "{\"action\":\"raft\",\"level\":\"info\",\"msg\":\"raft election won\",\"tally\":1,\"term\":6,\"time\":\"2024-10-19T21:08:43Z\"}\n",
      "{\"action\":\"raft\",\"leader\":{},\"level\":\"info\",\"msg\":\"raft entering leader state\",\"time\":\"2024-10-19T21:08:43Z\"}\n",
      "{\"level\":\"info\",\"msg\":\"reload local db: update schema ...\",\"time\":\"2024-10-19T21:08:43Z\"}\n",
      "{\"index\":\"Eudestinations\",\"level\":\"info\",\"msg\":\"reload local index\",\"time\":\"2024-10-19T21:08:43Z\"}\n"
     ]
    },
    {
     "name": "stdout",
     "output_type": "stream",
     "text": [
      "true\n"
     ]
    },
    {
     "name": "stderr",
     "output_type": "stream",
     "text": [
      "{\"docker_image_tag\":\"unknown\",\"level\":\"info\",\"msg\":\"configured versions\",\"server_version\":\"1.26.1\",\"time\":\"2024-10-19T21:08:44Z\"}\n",
      "{\"action\":\"grpc_startup\",\"level\":\"info\",\"msg\":\"grpc server listening at [::]:50050\",\"time\":\"2024-10-19T21:08:44Z\"}\n",
      "{\"action\":\"restapi_management\",\"docker_image_tag\":\"unknown\",\"level\":\"info\",\"msg\":\"Serving weaviate at http://127.0.0.1:8079\",\"time\":\"2024-10-19T21:08:44Z\"}\n",
      "{\"address\":\"10.0.3.52:54439\",\"level\":\"info\",\"msg\":\"current Leader\",\"time\":\"2024-10-19T21:08:44Z\"}\n",
      "{\"action\":\"bootstrap\",\"level\":\"info\",\"msg\":\"node reporting ready, node has probably recovered cluster from raft config. Exiting bootstrap process\",\"time\":\"2024-10-19T21:08:44Z\"}\n"
     ]
    },
    {
     "name": "stderr",
     "output_type": "stream",
     "text": [
      "{\"action\":\"telemetry_push\",\"level\":\"info\",\"msg\":\"telemetry started\",\"payload\":\"\\u0026{MachineID:3ec1ed07-0566-4590-b922-abf5737b8b4a Type:INIT Version:1.26.1 NumObjects:0 OS:linux Arch:amd64 UsedModules:[text2vec-openai]}\",\"time\":\"2024-10-19T21:08:44Z\"}\n",
      "{\"action\":\"lsm_recover_from_active_wal\",\"class\":\"Eudestinations\",\"index\":\"eudestinations\",\"level\":\"warning\",\"msg\":\"empty write-ahead-log found. Did weaviate crash prior to this or the tenant on/loaded from the cloud? Nothing to recover from this file.\",\"path\":\"/home/codespace/.local/share/weaviate/eudestinations/t87rLMGzhlqI/lsm/objects/segment-1729297808769196871\",\"shard\":\"t87rLMGzhlqI\",\"time\":\"2024-10-19T21:08:44Z\"}\n",
      "{\"action\":\"lsm_recover_from_active_wal\",\"class\":\"Eudestinations\",\"index\":\"eudestinations\",\"level\":\"warning\",\"msg\":\"empty write-ahead-log found. Did weaviate crash prior to this or the tenant on/loaded from the cloud? Nothing to recover from this file.\",\"path\":\"/home/codespace/.local/share/weaviate/eudestinations/t87rLMGzhlqI/lsm/property_country/segment-1729297808787488092\",\"shard\":\"t87rLMGzhlqI\",\"time\":\"2024-10-19T21:08:44Z\"}\n",
      "{\"action\":\"lsm_recover_from_active_wal\",\"class\":\"Eudestinations\",\"index\":\"eudestinations\",\"level\":\"warning\",\"msg\":\"empty write-ahead-log found. Did weaviate crash prior to this or the tenant on/loaded from the cloud? Nothing to recover from this file.\",\"path\":\"/home/codespace/.local/share/weaviate/eudestinations/t87rLMGzhlqI/lsm/property_country_searchable/segment-1729297808789356456\",\"shard\":\"t87rLMGzhlqI\",\"time\":\"2024-10-19T21:08:44Z\"}\n",
      "{\"action\":\"lsm_recover_from_active_wal\",\"class\":\"Eudestinations\",\"index\":\"eudestinations\",\"level\":\"warning\",\"msg\":\"empty write-ahead-log found. Did weaviate crash prior to this or the tenant on/loaded from the cloud? Nothing to recover from this file.\",\"path\":\"/home/codespace/.local/share/weaviate/eudestinations/t87rLMGzhlqI/lsm/property_description/segment-1729297808791254997\",\"shard\":\"t87rLMGzhlqI\",\"time\":\"2024-10-19T21:08:44Z\"}\n",
      "{\"action\":\"lsm_recover_from_active_wal\",\"class\":\"Eudestinations\",\"index\":\"eudestinations\",\"level\":\"warning\",\"msg\":\"empty write-ahead-log found. Did weaviate crash prior to this or the tenant on/loaded from the cloud? Nothing to recover from this file.\",\"path\":\"/home/codespace/.local/share/weaviate/eudestinations/t87rLMGzhlqI/lsm/property_description_searchable/segment-1729297808795367679\",\"shard\":\"t87rLMGzhlqI\",\"time\":\"2024-10-19T21:08:44Z\"}\n",
      "{\"action\":\"lsm_recover_from_active_wal\",\"class\":\"Eudestinations\",\"index\":\"eudestinations\",\"level\":\"warning\",\"msg\":\"empty write-ahead-log found. Did weaviate crash prior to this or the tenant on/loaded from the cloud? Nothing to recover from this file.\",\"path\":\"/home/codespace/.local/share/weaviate/eudestinations/t87rLMGzhlqI/lsm/property_cultural/segment-1729297808798684284\",\"shard\":\"t87rLMGzhlqI\",\"time\":\"2024-10-19T21:08:44Z\"}\n",
      "{\"action\":\"lsm_recover_from_active_wal\",\"class\":\"Eudestinations\",\"index\":\"eudestinations\",\"level\":\"warning\",\"msg\":\"empty write-ahead-log found. Did weaviate crash prior to this or the tenant on/loaded from the cloud? Nothing to recover from this file.\",\"path\":\"/home/codespace/.local/share/weaviate/eudestinations/t87rLMGzhlqI/lsm/property_cultural_searchable/segment-1729297808802634170\",\"shard\":\"t87rLMGzhlqI\",\"time\":\"2024-10-19T21:08:44Z\"}\n",
      "{\"action\":\"lsm_recover_from_active_wal\",\"class\":\"Eudestinations\",\"index\":\"eudestinations\",\"level\":\"warning\",\"msg\":\"empty write-ahead-log found. Did weaviate crash prior to this or the tenant on/loaded from the cloud? Nothing to recover from this file.\",\"path\":\"/home/codespace/.local/share/weaviate/eudestinations/t87rLMGzhlqI/lsm/property_region/segment-1729297808805685812\",\"shard\":\"t87rLMGzhlqI\",\"time\":\"2024-10-19T21:08:44Z\"}\n",
      "{\"action\":\"lsm_recover_from_active_wal\",\"class\":\"Eudestinations\",\"index\":\"eudestinations\",\"level\":\"warning\",\"msg\":\"empty write-ahead-log found. Did weaviate crash prior to this or the tenant on/loaded from the cloud? Nothing to recover from this file.\",\"path\":\"/home/codespace/.local/share/weaviate/eudestinations/t87rLMGzhlqI/lsm/property_region_searchable/segment-1729297808808448542\",\"shard\":\"t87rLMGzhlqI\",\"time\":\"2024-10-19T21:08:44Z\"}\n",
      "{\"action\":\"lsm_recover_from_active_wal\",\"class\":\"Eudestinations\",\"index\":\"eudestinations\",\"level\":\"warning\",\"msg\":\"empty write-ahead-log found. Did weaviate crash prior to this or the tenant on/loaded from the cloud? Nothing to recover from this file.\",\"path\":\"/home/codespace/.local/share/weaviate/eudestinations/t87rLMGzhlqI/lsm/property_foods/segment-1729297808811005242\",\"shard\":\"t87rLMGzhlqI\",\"time\":\"2024-10-19T21:08:44Z\"}\n",
      "{\"action\":\"lsm_recover_from_active_wal\",\"class\":\"Eudestinations\",\"index\":\"eudestinations\",\"level\":\"warning\",\"msg\":\"empty write-ahead-log found. Did weaviate crash prior to this or the tenant on/loaded from the cloud? Nothing to recover from this file.\",\"path\":\"/home/codespace/.local/share/weaviate/eudestinations/t87rLMGzhlqI/lsm/property_foods_searchable/segment-1729297808814053405\",\"shard\":\"t87rLMGzhlqI\",\"time\":\"2024-10-19T21:08:44Z\"}\n",
      "{\"action\":\"lsm_recover_from_active_wal\",\"class\":\"Eudestinations\",\"index\":\"eudestinations\",\"level\":\"warning\",\"msg\":\"empty write-ahead-log found. Did weaviate crash prior to this or the tenant on/loaded from the cloud? Nothing to recover from this file.\",\"path\":\"/home/codespace/.local/share/weaviate/eudestinations/t87rLMGzhlqI/lsm/property_annualtourists/segment-1729297808816846243\",\"shard\":\"t87rLMGzhlqI\",\"time\":\"2024-10-19T21:08:44Z\"}\n",
      "{\"action\":\"lsm_recover_from_active_wal\",\"class\":\"Eudestinations\",\"index\":\"eudestinations\",\"level\":\"warning\",\"msg\":\"empty write-ahead-log found. Did weaviate crash prior to this or the tenant on/loaded from the cloud? Nothing to recover from this file.\",\"path\":\"/home/codespace/.local/share/weaviate/eudestinations/t87rLMGzhlqI/lsm/property_annualtourists_searchable/segment-1729297808819523176\",\"shard\":\"t87rLMGzhlqI\",\"time\":\"2024-10-19T21:08:44Z\"}\n",
      "{\"action\":\"lsm_recover_from_active_wal\",\"class\":\"Eudestinations\",\"index\":\"eudestinations\",\"level\":\"warning\",\"msg\":\"empty write-ahead-log found. Did weaviate crash prior to this or the tenant on/loaded from the cloud? Nothing to recover from this file.\",\"path\":\"/home/codespace/.local/share/weaviate/eudestinations/t87rLMGzhlqI/lsm/property_besttimevisit/segment-1729297808821564773\",\"shard\":\"t87rLMGzhlqI\",\"time\":\"2024-10-19T21:08:44Z\"}\n",
      "{\"action\":\"lsm_recover_from_active_wal\",\"class\":\"Eudestinations\",\"index\":\"eudestinations\",\"level\":\"warning\",\"msg\":\"empty write-ahead-log found. Did weaviate crash prior to this or the tenant on/loaded from the cloud? Nothing to recover from this file.\",\"path\":\"/home/codespace/.local/share/weaviate/eudestinations/t87rLMGzhlqI/lsm/property_besttimevisit_searchable/segment-1729297808823329160\",\"shard\":\"t87rLMGzhlqI\",\"time\":\"2024-10-19T21:08:44Z\"}\n",
      "{\"action\":\"lsm_recover_from_active_wal\",\"class\":\"Eudestinations\",\"index\":\"eudestinations\",\"level\":\"warning\",\"msg\":\"empty write-ahead-log found. Did weaviate crash prior to this or the tenant on/loaded from the cloud? Nothing to recover from this file.\",\"path\":\"/home/codespace/.local/share/weaviate/eudestinations/t87rLMGzhlqI/lsm/property_language/segment-1729297808825505389\",\"shard\":\"t87rLMGzhlqI\",\"time\":\"2024-10-19T21:08:44Z\"}\n",
      "{\"action\":\"lsm_recover_from_active_wal\",\"class\":\"Eudestinations\",\"index\":\"eudestinations\",\"level\":\"warning\",\"msg\":\"empty write-ahead-log found. Did weaviate crash prior to this or the tenant on/loaded from the cloud? Nothing to recover from this file.\",\"path\":\"/home/codespace/.local/share/weaviate/eudestinations/t87rLMGzhlqI/lsm/property_language_searchable/segment-1729297808827336734\",\"shard\":\"t87rLMGzhlqI\",\"time\":\"2024-10-19T21:08:44Z\"}\n",
      "{\"action\":\"lsm_recover_from_active_wal\",\"class\":\"Eudestinations\",\"index\":\"eudestinations\",\"level\":\"warning\",\"msg\":\"empty write-ahead-log found. Did weaviate crash prior to this or the tenant on/loaded from the cloud? Nothing to recover from this file.\",\"path\":\"/home/codespace/.local/share/weaviate/eudestinations/t87rLMGzhlqI/lsm/property_costliving/segment-1729297808829204723\",\"shard\":\"t87rLMGzhlqI\",\"time\":\"2024-10-19T21:08:44Z\"}\n",
      "{\"action\":\"lsm_recover_from_active_wal\",\"class\":\"Eudestinations\",\"index\":\"eudestinations\",\"level\":\"warning\",\"msg\":\"empty write-ahead-log found. Did weaviate crash prior to this or the tenant on/loaded from the cloud? Nothing to recover from this file.\",\"path\":\"/home/codespace/.local/share/weaviate/eudestinations/t87rLMGzhlqI/lsm/property_costliving_searchable/segment-1729297808831009995\",\"shard\":\"t87rLMGzhlqI\",\"time\":\"2024-10-19T21:08:44Z\"}\n",
      "{\"action\":\"lsm_recover_from_active_wal\",\"class\":\"Eudestinations\",\"index\":\"eudestinations\",\"level\":\"warning\",\"msg\":\"empty write-ahead-log found. Did weaviate crash prior to this or the tenant on/loaded from the cloud? Nothing to recover from this file.\",\"path\":\"/home/codespace/.local/share/weaviate/eudestinations/t87rLMGzhlqI/lsm/property_destination/segment-1729297808832866000\",\"shard\":\"t87rLMGzhlqI\",\"time\":\"2024-10-19T21:08:44Z\"}\n",
      "{\"action\":\"lsm_recover_from_active_wal\",\"class\":\"Eudestinations\",\"index\":\"eudestinations\",\"level\":\"warning\",\"msg\":\"empty write-ahead-log found. Did weaviate crash prior to this or the tenant on/loaded from the cloud? Nothing to recover from this file.\",\"path\":\"/home/codespace/.local/share/weaviate/eudestinations/t87rLMGzhlqI/lsm/property_destination_searchable/segment-1729297808835390137\",\"shard\":\"t87rLMGzhlqI\",\"time\":\"2024-10-19T21:08:44Z\"}\n",
      "{\"action\":\"lsm_recover_from_active_wal\",\"class\":\"Eudestinations\",\"index\":\"eudestinations\",\"level\":\"warning\",\"msg\":\"empty write-ahead-log found. Did weaviate crash prior to this or the tenant on/loaded from the cloud? Nothing to recover from this file.\",\"path\":\"/home/codespace/.local/share/weaviate/eudestinations/t87rLMGzhlqI/lsm/property_category/segment-1729297808837542928\",\"shard\":\"t87rLMGzhlqI\",\"time\":\"2024-10-19T21:08:44Z\"}\n",
      "{\"action\":\"lsm_recover_from_active_wal\",\"class\":\"Eudestinations\",\"index\":\"eudestinations\",\"level\":\"warning\",\"msg\":\"empty write-ahead-log found. Did weaviate crash prior to this or the tenant on/loaded from the cloud? Nothing to recover from this file.\",\"path\":\"/home/codespace/.local/share/weaviate/eudestinations/t87rLMGzhlqI/lsm/property_category_searchable/segment-1729297808839548514\",\"shard\":\"t87rLMGzhlqI\",\"time\":\"2024-10-19T21:08:44Z\"}\n",
      "{\"action\":\"lsm_recover_from_active_wal\",\"class\":\"Eudestinations\",\"index\":\"eudestinations\",\"level\":\"warning\",\"msg\":\"empty write-ahead-log found. Did weaviate crash prior to this or the tenant on/loaded from the cloud? Nothing to recover from this file.\",\"path\":\"/home/codespace/.local/share/weaviate/eudestinations/t87rLMGzhlqI/lsm/property__id/segment-1729297808784815194\",\"shard\":\"t87rLMGzhlqI\",\"time\":\"2024-10-19T21:08:44Z\"}\n",
      "{\"action\":\"hnsw_prefill_cache_async\",\"level\":\"info\",\"msg\":\"not waiting for vector cache prefill, running in background\",\"time\":\"2024-10-19T21:08:44Z\",\"wait_for_cache_prefill\":false}\n",
      "{\"level\":\"info\",\"msg\":\"Completed loading shard eudestinations_t87rLMGzhlqI in 79.119609ms\",\"time\":\"2024-10-19T21:08:44Z\"}\n",
      "{\"action\":\"hnsw_vector_cache_prefill\",\"count\":3000,\"index_id\":\"vectors_title_vector\",\"level\":\"info\",\"limit\":1000000000000,\"msg\":\"prefilled vector cache\",\"time\":\"2024-10-19T21:08:44Z\",\"took\":2004391}\n"
     ]
    }
   ],
   "source": [
    "client = weaviate.connect_to_embedded(\n",
    "    version=\"1.26.1\",  # e.g. version=\"1.26.5\"\n",
    "    headers={\n",
    "        \"X-OpenAI-BaseURL\": aoai_endpoint,\n",
    "        \"X-Azure-Api-Key\": aoai_key\n",
    "    },\n",
    ")\n",
    "\n",
    "json_print(client.is_ready())"
   ]
  },
  {
   "cell_type": "code",
   "execution_count": 4,
   "metadata": {},
   "outputs": [
    {
     "name": "stdout",
     "output_type": "stream",
     "text": [
      "{\n",
      "  \"hostname\": \"http://127.0.0.1:8079\",\n",
      "  \"modules\": {\n",
      "    \"generative-openai\": {\n",
      "      \"documentationHref\": \"https://platform.openai.com/docs/api-reference/completions\",\n",
      "      \"name\": \"Generative Search - OpenAI\"\n",
      "    },\n",
      "    \"qna-openai\": {\n",
      "      \"documentationHref\": \"https://platform.openai.com/docs/api-reference/completions\",\n",
      "      \"name\": \"OpenAI Question & Answering Module\"\n",
      "    },\n",
      "    \"ref2vec-centroid\": {},\n",
      "    \"reranker-cohere\": {\n",
      "      \"documentationHref\": \"https://txt.cohere.com/rerank/\",\n",
      "      \"name\": \"Reranker - Cohere\"\n",
      "    },\n",
      "    \"text2vec-cohere\": {\n",
      "      \"documentationHref\": \"https://docs.cohere.ai/embedding-wiki/\",\n",
      "      \"name\": \"Cohere Module\"\n",
      "    },\n",
      "    \"text2vec-huggingface\": {\n",
      "      \"documentationHref\": \"https://huggingface.co/docs/api-inference/detailed_parameters#feature-extraction-task\",\n",
      "      \"name\": \"Hugging Face Module\"\n",
      "    },\n",
      "    \"text2vec-openai\": {\n",
      "      \"documentationHref\": \"https://platform.openai.com/docs/guides/embeddings/what-are-embeddings\",\n",
      "      \"name\": \"OpenAI Module\"\n",
      "    }\n",
      "  },\n",
      "  \"version\": \"1.26.1\"\n",
      "}\n"
     ]
    }
   ],
   "source": [
    "# Show Weaviate DB metadata\n",
    "json_print(client.get_meta())"
   ]
  },
  {
   "cell_type": "markdown",
   "metadata": {},
   "source": [
    "### Create Collection (EU Destinations)"
   ]
  },
  {
   "cell_type": "code",
   "execution_count": 5,
   "metadata": {},
   "outputs": [],
   "source": [
    "if client.collections.exists(\"eudestinations\"):\n",
    "    client.collections.delete(\"eudestinations\")"
   ]
  },
  {
   "cell_type": "code",
   "execution_count": 6,
   "metadata": {},
   "outputs": [
    {
     "data": {
      "text/plain": [
       "<weaviate.collections.collection.sync.Collection at 0x7d0bad60a9f0>"
      ]
     },
     "execution_count": 6,
     "metadata": {},
     "output_type": "execute_result"
    },
    {
     "name": "stderr",
     "output_type": "stream",
     "text": [
      "{\"level\":\"warning\",\"msg\":\"prop len tracker file /home/codespace/.local/share/weaviate/eudestinations/t87rLMGzhlqI/proplengths does not exist, creating new tracker\",\"time\":\"2024-10-19T00:24:17Z\"}\n",
      "{\"action\":\"hnsw_prefill_cache_async\",\"level\":\"info\",\"msg\":\"not waiting for vector cache prefill, running in background\",\"time\":\"2024-10-19T00:24:17Z\",\"wait_for_cache_prefill\":false}\n",
      "{\"level\":\"info\",\"msg\":\"Created shard eudestinations_t87rLMGzhlqI in 1.101925ms\",\"time\":\"2024-10-19T00:24:17Z\"}\n",
      "{\"action\":\"hnsw_vector_cache_prefill\",\"count\":1000,\"index_id\":\"vectors_title_vector\",\"level\":\"info\",\"limit\":1000000000000,\"msg\":\"prefilled vector cache\",\"time\":\"2024-10-19T00:24:17Z\",\"took\":39143}\n"
     ]
    }
   ],
   "source": [
    "client.collections.create(\n",
    "    \"eudestinations\",\n",
    "    vectorizer_config=[\n",
    "        Configure.NamedVectors.text2vec_azure_openai(\n",
    "            name=\"title_vector\",            \n",
    "            resource_name=\"aoai-airlift-1\",\n",
    "            deployment_id=aoai_embedding,\n",
    "            base_url=aoai_endpoint\n",
    "        )\n",
    "    ],\n",
    "    # Additional parameters not shown\n",
    ")"
   ]
  },
  {
   "cell_type": "markdown",
   "metadata": {},
   "source": [
    "### Read Europe Touristic Destinations"
   ]
  },
  {
   "cell_type": "code",
   "execution_count": 7,
   "metadata": {},
   "outputs": [
    {
     "name": "stdout",
     "output_type": "stream",
     "text": [
      "{\n",
      "  \"Destination\": \"Rome\",\n",
      "  \"Region\": \"Lazio\",\n",
      "  \"Country\": \"Italy\",\n",
      "  \"Category\": \"City\",\n",
      "  \"Approximate Annual Tourists\": \"14 million\",\n",
      "  \"Famous Foods\": \"Pizza, Pasta, Gelato\",\n",
      "  \"Language\": \"Italian\",\n",
      "  \"Best Time to Visit\": \"Spring (April-May) or Fall (Sept-Oct)\",\n",
      "  \"Cost of Living\": \"Medium-high\",\n",
      "  \"Cultural Significance\": \"The capital city, known for its historical landmarks like the Colosseum, Vatican City, and Pantheon.\",\n",
      "  \"Description\": \"A hub of ancient history and modern culture, with rich traditions, art, and landmarks.\"\n",
      "}\n"
     ]
    }
   ],
   "source": [
    "file_path = '../data/eu_destinations_n.json'\n",
    "\n",
    "with open(file_path, \"r\") as file:\n",
    "    data = file.read()\n",
    "\n",
    "ds = json.loads(data)\n",
    "json_print(ds[0])"
   ]
  },
  {
   "cell_type": "markdown",
   "metadata": {},
   "source": [
    "### Create Embeddings"
   ]
  },
  {
   "cell_type": "code",
   "execution_count": 8,
   "metadata": {},
   "outputs": [],
   "source": [
    "collection = client.collections.get(\"eudestinations\")\n",
    "\n",
    "with collection.batch.dynamic() as batch:\n",
    "    for i, d in enumerate(ds):\n",
    "        weaviate_obj = {\n",
    "            \"destination\": d[\"Destination\"],\n",
    "            \"region\": d[\"Region\"],\n",
    "            \"country\": d[\"Country\"],\n",
    "            \"category\": d[\"Category\"],\n",
    "            \"annualtourists\": d[\"Approximate Annual Tourists\"],\n",
    "            \"foods\": d[\"Famous Foods\"],\n",
    "            \"language\": d[\"Language\"],\n",
    "            \"besttimevisit\": d[\"Best Time to Visit\"],\n",
    "            \"costliving\": d[\"Cost of Living\"],\n",
    "            \"cultural\": d[\"Cultural Significance\"],\n",
    "            \"description\": d[\"Description\"]\n",
    "        }\n",
    "\n",
    "        # The model provider integration will automatically vectorize the object\n",
    "        batch.add_object(\n",
    "            properties=weaviate_obj,\n",
    "            # vector=vector  # Optionally provide a pre-obtained vector\n",
    "        )"
   ]
  },
  {
   "cell_type": "code",
   "execution_count": null,
   "metadata": {},
   "outputs": [],
   "source": [
    "# count = client.query.aggregate(\"eudestinations\").with_meta_count().do()\n",
    "# json_print(count)"
   ]
  },
  {
   "cell_type": "code",
   "execution_count": 5,
   "metadata": {},
   "outputs": [],
   "source": [
    "from weaviate.classes.query import MetadataQuery\n",
    "\n",
    "collection = client.collections.get(\"eudestinations\")\n",
    "\n",
    "response = collection.query.near_text(\n",
    "    query=\"Picasso\",  # The model provider integration will automatically vectorize the query\n",
    "    limit=5,\n",
    "    return_metadata=MetadataQuery(distance=True)\n",
    ")"
   ]
  },
  {
   "cell_type": "code",
   "execution_count": 6,
   "metadata": {},
   "outputs": [
    {
     "name": "stdout",
     "output_type": "stream",
     "text": [
      "{'language': 'Spanish', 'description': 'Birthplace of Picasso, featuring stunning beaches and a lively port.', 'besttimevisit': 'Spring (April-May) or Fall (Sept-Oct)', 'category': 'City', 'destination': 'M\\xa0laga', 'costliving': 'Medium', 'region': 'Andalusia', 'annualtourists': '2 million', 'country': 'Spain', 'foods': 'Tapas, Gazpacho, Espetos', 'cultural': 'A coastal city known for its beautiful beaches, historic center, and Picasso Museum.'}\n",
      "0.18377715349197388\n",
      "{'language': 'Spanish (and Basque)', 'description': 'An industrial city turned cultural hotspot, home to the iconic Guggenheim Museum.', 'besttimevisit': 'Spring (April-May) or Fall (Sept-Oct)', 'country': 'Spain', 'destination': 'Bilbao', 'costliving': 'Medium-high', 'region': 'Basque Country', 'annualtourists': '1.5 million', 'category': 'City', 'foods': 'Pintxos, Bacalao al pil-pil', 'cultural': 'A modern city known for its Guggenheim Museum, vibrant atmosphere, and delicious pintxos.'}\n",
      "0.18603205680847168\n",
      "{'language': 'Spanish (and Basque)', 'description': 'Renowned for its food scene, with pristine beaches and picturesque Old Town streets.', 'besttimevisit': 'Spring (April-May) or Fall (Sept-Oct)', 'country': 'Spain', 'destination': 'San Sebasti\\xa0n', 'costliving': 'Medium-high', 'region': 'Basque Country', 'annualtourists': '1 million', 'category': 'City', 'foods': 'Pintxos, Bacalao al pil-pil', 'cultural': 'A coastal city known for its beautiful beaches, delicious pintxos, and vibrant atmosphere.'}\n",
      "0.21078360080718994\n",
      "{'language': 'Spanish', 'description': 'Home to the Prado Museum, Royal Palace, and rich Spanish history.', 'besttimevisit': 'Spring (April-May) or Fall (Sept-Oct)', 'country': 'Spain', 'destination': 'Madrid', 'costliving': 'Medium-high', 'region': 'Community of Madrid', 'annualtourists': '7 million', 'category': 'City', 'foods': 'Tapas, Tortilla Espa¤ola, Jam¢n Ib\\x82rico', 'cultural': 'The capital city, known for its world-class museums, lively atmosphere, and historical landmarks.'}\n",
      "0.21628355979919434\n",
      "{'language': 'Spanish', 'description': 'A city of stunning architecture, art, and vibrant culture. Famous for La Sagrada Familia and Park G\\x81ell.', 'besttimevisit': 'Spring (April-May) or Fall (Sept-Oct)', 'country': 'Spain', 'destination': 'Barcelona', 'costliving': 'Medium-high', 'region': 'Catalonia', 'annualtourists': '12.7 million', 'category': 'City', 'foods': 'Paella, Tapas, Gazpacho', 'cultural': 'Known for its Gaudi architecture, beautiful beaches, and vibrant nightlife.'}\n",
      "0.21990102529525757\n"
     ]
    }
   ],
   "source": [
    "for obj in response.objects:\n",
    "    print(obj.properties)\n",
    "    print(obj.metadata.distance)"
   ]
  },
  {
   "cell_type": "code",
   "execution_count": 7,
   "metadata": {},
   "outputs": [],
   "source": [
    "response = collection.query.near_text(\n",
    "    query=\"Picasso\",  # The model provider integration will automatically vectorize the query    \n",
    "    distance=0.20, \n",
    "    return_metadata=MetadataQuery(distance=True)\n",
    ")"
   ]
  },
  {
   "cell_type": "code",
   "execution_count": 8,
   "metadata": {},
   "outputs": [
    {
     "name": "stdout",
     "output_type": "stream",
     "text": [
      "{'language': 'Spanish', 'description': 'Birthplace of Picasso, featuring stunning beaches and a lively port.', 'besttimevisit': 'Spring (April-May) or Fall (Sept-Oct)', 'category': 'City', 'destination': 'M\\xa0laga', 'costliving': 'Medium', 'region': 'Andalusia', 'annualtourists': '2 million', 'country': 'Spain', 'foods': 'Tapas, Gazpacho, Espetos', 'cultural': 'A coastal city known for its beautiful beaches, historic center, and Picasso Museum.'}\n",
      "0.18377715349197388\n",
      "{'language': 'Spanish (and Basque)', 'description': 'An industrial city turned cultural hotspot, home to the iconic Guggenheim Museum.', 'besttimevisit': 'Spring (April-May) or Fall (Sept-Oct)', 'country': 'Spain', 'destination': 'Bilbao', 'costliving': 'Medium-high', 'region': 'Basque Country', 'annualtourists': '1.5 million', 'category': 'City', 'foods': 'Pintxos, Bacalao al pil-pil', 'cultural': 'A modern city known for its Guggenheim Museum, vibrant atmosphere, and delicious pintxos.'}\n",
      "0.18603205680847168\n"
     ]
    }
   ],
   "source": [
    "for obj in response.objects:\n",
    "    print(obj.properties)\n",
    "    print(obj.metadata.distance)"
   ]
  },
  {
   "cell_type": "code",
   "execution_count": 9,
   "metadata": {},
   "outputs": [
    {
     "ename": "KeyError",
     "evalue": "'default'",
     "output_type": "error",
     "traceback": [
      "\u001b[0;31m---------------------------------------------------------------------------\u001b[0m",
      "\u001b[0;31mKeyError\u001b[0m                                  Traceback (most recent call last)",
      "Cell \u001b[0;32mIn[9], line 6\u001b[0m\n\u001b[1;32m      1\u001b[0m response \u001b[38;5;241m=\u001b[39m collection\u001b[38;5;241m.\u001b[39mquery\u001b[38;5;241m.\u001b[39mfetch_objects(\n\u001b[1;32m      2\u001b[0m     include_vector\u001b[38;5;241m=\u001b[39m\u001b[38;5;28;01mTrue\u001b[39;00m,\n\u001b[1;32m      3\u001b[0m     limit\u001b[38;5;241m=\u001b[39m\u001b[38;5;241m1\u001b[39m\n\u001b[1;32m      4\u001b[0m )\n\u001b[0;32m----> 6\u001b[0m \u001b[38;5;28mprint\u001b[39m(\u001b[43mresponse\u001b[49m\u001b[38;5;241;43m.\u001b[39;49m\u001b[43mobjects\u001b[49m\u001b[43m[\u001b[49m\u001b[38;5;241;43m0\u001b[39;49m\u001b[43m]\u001b[49m\u001b[38;5;241;43m.\u001b[39;49m\u001b[43mvector\u001b[49m\u001b[43m[\u001b[49m\u001b[38;5;124;43m\"\u001b[39;49m\u001b[38;5;124;43mdefault\u001b[39;49m\u001b[38;5;124;43m\"\u001b[39;49m\u001b[43m]\u001b[49m)\n",
      "\u001b[0;31mKeyError\u001b[0m: 'default'"
     ]
    }
   ],
   "source": [
    "response = collection.query.fetch_objects(\n",
    "    include_vector=True,\n",
    "    limit=1\n",
    ")\n",
    "print(response.objects[0].vector[\"title_vector\"])"
   ]
  },
  {
   "cell_type": "code",
   "execution_count": 10,
   "metadata": {},
   "outputs": [
    {
     "name": "stdout",
     "output_type": "stream",
     "text": [
      "[0.00431612366810441, -0.03275689482688904, -0.008665810339152813, -0.008484573103487492, -0.02239282801747322, 0.04306726157665253, -0.06202330440282822, 0.008182511664927006, 0.002503754571080208, -0.03989897295832634, -0.003665013238787651, 0.03734822943806648, -0.028997907415032387, 0.008712797425687313, -0.012035474181175232, -0.013257144950330257, 0.007236051838845015, -0.022285429760813713, 0.0009212876902893186, 0.0032438053749501705, -0.010827228426933289, 0.01760011911392212, 0.005735813174396753, -0.011350801214575768, -0.005675400607287884, 0.0383148267865181, -0.000148618477396667, -0.007074952591210604, -0.018942615017294884, 0.0016974180471152067, 0.010458041913807392, 0.018687540665268898, -0.00020210853836033493, -0.01966756209731102, -0.018029717728495598, 0.01557295024394989, -0.0075179762206971645, -0.013478657230734825, 0.02357422560453415, 0.0059539685025811195, 0.006534597836434841, 0.0007018735632300377, -0.010310366749763489, 0.02305065095424652, 0.014901702292263508, 0.015291026793420315, 0.02037908509373665, 0.00033541416632942855, 0.01535815093666315, 0.023748749867081642, -0.0003045787161681801, 0.02474219538271427, -0.013706881552934647, -0.015519250184297562, 0.0036314509343355894, -0.000683833786752075, -0.037240833044052124, -0.018593566492199898, 0.01675434596836567, -0.018177391961216927, -0.00886718463152647, -0.002352723851799965, -0.027843361720442772, 0.00407111831009388, -0.011042027734220028, 0.0017418882343918085, -0.02149335667490959, 0.005400189198553562, -0.005061208736151457, 0.004494004417210817, 0.026755940169095993, 0.03584463521838188, 0.002223508432507515, -0.0225405041128397, 0.04239601641893387, -0.01788204349577427, 0.004091255832463503, 0.02154705673456192, -0.013042345643043518, 0.004504072945564985, 0.005521013867110014, -0.044060710817575455, -0.0261115413159132, 0.0035106262657791376, 0.02342654950916767, 0.0305283535271883, -0.013706881552934647, 0.016673797741532326, -0.0017284632194787264, -0.000752217136323452, 0.0008545824093744159, 0.02746746316552162, 0.02168130688369274, 0.0016076386673375964, -0.0030239715706557035, -0.009189383126795292, -0.02103690803050995, 0.020808683708310127, -0.015170201659202576, -0.011250114068388939, -0.002730300650000572, 0.01717052049934864, 0.005766019225120544, -0.007027965039014816, -0.03979157283902168, 0.01754641905426979, 0.0043329051695764065, -0.011464913375675678, -0.002698416355997324, -0.014351279474794865, 0.003883168799802661, 0.03579093515872955, -0.0029769842512905598, -0.014136480167508125, -0.013854555785655975, -0.017868617549538612, 0.013015495613217354, 0.012955083511769772, 0.007920724339783192, -0.028675708919763565, -0.0011579025303944945, 0.0002575913676992059, -0.006601722911000252, -0.01981523633003235, -0.00842416100203991, 0.010531879030168056, 0.01825794205069542, -0.002849447075277567, -0.0076857879757881165, -0.008289910852909088, 0.005896912422031164, -0.008263060823082924, 0.008900746703147888, -0.00464503513649106, -0.031790297478437424, 0.012525484897196293, -0.03595203533768654, -0.015183626674115658, -0.027923911809921265, -0.026084691286087036, 0.01470032799988985, 0.01782834343612194, -0.00024416641099378467, -0.013156457804143429, 0.03315964341163635, 0.03165604919195175, 0.011344089172780514, 0.012075749225914478, 0.01972126215696335, 0.004450373351573944, 0.014458678662776947, 0.0003826112952083349, 0.008135523647069931, 0.020593885332345963, 0.00326394266448915, 0.010860790498554707, -0.011008464731276035, -0.016109948977828026, -0.024621371179819107, -0.005108196288347244, -0.007806612644344568, 0.004658460151404142, 0.011276964098215103, -0.013263857923448086, 0.02135910652577877, 0.023507099598646164, 0.027789661660790443, 0.023372851312160492, 0.015734050422906876, 0.0033042177092283964, -0.01557295024394989, 0.008605397306382656, -0.011310526169836521, 0.022970102727413177, 0.007504551205784082, 0.03340129554271698, 8.547922334400937e-05, -0.011243402026593685, -0.012176436372101307, -0.0018123692134395242, -0.028111860156059265, -0.015344725921750069, 0.021869255229830742, 0.0369991809129715, -0.013042345643043518, 0.0003886944614350796, -0.001541352947242558, 0.029803404584527016, 0.0033696643076837063, -0.00394022511318326, 0.023184901103377342, 0.005091415252536535, 0.0011142714647576213, 0.013639756478369236, -0.6392427682876587, -0.001787197426892817, 0.0003601664211601019, -0.011894511990249157, 0.0007169766467995942, 0.005672044586390257, 0.03203194960951805, 0.024970419704914093, -0.01272685918956995, -0.031548649072647095, -0.013257144950330257, 0.02926640771329403, -0.022137753665447235, -0.005658619571477175, -0.01127025205641985, -0.024715347215533257, -0.012760422192513943, -0.0038261127192527056, 0.011907937005162239, 0.0018073348328471184, -0.014243879355490208, 0.034233640879392624, -0.010968189686536789, 0.03852962702512741, -0.003997281193733215, 0.013867980800569057, -0.008887321688234806, -0.018888914957642555, -0.010518454015254974, 0.022782152518630028, -0.016257623210549355, 0.014874852262437344, 0.0007408898090943694, 0.008229498751461506, 0.057942114770412445, -0.003725425573065877, -0.012364385649561882, 0.022970102727413177, -0.0015329623129218817, 0.04916219413280487, 0.003099486930295825, -0.0020372371654957533, 0.034743789583444595, -0.005940543487668037, 0.018043141812086105, 0.017532994970679283, 0.01694229617714882, 0.008336898870766163, -0.01535815093666315, -0.028353510424494743, 0.03090425208210945, 0.01312289573252201, -0.00716221472248435, 0.004631610121577978, 0.002231899183243513, 0.009256508201360703, 0.014660052955150604, -0.02498384565114975, -0.004467154387384653, 0.0130087835714221, -0.015277601778507233, 0.043308913707733154, -0.01619049906730652, -0.027548011392354965, -0.037670429795980453, 0.0006775408401153982, 0.006947415415197611, -0.013908255845308304, 0.02408437244594097, -0.017949167639017105, 0.017895467579364777, 0.05020933970808983, 0.005051140207797289, -0.0037120007909834385, 0.041187770664691925, 0.033804044127464294, 0.025373170152306557, -0.00018060763250105083, -0.023319151252508163, -0.007276326883584261, 0.027655411511659622, -0.0020942932460457087, -0.03428734093904495, 0.017197370529174805, 0.016391873359680176, -0.002317483304068446, -0.002753794426098466, 0.012505347840487957, 0.007470988668501377, 0.001995284343138337, 0.005943899974226952, 0.039174024015665054, 0.004064405802637339, -0.0031296932138502598, 0.007437426131218672, 0.005749237723648548, 0.0062526739202439785, -0.002673244569450617, 0.022876126691699028, -0.0383148267865181, 0.011840811930596828, -0.004849765915423632, 0.015613225288689137, -0.0016042824136093259, 0.01388140581548214, 0.010565441101789474, -0.030045054852962494, 0.004248999059200287, 0.013216870836913586, 0.0014926873845979571, 0.01138436421751976, -0.014740603044629097, -0.002760506933555007, -0.017868617549538612, 0.00159924803301692, -0.023547375574707985, 0.0029769842512905598, -0.013787430711090565, 0.03251524642109871, -0.020352235063910484, 0.02314462698996067, -0.0008306692470796406, 0.020634159445762634, -0.027279512956738472, 0.018942615017294884, 0.025440294295549393, -0.0016957399202510715, -0.013398107141256332, 0.0073770140297710896, 0.00584656884893775, 0.009699531830847263, 0.007719350513070822, 0.015787750482559204, -0.0042154365219175816, -0.015774324536323547, -0.0027554724365472794, 0.0103305047377944, -0.006289592478424311, 0.03141440078616142, -0.02776281163096428, -0.01797601766884327, 0.003513982519507408, 0.0020707997027784586, -0.020311960950493813, 0.0034015486016869545, -0.021842405200004578, -0.0006951610557734966, -0.01905001513659954, -0.022809002548456192, -0.00919609609991312, -0.00444701686501503, -0.013975380919873714, -0.019184263423085213, 0.0010320435976609588, -0.008028124459087849, -0.00825634878128767, 0.0009590453701093793, -0.02113088220357895, -0.01703627035021782, -0.012901384383440018, 0.01764039322733879, 0.017707519233226776, -0.03501228988170624, 0.015586375258862972, -0.015492401085793972, 0.006524529308080673, -0.004342973697930574, -0.0017141991993412375, 0.01256575994193554, -0.021614180877804756, 0.017680669203400612, 0.011042027734220028, -0.012914808467030525, 0.041859015822410583, -0.015613225288689137, 0.008289910852909088, -0.01844589039683342, -0.00036142501630820334, -0.005047783721238375, -0.010894352570176125, 0.010894352570176125, 0.0037556318566203117, -0.03651588410139084, -0.0061284927651286125, 0.021278556436300278, -0.0027571506798267365, -0.00016581920499447733, 0.017210794612765312, -0.02827296033501625, 0.021439656615257263, 0.0076857879757881165, 0.005423682741820812, 0.007236051838845015, -0.003166611772030592, -0.01180724985897541, -0.011511900462210178, 0.021721580997109413, 0.049001093953847885, -0.0073703015223145485, 0.040811870247125626, 0.04870574548840523, 4.981917663826607e-05, 0.028783109039068222, 0.009746518917381763, 0.013646469451487064, -0.033616092056035995, 0.0018274723552167416, -0.0071890647523105145, 0.020405935123562813, 0.022876126691699028, 0.008598685264587402, -0.060143809765577316, -0.030233003199100494, -0.007081665098667145, -0.004416810814291239, 0.022755302488803864, 0.011438063345849514, -0.004285917617380619, -0.005967393517494202, -0.0221646036952734, 0.026621690019965172, -0.020446209236979485, 0.01998976059257984, 0.01844589039683342, -0.021896105259656906, -0.0018878845730796456, 0.00875307247042656, -0.01208917424082756, 0.001810691086575389, -0.018526440486311913, -0.0054673138074576855, 0.018969465047121048, 0.0006108355592004955, 0.028809959068894386, 0.020056886598467827, 0.021909529343247414, 0.003654944710433483, -0.01084065344184637, 0.02964230626821518, -0.00889403373003006, 0.0396304726600647, 0.02746746316552162, 0.015693774446845055, 0.0005466474685817957, -0.012277123518288136, -0.015103076584637165, 0.028246110305190086, -0.0061754803173244, 0.004406742285937071, -0.029857104644179344, -0.00830333586782217, -0.002705128863453865, -0.013854555785655975, -0.003648232202976942, 0.005175320897251368, -0.01105545274913311, 0.0046483916230499744, 0.003550901310518384, 0.045242104679346085, 0.03162920102477074, 0.0053263516165316105, -0.006514460314065218, 0.006467473227530718, -0.006853440776467323, 0.012773847207427025, 0.014848003163933754, -0.009424320422112942, -0.014364704489707947, -0.015143351629376411, -0.04003322124481201, -0.014378129504621029, -0.021251708269119263, 0.005329708103090525, 0.0015640074852854013, -0.00917595811188221, -0.01251205988228321, -0.005638482049107552, 0.008417448028922081, -0.00891417171806097, 0.0015186982927843928, -0.020486485213041306, -0.03273004665970802, 0.016109948977828026, 0.029803404584527016, -0.007658937945961952, -0.024070948362350464, -0.011505188420414925, 0.00792743731290102, -0.018996315076947212, 0.01998976059257984, -0.0062459614127874374, 0.010746678337454796, -0.022983526811003685, -0.012981933541595936, -0.020593885332345963, -0.012357673607766628, 0.03434104099869728, -0.020916083827614784, 0.002401389181613922, -0.02530604414641857, -0.009034995920956135, -0.02983025461435318, -0.001717555453069508, 0.017707519233226776, 0.018794940784573555, 0.024124648422002792, -0.03138754889369011, -0.020405935123562813, 0.007773050107061863, 0.000549584161490202, -0.012122736312448978, 0.005400189198553562, 0.011921362020075321, 0.002230220939964056, 0.00880005955696106, 0.00046693679178133607, -0.0116931376978755, -0.011142714880406857, 0.02484959550201893, -0.0026900258380919695, 0.009545144625008106, -0.006484254263341427, -0.029105307534337044, 0.01460635382682085, 0.09408210217952728, -0.009518294595181942, 0.009404182434082031, 0.004248999059200287, 0.03326704353094101, 0.0010353998513892293, -0.017559845000505447, 0.012498634867370129, -0.004863190930336714, 0.0028796533588320017, -0.01404250506311655, -0.0008239567396230996, -0.004893396981060505, 0.005957324989140034, 0.022889552637934685, 0.0032857581973075867, -0.0051451148465275764, -0.005678757093846798, 0.0048128473572432995, -0.014123055152595043, 0.0013206801377236843, -0.01289467141032219, 0.01180724985897541, 0.0033411362674087286, 0.021855831146240234, 0.034797489643096924, 0.024151498451828957, 0.02643374167382717, 0.004165092948824167, 0.011048739776015282, -0.01192807499319315, -0.0009657578775659204, -0.012491922825574875, -0.011753549799323082, 0.01491512730717659, 0.00880005955696106, 0.0069138528779149055, -0.015680350363254547, -0.007672362960875034, -0.011417926289141178, 0.016740921884775162, -0.011753549799323082, 0.010176117531955242, -0.028622008860111237, 0.01447210367769003, -0.014660052955150604, -0.019412487745285034, 0.0007329187355935574, -0.015035952441394329, -0.01195492409169674, 0.019868936389684677, 0.015170201659202576, -0.018526440486311913, -0.008947733789682388, -0.010464753955602646, 0.019452763721346855, 0.015734050422906876, 0.003537476295605302, -0.028675708919763565, -0.024379722774028778, 0.008947733789682388, -0.016915446147322655, 0.005084702745079994, 0.01051174197345972, 0.007578388322144747, 0.00049840152496472, -0.0024785827845335007, -0.0010488247498869896, -0.042745064944028854, -0.0018039785791188478, -0.020526759326457977, -0.01981523633003235, -0.010639278218150139, 0.00042959864367730916, -0.011498475447297096, -0.0015170201659202576, -0.013149745762348175, -0.018848640844225883, 0.01394853089004755, 0.01998976059257984, 0.012814121320843697, 0.0043563987128436565, 0.0053162830881774426, -0.03058205358684063, -0.030420953407883644, 0.0025121450889855623, 0.013612906448543072, -0.020956357941031456, 0.008081824518740177, 0.0014389875577762723, 0.019251389428973198, 0.0006116746226325631, 0.029481206089258194, -0.04403385892510414, -0.04016747325658798, -0.011424638330936432, 0.009531719610095024, -0.012518772855401039, -0.014082780107855797, 0.0022755302488803864, 0.015774324536323547, 0.011008464731276035, -0.004628254100680351, -0.009055133908987045, 0.01206903625279665, -0.002042271662503481, -0.017009420320391655, -0.006933990400284529, -0.004255711566656828, 0.0022956677712500095, 0.0031447962392121553, -0.015586375258862972, -0.011505188420414925, 0.022889552637934685, -0.00886718463152647, 0.022003505378961563, -0.01061242911964655, 0.027131838724017143, -0.011236689053475857, -0.0017200727015733719, -0.015371575951576233, -0.040113773196935654, 0.018714390695095062, 0.028219260275363922, 0.003463638946413994, 0.01562665030360222, 0.0062526739202439785, -0.02060730941593647, -0.01289467141032219, 0.003124658716842532, -0.03213934600353241, 0.005900268908590078, -0.024634797126054764, -0.0123509606346488, -0.018902339041233063, -0.0010714794043451548, -0.008477860130369663, -0.00495045306161046, -0.025937017053365707, -0.015170201659202576, -0.004876615945249796, -0.0032907926943153143, -0.024433422833681107, -0.02177528105676174, -0.006054655648767948, -0.02513151988387108, -0.0010119061917066574, -0.016432147473096848, -0.0018778159283101559, 0.02958860620856285, -0.0228224266320467, -0.0015883402666077018, -0.022231729701161385, 0.001884528319351375, 0.005990887060761452, -0.012451647780835629, -0.022178029641509056, -0.0010899386834353209, 0.0009439422865398228, 0.025668518617749214, 0.018311642110347748, 0.014378129504621029, 0.03119960054755211, 0.00036750821163877845, 0.002351045608520508, 0.004285917617380619, -0.00799456238746643, 0.0018274723552167416, -0.028809959068894386, 0.002273852238431573, 0.029937654733657837, 0.015774324536323547, 0.01213616132736206, 0.003057534107938409, -0.004487291909754276, 0.03514653816819191, 0.018741240724921227, -0.0040509807877242565, -0.008115386590361595, -0.018096841871738434, -0.000954850111156702, -0.0042087240144610405, -0.012102599255740643, 0.018929189071059227, 0.007940862327814102, 0.003708644537255168, 0.03329389542341232, 0.02192295528948307, -0.012599322013556957, -0.0013659894466400146, 0.012485209852457047, -0.04016747325658798, 0.03477063775062561, -0.01018283050507307, -0.015452126041054726, -0.012887959368526936, -0.0029652374796569347, -0.018848640844225883, -0.03997952118515968, 0.024312596768140793, 0.020432785153388977, 0.0013920002384111285, -0.0116931376978755, 0.02117115817964077, 0.0005764340749010444, 0.004658460151404142, -0.016969146206974983, -0.013398107141256332, -0.016915446147322655, -0.014955402351915836, -0.0054706702940166, -0.004017418250441551, -0.030367253348231316, -0.03571038693189621, -0.0036515884567052126, -0.004118105862289667, -0.020338810980319977, 0.031494949012994766, -0.01070640329271555, -0.008746359497308731, -0.02564166858792305, -0.013398107141256332, 0.008860471658408642, -0.003507270012050867, 0.03256894648075104, 0.018043141812086105, 0.012438222765922546, -0.021587330847978592, 0.016405297443270683, -0.014351279474794865, -0.00440002977848053, 0.01628447324037552, -0.00884704664349556, 0.01848616637289524, -0.02310435101389885, 0.010458041913807392, -0.006081505678594112, -0.003701932029798627, 0.001267819432541728, 0.03613998368382454, -0.006279523950070143, 0.0022889552637934685, -0.008954446762800217, 0.002329230075702071, 0.023587649688124657, 0.019936062395572662, -0.025091245770454407, -0.00477592833340168, 0.006289592478424311, -0.016821471974253654, -0.008410735987126827, 0.02977655455470085, -0.02295667678117752, 0.02455424703657627, 0.011605875566601753, 0.010370779782533646, 0.010008305311203003, -0.009531719610095024, 0.006343292538076639, -0.00584656884893775, 0.006655422504991293, 0.00830333586782217, -0.008659097366034985, 0.009806931018829346, 0.022097479552030563, -0.0048296283930540085, -0.005910337436944246, 0.003232058370485902, 0.01788204349577427, 0.03141440078616142, -0.031226450577378273, -0.007900587283074856, 0.003701932029798627, 0.012572472915053368, -0.0018862064462155104, -0.045564305037260056, -0.008088536560535431, 0.0040107062086462975, -0.007564963307231665, -0.003933512605726719, 0.012330823577940464, -0.00124936003703624, -0.008417448028922081, -0.010135842487215996, -0.007759625092148781, -0.028299810364842415, -0.004453729372471571, 0.004440304823219776, 0.029132157564163208, -0.01470032799988985, -0.007074952591210604, -0.005185389891266823, 0.003819400444626808, 0.015250751748681068, -0.00043127674143761396, -0.006323155015707016, -0.0067158350721001625, 0.01373373158276081, -0.019828662276268005, 0.0056250570341944695, -0.0031447962392121553, 0.01623077318072319, -0.01816396787762642, 0.026688814163208008, -0.005564644932746887, -0.004913534503430128, 0.0008189224172383547, 0.0064339106902480125, 0.0009137361776083708, -0.017277920618653297, 0.00514175882562995, 0.026661965996026993, -0.003002156037837267, -0.014848003163933754, 0.02680964022874832, -0.029749704524874687, -0.005849925335496664, -0.004802778363227844, -0.03447528928518295, 0.03597888723015785, 0.0045242104679346085, -0.0136666065081954, 0.021560480818152428, -0.007417289074510336, 0.0247958954423666, 0.01289467141032219, -0.00985391903668642, 0.008840334601700306, -0.013310845009982586, 0.006668847519904375, -0.007323313970118761, 0.03820742666721344, -0.033105943351984024, 0.009632406756281853, 0.003537476295605302, -0.02211090549826622, -0.0207549836486578, 0.017210794612765312, -0.0020221341401338577, -0.023131201043725014, 0.03251524642109871, 0.03044780343770981, -0.013438382185995579, 0.022473378106951714, 0.02597729302942753, -0.017855193465948105, -0.008974583819508553, 0.0031145901884883642, -0.012163011357188225, -0.003258908400312066, -0.015747474506497383, 0.04502730816602707, -0.015921998769044876, -0.011095726862549782, 0.007987849414348602, 0.007947574369609356, -0.04551060497760773, -0.018593566492199898, 0.006303017493337393, 0.03025985322892666, 0.029534906148910522, 0.009484732523560524, 0.004383248742669821, 0.019063439220190048, -0.005376695189625025, 0.011377651244401932, -0.012075749225914478, -0.01741216890513897, 0.011619300581514835, -0.009377332404255867, -0.007981137372553349, -0.011136001907289028, -0.048625193536281586, 0.0013022208586335182, 0.022929826751351357, 0.007504551205784082, -0.01929166354238987, 0.010914490558207035, -0.0015178592875599861, -0.001000998425297439, -0.014029080048203468, -0.024245472624897957, -0.014391554519534111, 0.009276645258069038, 0.02423204854130745, -0.052384182810783386, -0.012814121320843697, -0.0019046658417209983, -0.015009102411568165, -0.0005940543487668037, 0.0038563190028071404, -0.01176026277244091, -0.001045468496158719, 0.002231899183243513, -0.011344089172780514, -0.018378766253590584, 0.001986893592402339, -0.028299810364842415, 0.009578706696629524, 0.012478497810661793, 0.010015018284320831, -0.006484254263341427, 0.029051607474684715, -0.00011075590009568259, -0.027252662926912308, -0.0018778159283101559, -0.04567170515656471, 0.002871262840926647, -0.016821471974253654, -0.013935105875134468, -0.006662135012447834, -0.031924549490213394, 0.00847114808857441, -0.04559115320444107, -0.023158051073551178, -0.014673477970063686, -0.00026640150463208556, -0.012223423458635807, 0.020902657881379128, 0.04553745687007904, -0.033105943351984024, -0.01404250506311655, -0.0013685065787285566, -0.019868936389684677, -0.012773847207427025, -0.011585738509893417, 0.0059304749593138695, -0.03256894648075104, 0.0038630315102636814, 0.012700009159743786, -0.017371894791722298, -0.028917357325553894, -0.010645991191267967, 0.011042027734220028, -0.030367253348231316, 0.02229885384440422, 0.18225722014904022, -0.010760103352367878, 0.011518613435328007, 0.025749068707227707, 0.003950293641537428, 0.023936698213219643, 0.020822107791900635, 0.012928233481943607, 0.0027017726097255945, 0.020405935123562813, -0.02027168497443199, -0.0061754803173244, -0.018096841871738434, -0.003805975429713726, 0.026755940169095993, -0.030608901754021645, -0.010592291131615639, -0.02616524137556553, -0.012297260574996471, 0.025279194116592407, 0.021990079432725906, -0.000948137603700161, -0.02635319158434868, -0.00543375127017498, 0.02827296033501625, -0.012485209852457047, 0.0032287021167576313, -0.0002951392962131649, 0.009209521114826202, 0.0014700328465551138, 0.004779284819960594, -0.026890190318226814, 0.00236447062343359, 0.002443342236801982, -0.011941499076783657, 0.007142077200114727, 0.018365342170000076, -0.007967712357640266, 0.02846090868115425, 0.018700964748859406, -0.0007215914665721357, 0.011673000641167164, -0.02103690803050995, -0.03302539512515068, -0.008860471658408642, 0.031494949012994766, -0.009055133908987045, 0.014337854459881783, -0.002632969757542014, -0.008571835234761238, -0.03077000193297863, -0.018325066193938255, 0.006561447866261005, 0.0032438053749501705, 0.019251389428973198, 0.002441663993522525, 0.024769045412540436, 0.01717052049934864, 0.013210157863795757, 0.0109883276745677, -0.003312608227133751, 0.03584463521838188, -0.0194393377751112, 0.027923911809921265, -0.029696006327867508, 0.007987849414348602, -0.032300446182489395, 0.001110076205804944, 0.03125330060720444, 0.004359754733741283, 0.00924308318644762, -0.009887481108307838, -0.013243719935417175, 0.023023800924420357, -0.0027084851171821356, -0.02117115817964077, 0.016271047294139862, 0.0005399350193329155, 0.000510148354806006, 0.01647242344915867, -0.01867411471903324, -0.003062568372115493, 0.005551219917833805, -0.01084065344184637, -3.8386988308047876e-05, -0.0437653623521328, 0.027212388813495636, -0.01147833839058876, -0.027789661660790443, -0.01279398426413536, -0.005171964876353741, -0.00858526024967432, 0.010505029000341892, -0.012538909912109375, 0.054075729101896286, 0.031494949012994766, 0.009451169520616531, 0.012740284204483032, -0.02267475239932537, 0.001316484878771007, 0.009431032463908195, 0.0075381132774055, 0.014686902984976768, -0.004782640840858221, 0.004608116578310728, 0.003307573962956667, -0.012491922825574875, 0.0011344088707119226, 0.013492082245647907, -0.0009212876902893186, 0.008377172984182835, -0.0033545612823218107, 0.012337535619735718, -0.0024299172218889, -0.008645672351121902, -0.00011757326137740165, -0.0040107062086462975, -0.01174012478441, 0.001425562659278512, -0.01016269251704216, -0.004091255832463503, -0.03810003027319908, -0.001731819473206997, -0.0013685065787285566, -0.028997907415032387, -0.014727178029716015, -0.039120323956012726, -0.009162533096969128, -0.005900268908590078, -0.046692002564668655, 0.008169086650013924, 0.00510483980178833, 0.026312915608286858, -0.009263220243155956, -0.0069138528779149055, -0.025185219943523407, 0.014029080048203468, -0.04967234283685684, -0.01016269251704216, 0.03329389542341232, 0.007840175181627274, -0.008612110279500484, -0.005920405965298414, 0.008108674548566341, -0.0007283039158210158, -0.00021563837071880698, 0.015975698828697205, 0.01773436926305294, -0.033669792115688324, -0.011605875566601753, 0.009887481108307838, -0.03914717584848404, 0.01138436421751976, -0.0015312841860577464, 0.03847592696547508, -0.015049377456307411, -0.03890552744269371, -0.0016453963471576571, -0.005782800260931253, -0.006021093111485243, -0.0413220189511776, 0.012062324211001396, 0.017747793346643448, 0.0035777511075139046, -0.025346320122480392, 0.004242286551743746, -0.1707654595375061, 0.006618503946810961, 0.004762503784149885, -0.01976153627038002, 0.013680031523108482, 0.01608309894800186, 0.013243719935417175, 0.010760103352367878, 0.007893875241279602, -0.012921521440148354, 0.02248680405318737, 0.008370460942387581, -0.029185857623815536, -0.007746200542896986, -0.0029518124647438526, -0.0046618166379630566, -0.018808364868164062, 0.001112593337893486, 0.020030036568641663, -0.001441504806280136, 0.0239501241594553, -0.032622646540403366, 0.03090425208210945, -0.023399701341986656, 0.013196732848882675, 0.01900973916053772, 0.025346320122480392, -0.01886206492781639, 0.0019080220954492688, -0.008746359497308731, -0.0005848247092217207, 0.00269338209182024, 0.03882497549057007, -0.0015514215920120478, 0.003829468972980976, 0.0051686083897948265, -0.010478178970515728, 0.004594691563397646, -0.013680031523108482, 0.041563667356967926, 0.029051607474684715, 0.015438701026141644, 0.011726699769496918, 0.021251708269119263, -0.0109413405880332, 0.008813484571874142, -0.005554575938731432, -0.01491512730717659, 0.00442352332174778, 0.005849925335496664, 0.034797489643096924, -0.0020506621804088354, 0.0017905536806210876, -0.009431032463908195, 0.00466852867975831, 0.02149335667490959, 0.01312289573252201, -0.010833940468728542, 0.026138391345739365, -0.007645513396710157, -0.029239557683467865, -0.02738691307604313, 0.018177391961216927, 0.006158699281513691, -0.004097968339920044, -0.029481206089258194, -0.024715347215533257, 0.03270319476723671, -0.012887959368526936, -0.00016949008568190038, -0.007007827516645193, -0.017103396356105804, 0.035361338406801224, -0.009652543812990189, 0.01981523633003235, 0.011592450551688671, 0.004638322629034519, 0.023211751133203506, -0.0021832336205989122, -0.008887321688234806, -0.024164922535419464, 0.04285246506333351, -0.032676346600055695, 0.0006846727919764817, -0.0072293393313884735, 0.0006666330154985189, -0.010249954648315907, 0.004138242918998003, -0.024782471358776093, -0.011068876832723618, 0.013867980800569057, -0.0023023802787065506, 0.003701932029798627, 0.010719828307628632, 0.022943252697587013, 0.02550741843879223, -0.004138242918998003, 0.024003824219107628, -0.008477860130369663, -0.006678916048258543, 0.011404501274228096, -0.013498794287443161, -3.891139931511134e-05, 0.018754664808511734, 0.024124648422002792, 0.01886206492781639, -0.02248680405318737, 0.03882497549057007, 0.01773436926305294, 0.002948456211015582, -0.022178029641509056, -0.009941181167960167, 0.011048739776015282, -0.00011149007332278416, -0.03353554382920265, 0.01989578641951084, 0.023507099598646164, -0.010417766869068146, 0.03383089229464531, 0.01703627035021782, 0.02846090868115425, -0.012297260574996471, -0.02399039827287197, 0.01105545274913311, -0.020486485213041306, -0.01741216890513897, -0.10272777080535889, 0.003117946209385991, 0.03520023822784424, 0.00912897102534771, -0.01741216890513897, 0.02776281163096428, 0.005557932425290346, 0.0034938452299684286, 0.005077990237623453, -0.00037422068999148905, 0.01933193765580654, 0.002559132408350706, -0.0008717831806279719, -0.018647266551852226, 0.04454400762915611, -0.01572062447667122, -0.004634966608136892, -0.0023376205936074257, -0.0006431393558159471, 0.00922294519841671, -0.011283676140010357, -0.02070128358900547, 0.002983696758747101, -0.0010580543894320726, -0.01900973916053772, 0.005698894150555134, -0.026621690019965172, 0.02451397106051445, 0.008558410219848156, 0.012391235679388046, -0.011881086975336075, -0.025346320122480392, 0.03264949470758438, -0.01447210367769003, -0.016955720260739326, -0.008920883759856224, -0.03469008952379227, -0.027789661660790443, 0.0200031865388155, -0.010625854134559631, -0.0011394432513043284, 0.004634966608136892, 0.01623077318072319, -0.026514289900660515, -0.005514301359653473, -0.01848616637289524, -0.03675753250718117, 0.007632088381797075, -0.011444776318967342, 0.0037891941610723734, -0.017479294911026955, -0.03383089229464531, -0.009162533096969128, -0.014566078782081604, 0.00181740359403193, -0.0033277112524956465, 0.0005537794786505401, -0.002401389181613922, -0.0195333119481802, 0.0038462502416223288, -0.03095795214176178, -0.006762822158634663, -0.007739488035440445, 0.021104032173752785, 0.0059539685025811195, 0.007806612644344568, 0.002883009612560272, -0.01966756209731102, 0.021802131086587906, 0.0025742356665432453, -0.014646627940237522, 0.033052243292331696, -0.010995039716362953, 0.012693297117948532, -0.048249296844005585, -0.0037120007909834385, -0.023198327049613, 0.012545622885227203, 0.02672909013926983, -0.03544188663363457, -0.022124329581856728, -0.026366615667939186, -0.01910371333360672, -0.005071277730166912, 0.018526440486311913, 0.023641349747776985, 0.04569855332374573, -0.00018270527652930468, 0.0008642316097393632, -0.019063439220190048, -0.001003515557385981, 0.011243402026593685, 0.01694229617714882, -0.0013693455839529634, -0.0015094686532393098, 0.013760581612586975, -0.0057727317325770855, 0.0030373965855687857, 0.023305725306272507, 0.0011805571848526597, 0.0015589731046929955, -0.03622053563594818, -0.07330026477575302, 0.012102599255740643, 0.004849765915423632, 0.003896593814715743, 0.01726449467241764, -0.014619778841733932, 0.03224674612283707, 0.002883009612560272, -0.008175798691809177, 0.01623077318072319, -0.009122258052229881, -0.010317079722881317, -0.0036314509343355894, -0.012263698503375053, -0.031870849430561066, -0.002961881225928664, 0.0001862712815636769, -0.0009288392029702663, 0.03278374671936035, 0.012881246395409107, -0.023869574069976807, -0.007732775527983904, 0.015505826100707054, -0.003411617362871766, -0.023882998153567314, 0.0026463947724550962, -0.010035155341029167, 0.014780878089368343, 0.006081505678594112, 0.0012627850519493222, 0.013310845009982586, -0.02757486142218113, -0.016552971675992012, 0.010478178970515728, -0.0215067807585001, -0.031307000666856766, -0.012431510724127293, 0.02932010591030121, 0.006534597836434841, 0.026755940169095993, -0.03477063775062561, 0.004279205109924078, 0.03839537873864174, -0.008732934482395649, -0.012787272222340107, 0.005148471333086491, 0.017895467579364777, -0.000711522763594985, 0.004265780095010996, 0.02511809580028057, 0.02560139261186123, 0.019546737894415855, 0.03971102461218834, -0.01572062447667122, -0.013371257111430168, -0.01590857468545437, 0.02126513235270977, -0.012773847207427025, 0.0009204486268572509, -0.014015655033290386, 0.005651907064020634, 0.027494313195347786, 0.019882362335920334, 0.0034737077075988054, 0.0062526739202439785, 0.001191464951261878, -0.02305065095424652, -7.05859056324698e-05, 0.024393146857619286, -0.007954287342727184, -0.011310526169836521, -0.0022772084921598434, 0.0027554724365472794, 0.018553290516138077, 0.020714709535241127, -0.0062459614127874374, 0.008001274429261684, -0.002772253705188632, -0.005198814906179905, 0.011766974814236164, 0.004571198020130396, -0.009142396040260792, -0.0629362016916275, 0.02121143229305744, 0.0012208319967612624, -0.012780559249222279, 0.0015480653382837772, -0.01317659579217434, -0.012545622885227203, 0.025010695680975914, -0.002668210305273533, 0.02070128358900547, -0.002923284424468875, 0.0003729620948433876, -0.011438063345849514, 0.009001433849334717, 0.01070640329271555, -0.02103690803050995, -0.0056485505774617195, 0.035173386335372925, 0.009813643991947174, 0.017492718994617462, 0.01060571614652872, -0.022406253963708878, -0.01915741339325905, 0.002074155956506729, -0.020862383767962456, -0.026715664193034172, -0.015116501599550247, 0.019546737894415855, 0.0011134323431178927, 0.017720943316817284, 0.01816396787762642, 0.0065278853289783, -0.008779922500252724, 0.0065278853289783, -0.01600254885852337, -0.030286703258752823, -0.0064171296544373035, 0.002638004021719098, -0.02705128863453865, 0.03665013238787651, 0.006145274266600609, -0.0025792699307203293, 0.013774005696177483, -0.01082051545381546, 0.015935424715280533, 0.029508056119084358, -0.021842405200004578, -0.0006578228785656393, -0.028434058651328087, -0.018311642110347748, -0.01675434596836567, -0.026567989960312843, -0.013894830830395222, 0.017425594851374626, 0.02169473096728325, 0.015787750482559204, -0.0041986554861068726, 0.04440975934267044, 0.0247019212692976, -0.01670064777135849, 0.0007408898090943694, 0.0054673138074576855, 0.03482433781027794, -0.009149108082056046, 0.0051350463181734085, 0.00416173692792654, -0.02564166858792305, 0.014713753014802933, -0.003344492521136999, 0.007001115009188652, -0.01797601766884327, -0.027037864550948143, 0.00889403373003006, -0.013451807200908661, 0.014029080048203468, -0.02521206997334957, 0.01703627035021782, 0.0013936783652752638, -0.005920405965298414, 0.0009414251544512808, -0.016821471974253654, -0.03315964341163635, 0.005685469601303339, 0.005950612481683493, -0.008578547276556492, -0.00858526024967432, -0.04701419919729233, -0.013411532156169415, 0.019372213631868362, -0.02088923379778862, -0.013163170777261257, 0.006145274266600609, -0.01694229617714882, -0.00814223662018776, -0.012243561446666718, 0.022567352280020714, 0.017720943316817284, 0.01745244488120079, 0.004289273638278246, -0.02074155956506729, -0.016714071854948997, -0.0034367891494184732, -0.006514460314065218, -0.007840175181627274, 0.013458519242703915, -0.019076865166425705]\n"
     ]
    }
   ],
   "source": []
  }
 ],
 "metadata": {
  "kernelspec": {
   "display_name": "Python 3",
   "language": "python",
   "name": "python3"
  },
  "language_info": {
   "codemirror_mode": {
    "name": "ipython",
    "version": 3
   },
   "file_extension": ".py",
   "mimetype": "text/x-python",
   "name": "python",
   "nbconvert_exporter": "python",
   "pygments_lexer": "ipython3",
   "version": "3.12.1"
  }
 },
 "nbformat": 4,
 "nbformat_minor": 2
}
